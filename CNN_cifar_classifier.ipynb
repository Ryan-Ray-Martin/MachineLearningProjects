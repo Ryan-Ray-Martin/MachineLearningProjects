{
  "nbformat": 4,
  "nbformat_minor": 0,
  "metadata": {
    "colab": {
      "name": "CNN_cifar_classifier.ipynb",
      "provenance": [],
      "collapsed_sections": [],
      "machine_shape": "hm"
    },
    "kernelspec": {
      "name": "python3",
      "display_name": "Python 3"
    },
    "accelerator": "GPU"
  },
  "cells": [
    {
      "cell_type": "markdown",
      "metadata": {
        "id": "5XHBpCexS5BU",
        "colab_type": "text"
      },
      "source": [
        "Imports"
      ]
    },
    {
      "cell_type": "markdown",
      "metadata": {
        "id": "YhcYG7nzFbeJ",
        "colab_type": "text"
      },
      "source": [
        "#### Ryan Martin\n",
        "#### CS 6140: Machine Learning\n",
        "#### 12/12/19\n",
        "#### Dr. Craig Martell\n",
        "\n",
        "\n",
        "\n",
        "# Convolutional Neural Network: CIFAR-10 Dataset\n",
        "## Frame the Problem and Look at the Big Picture:\n",
        "#### In this dataset, we are given 60000 32x32 colour images in 10 classes, with 6000 images per class and 50000 training images and 10000 test images. Each of these ten classes consist of the following objects: airplane, automobile, bird, cat, deer, dog, frog, horse, ship, and trucks. All these images of listed objects are mutually exclusive, so there are no overlapping classes such as automobiles and trucks because trucks contain only large commercial vehicles.\n",
        "#### The task in this project is to create a Convolutional Neural Network that will achieve ~75% accuracy without overfitting.\n",
        "\n",
        "#### For this project, we will be using the Keras library.\n",
        "\n",
        "## Get the Data:\n",
        "#### We will download the data in a way that will allow for us to access and monitor the training set and test set and validation set. By using ngrok, we can create a public URL to access the localhost of the ipython environment in Google Colab. This will make it possible for us to access the TensorBoard on our local machine and have more control over the batches of data."
      ]
    },
    {
      "cell_type": "code",
      "metadata": {
        "id": "z0DRPKl39290",
        "colab_type": "code",
        "outputId": "dbc68567-0fb5-4d50-dd5b-ecebb5797a72",
        "colab": {
          "base_uri": "https://localhost:8080/",
          "height": 80
        }
      },
      "source": [
        "import numpy as np\n",
        "import pickle\n",
        "import os\n",
        "import urllib\n",
        "import zipfile \n",
        "import tarfile\n",
        "from six.moves import urllib\n",
        "\n",
        "from __future__ import absolute_import\n",
        "from __future__ import division\n",
        "from __future__ import print_function\n",
        "\n",
        "# tensorflow imports\n",
        "import tensorflow as tf\n",
        "from tensorflow.contrib.training import HParams\n",
        "\n",
        "# tf.keras imports\n",
        "from tensorflow.keras import Model\n",
        "from tensorflow.keras.layers import Dense, Conv2D, Activation, Flatten\n",
        "from tensorflow.keras.layers import MaxPooling2D, Dropout\n",
        "from tensorflow.keras.layers import BatchNormalization, AveragePooling2D, Input\n",
        "from tensorflow.keras.preprocessing.image import ImageDataGenerator\n",
        "\n",
        "from keras.models import Sequential\n",
        "from keras.optimizers import adam\n",
        "from keras.utils import np_utils\n",
        "\n",
        "# import for showing the confusion matrix\n",
        "import itertools\n",
        "from sklearn.metrics import confusion_matrix\n",
        "import matplotlib.pyplot as plt\n",
        "import numpy as np"
      ],
      "execution_count": 0,
      "outputs": [
        {
          "output_type": "display_data",
          "data": {
            "text/html": [
              "<p style=\"color: red;\">\n",
              "The default version of TensorFlow in Colab will soon switch to TensorFlow 2.x.<br>\n",
              "We recommend you <a href=\"https://www.tensorflow.org/guide/migrate\" target=\"_blank\">upgrade</a> now \n",
              "or ensure your notebook will continue to use TensorFlow 1.x via the <code>%tensorflow_version 1.x</code> magic:\n",
              "<a href=\"https://colab.research.google.com/notebooks/tensorflow_version.ipynb\" target=\"_blank\">more info</a>.</p>\n"
            ],
            "text/plain": [
              "<IPython.core.display.HTML object>"
            ]
          },
          "metadata": {
            "tags": []
          }
        },
        {
          "output_type": "stream",
          "text": [
            "Using TensorFlow backend.\n"
          ],
          "name": "stderr"
        }
      ]
    },
    {
      "cell_type": "markdown",
      "metadata": {
        "id": "BXSBbyK1FyBh",
        "colab_type": "text"
      },
      "source": [
        "#### Download and install [ngrok](https://ngrok.com/). "
      ]
    },
    {
      "cell_type": "code",
      "metadata": {
        "id": "L35DdtT_FOXP",
        "colab_type": "code",
        "outputId": "dd783bef-dc29-4a2a-f1cd-066684452a12",
        "colab": {
          "base_uri": "https://localhost:8080/",
          "height": 238
        }
      },
      "source": [
        "! wget https://bin.equinox.io/c/4VmDzA7iaHb/ngrok-stable-linux-amd64.zip\n",
        "! unzip -o ngrok-stable-linux-amd64.zip"
      ],
      "execution_count": 0,
      "outputs": [
        {
          "output_type": "stream",
          "text": [
            "--2019-12-13 04:16:27--  https://bin.equinox.io/c/4VmDzA7iaHb/ngrok-stable-linux-amd64.zip\n",
            "Resolving bin.equinox.io (bin.equinox.io)... 52.204.223.154, 3.231.170.111, 34.227.147.55, ...\n",
            "Connecting to bin.equinox.io (bin.equinox.io)|52.204.223.154|:443... connected.\n",
            "HTTP request sent, awaiting response... 200 OK\n",
            "Length: 13773305 (13M) [application/octet-stream]\n",
            "Saving to: ‘ngrok-stable-linux-amd64.zip’\n",
            "\n",
            "ngrok-stable-linux- 100%[===================>]  13.13M  19.2MB/s    in 0.7s    \n",
            "\n",
            "2019-12-13 04:16:28 (19.2 MB/s) - ‘ngrok-stable-linux-amd64.zip’ saved [13773305/13773305]\n",
            "\n",
            "Archive:  ngrok-stable-linux-amd64.zip\n",
            "  inflating: ngrok                   \n"
          ],
          "name": "stdout"
        }
      ]
    },
    {
      "cell_type": "markdown",
      "metadata": {
        "id": "EB5P9HvKEblD",
        "colab_type": "text"
      },
      "source": [
        "#### Now we can run `ngrok` in the `ipython` environment and tunnel the data to a public, random URL."
      ]
    },
    {
      "cell_type": "code",
      "metadata": {
        "id": "YwZrIjZkEEYu",
        "colab_type": "code",
        "outputId": "6ae8318e-e2bf-4bce-e669-e707410c27bd",
        "colab": {
          "base_uri": "https://localhost:8080/",
          "height": 51
        }
      },
      "source": [
        "# kill all running ngrok instances\n",
        "!pkill -f ngrok\n",
        "\n",
        "# Execute tensorboard\n",
        "!rm rf /tmp/checkpoints\n",
        "!mkdir /tmp/checkpoints\n",
        "LOG_DIR = '/tmp/checkpoints/'\n",
        "get_ipython().system_raw(\n",
        "    'tensorboard --logdir {} --host 0.0.0.0 --port 6006 &'\n",
        "    .format(LOG_DIR)\n",
        ")\n",
        "\n",
        "# execute ngrok\n",
        "get_ipython().system_raw('./ngrok http 6006 &')"
      ],
      "execution_count": 0,
      "outputs": [
        {
          "output_type": "stream",
          "text": [
            "rm: cannot remove 'rf': No such file or directory\n",
            "rm: cannot remove '/tmp/checkpoints': No such file or directory\n"
          ],
          "name": "stdout"
        }
      ]
    },
    {
      "cell_type": "markdown",
      "metadata": {
        "id": "gkCnSnAREdny",
        "colab_type": "text"
      },
      "source": [
        "\n",
        "\n",
        "\n",
        "#### The code below outputs a URL containing the TensorBoard visualizations for the classifier we will train and evaluate."
      ]
    },
    {
      "cell_type": "code",
      "metadata": {
        "id": "3Imio4YREFzg",
        "colab_type": "code",
        "outputId": "421bebd3-092b-4198-baef-f3d6cf4e4819",
        "colab": {
          "base_uri": "https://localhost:8080/",
          "height": 34
        }
      },
      "source": [
        "# Do the tunneling\n",
        "! curl -s http://localhost:4040/api/tunnels | python3 -c \\\n",
        "    \"import sys, json; print(json.load(sys.stdin)['tunnels'][0]['public_url'])\""
      ],
      "execution_count": 0,
      "outputs": [
        {
          "output_type": "stream",
          "text": [
            "https://2b3a9070.ngrok.io\n"
          ],
          "name": "stdout"
        }
      ]
    },
    {
      "cell_type": "markdown",
      "metadata": {
        "id": "0KqmhIDXTKK7",
        "colab_type": "text"
      },
      "source": [
        "## Data download and preprocessing"
      ]
    },
    {
      "cell_type": "code",
      "metadata": {
        "id": "tS4-fVqIxmh9",
        "colab_type": "code",
        "colab": {}
      },
      "source": [
        "\n",
        "hparams = HParams(\n",
        "    n_classes=10,  # number of different classes in dataset\n",
        "    learning_rate=1e-4,  # fixed learning rate\n",
        "    train_batch_size=32,  # training batch size\n",
        "    val_batch_size=32,  # validation batch size\n",
        "    test_batch_size=32,  # testing batch size\n",
        "    n_epochs=10,  # number of epochs to train\n",
        "    input_name='input_1',  # name of the input tensor for first layer of Keras model\n",
        "    data_dir='/tmp/cifar-data/',  # path to data directory\n",
        "    checkpoint_dir='/tmp/checkpoints/'  # path to model checkpoint directory\n",
        ")"
      ],
      "execution_count": 0,
      "outputs": []
    },
    {
      "cell_type": "markdown",
      "metadata": {
        "id": "VuC2mMKOIIRJ",
        "colab_type": "text"
      },
      "source": [
        "#### This code is for downloading and preprocessing of the CIFAR-10 dataset."
      ]
    },
    {
      "cell_type": "code",
      "metadata": {
        "id": "2EpQ-iJN94G1",
        "colab_type": "code",
        "colab": {}
      },
      "source": [
        "# URL for the data-set on the internet.\n",
        "data_url = \"https://www.cs.toronto.edu/~kriz/cifar-10-python.tar.gz\"\n",
        "\n",
        "# Width and height of each image.\n",
        "img_size = 32\n",
        "\n",
        "# Number of channels in each image, 3 channels: Red, Green, Blue.\n",
        "num_channels = 3\n",
        "\n",
        "# Length of an image when flattened to a 1-dim array.\n",
        "img_size_flat = img_size * img_size * num_channels\n",
        "\n",
        "# Number of classes.\n",
        "num_classes = hparams.n_classes\n",
        "\n",
        "# Number of files for the training-set.\n",
        "_num_files_train = 5\n",
        "\n",
        "# Number of images for each batch-file in the training-set.\n",
        "_images_per_file = 10000\n",
        "\n",
        "# Total number of images in the training-set.\n",
        "# This is used to pre-allocate arrays for efficiency.\n",
        "_num_images_train = _num_files_train * _images_per_file\n",
        "\n",
        "\n",
        "def download(base_url, filename, download_dir):\n",
        "\n",
        "    # Path for local file.\n",
        "    save_path = os.path.join(download_dir, filename)\n",
        "\n",
        "    # Check if the file already exists, otherwise we need to download it now.\n",
        "    if not os.path.exists(save_path):\n",
        "        # Check if the download directory exists, otherwise create it.\n",
        "        if not os.path.exists(download_dir):\n",
        "            os.makedirs(download_dir)\n",
        "\n",
        "        print(\"Downloading\", filename, \"...\")\n",
        "\n",
        "        # Download the file from the internet.\n",
        "        url = base_url + filename\n",
        "        file_path, _ = urllib.request.urlretrieve(url=url,\n",
        "                                                  filename=save_path)\n",
        "\n",
        "        print(\" Done!\")\n",
        "\n",
        "\n",
        "def maybe_download_and_extract(url=data_url, download_dir=hparams.data_dir):\n",
        "\n",
        "    # Filename for saving the file downloaded from the internet.\n",
        "    # Use the filename from the URL and add it to the download_dir.\n",
        "    filename = url.split('/')[-1]\n",
        "    file_path = os.path.join(download_dir, filename)\n",
        "\n",
        "    # Check if the file already exists.\n",
        "    # If it exists then we assume it has also been extracted,\n",
        "    # otherwise we need to download and extract it now.\n",
        "    if not os.path.exists(file_path):\n",
        "        # Check if the download directory exists, otherwise create it.\n",
        "        if not os.path.exists(download_dir):\n",
        "            os.makedirs(download_dir)\n",
        "\n",
        "        # Download the file from the internet.\n",
        "        file_path, _ = urllib.request.urlretrieve(url=url,\n",
        "                                                  filename=file_path)\n",
        "\n",
        "        print()\n",
        "        print(\"Download finished. Extracting files.\")\n",
        "\n",
        "        if file_path.endswith(\".zip\"):\n",
        "            # Unpack the zip-file.\n",
        "            zipfile.ZipFile(file=file_path, mode=\"r\").extractall(download_dir)\n",
        "        elif file_path.endswith((\".tar.gz\", \".tgz\")):\n",
        "            # Unpack the tar-ball.\n",
        "            tarfile.open(name=file_path, mode=\"r:gz\").extractall(download_dir)\n",
        "\n",
        "        print(\"Done.\")\n",
        "    else:\n",
        "        print(\"Data has apparently already been downloaded and unpacked.\")\n",
        "\n",
        "\n",
        "def _get_file_path(filename=\"\"):\n",
        "\n",
        "    return os.path.join(hparams.data_dir, \"cifar-10-batches-py/\", filename)\n",
        "\n",
        "\n",
        "def _unpickle(filename):\n",
        "\n",
        "    # Create full path for the file.\n",
        "    file_path = _get_file_path(filename)\n",
        "\n",
        "    print(\"Loading data: \" + file_path)\n",
        "\n",
        "    with open(file_path, mode='rb') as file:\n",
        "        # In Python 3.X it is important to set the encoding,\n",
        "        # otherwise an exception is raised here.\n",
        "        data = pickle.load(file,encoding='bytes')\n",
        "\n",
        "    return data\n",
        "\n",
        "\n",
        "def _convert_images(raw):\n",
        "\n",
        "    # Convert the raw images from the data-files to floating-points.\n",
        "    raw_float = np.array(raw, dtype=float) / 255.0\n",
        "\n",
        "    # Reshape the array to 4-dimensions.\n",
        "    images = raw_float.reshape([-1, num_channels, img_size, img_size])\n",
        "\n",
        "    # Reorder the indices of the array.\n",
        "    images = images.transpose([0, 2, 3, 1])\n",
        "\n",
        "    return images\n",
        "\n",
        "\n",
        "def _load_data(filename):\n",
        "\n",
        "    # Load the pickled data-file.\n",
        "    data = _unpickle(filename)\n",
        "\n",
        "    # Get the raw images.\n",
        "    raw_images = data[b'data']\n",
        "\n",
        "    # Get the class-numbers for each image. Convert to numpy-array.\n",
        "    cls = np.array(data[b'labels'])\n",
        "\n",
        "    # Convert the images.\n",
        "    images = _convert_images(raw_images)\n",
        "\n",
        "    return images, cls\n",
        "\n",
        "\n",
        "def load_class_names():\n",
        "    # Load the class-names from the pickled file.\n",
        "    raw = _unpickle(filename=\"batches.meta\")[b'label_names']\n",
        "\n",
        "    # Convert from binary strings.\n",
        "    names = [x.decode('utf-8') for x in raw]\n",
        "\n",
        "    return names\n",
        "\n",
        "\n",
        "def load_training_data():\n",
        "\n",
        "    # Pre-allocate the arrays for the images and class-numbers for efficiency.\n",
        "    images = np.zeros(shape=[_num_images_train, img_size, img_size, num_channels], dtype=float)\n",
        "    cls = np.zeros(shape=[_num_images_train], dtype=int)\n",
        "\n",
        "    # Begin-index for the current batch.\n",
        "    begin = 0\n",
        "\n",
        "    # For each data-file.\n",
        "    for i in range(_num_files_train):\n",
        "        # Load the images and class-numbers from the data-file.\n",
        "        images_batch, cls_batch = _load_data(filename=\"data_batch_\" + str(i + 1))\n",
        "\n",
        "        # Number of images in this batch.\n",
        "        num_images = len(images_batch)\n",
        "\n",
        "        # End-index for the current batch.\n",
        "        end = begin + num_images\n",
        "\n",
        "        # Store the images into the array.\n",
        "        images[begin:end, :] = images_batch\n",
        "\n",
        "        # Store the class-numbers into the array.\n",
        "        cls[begin:end] = cls_batch\n",
        "\n",
        "        # The begin-index for the next batch is the current end-index.\n",
        "        begin = end\n",
        "\n",
        "    return images, cls\n",
        "\n",
        "\n",
        "def load_validation_data():\n",
        "\n",
        "    images, cls = _load_data(filename=\"test_batch\")\n",
        "\n",
        "    images = images[10000:, :, :, :]\n",
        "    cls = cls[10000:]\n",
        "\n",
        "    return images, cls\n",
        "\n",
        "def load_testing_data():\n",
        "\n",
        "\n",
        "    images, cls = _load_data(filename=\"test_batch\")\n",
        "\n",
        "    images = images[:10000, :, :, :]\n",
        "    cls = cls[:10000]\n",
        "\n",
        "    return images, cls"
      ],
      "execution_count": 0,
      "outputs": []
    },
    {
      "cell_type": "markdown",
      "metadata": {
        "id": "AVDwmxHnAg4y",
        "colab_type": "text"
      },
      "source": [
        "### Preparation of the Data and Examination of the Data:\n",
        "\n",
        "#### We have 50000 training and 10000 test images. The images have a structure of (32,32,3) which correspond to (width, height, RGB). The validation set will be \"split\" with the training data. \n",
        "\n",
        "#### For each image there is a corresponding label, which is a class index.\n",
        "\n"
      ]
    },
    {
      "cell_type": "code",
      "metadata": {
        "id": "kC1WjaOXAgBw",
        "colab_type": "code",
        "outputId": "84df9c29-687b-4aa1-91e3-8ce8153d1d24",
        "colab": {
          "base_uri": "https://localhost:8080/",
          "height": 255
        }
      },
      "source": [
        "\n",
        "# Download and extract CIFAR-10 data\n",
        "maybe_download_and_extract()\n",
        "\n",
        "# training data\n",
        "x_train, y_train = load_training_data()\n",
        "\n",
        "# Validation data\n",
        "x_val, y_val = load_validation_data()\n",
        "\n",
        "# Testing data\n",
        "x_test, y_test = load_testing_data()\n",
        "\n",
        "print(np.array(x_train).shape)\n",
        "print(np.array(y_train).shape)\n",
        "print(x_test.shape)\n",
        "print(y_test.shape)"
      ],
      "execution_count": 0,
      "outputs": [
        {
          "output_type": "stream",
          "text": [
            "\n",
            "Download finished. Extracting files.\n",
            "Done.\n",
            "Loading data: /tmp/cifar-data/cifar-10-batches-py/data_batch_1\n",
            "Loading data: /tmp/cifar-data/cifar-10-batches-py/data_batch_2\n",
            "Loading data: /tmp/cifar-data/cifar-10-batches-py/data_batch_3\n",
            "Loading data: /tmp/cifar-data/cifar-10-batches-py/data_batch_4\n",
            "Loading data: /tmp/cifar-data/cifar-10-batches-py/data_batch_5\n",
            "Loading data: /tmp/cifar-data/cifar-10-batches-py/test_batch\n",
            "Loading data: /tmp/cifar-data/cifar-10-batches-py/test_batch\n",
            "(50000, 32, 32, 3)\n",
            "(50000,)\n",
            "(10000, 32, 32, 3)\n",
            "(10000,)\n"
          ],
          "name": "stdout"
        }
      ]
    },
    {
      "cell_type": "markdown",
      "metadata": {
        "id": "P1mmIMlWMb4_",
        "colab_type": "text"
      },
      "source": [
        "#### We will preprocess the data by transforming the features to float32 type, normalizing them, and one_hot_encoding the labels. "
      ]
    },
    {
      "cell_type": "code",
      "metadata": {
        "id": "q3CN-tJ_e4MG",
        "colab_type": "code",
        "colab": {}
      },
      "source": [
        "# Transforming the features\n",
        "\n",
        "mean = np.mean(x_train,axis=(0,1,2,3))\n",
        "std = np.std(x_train,axis=(0,1,2,3))\n",
        "x_train = (x_train-mean)/(std+1e-7)\n",
        "x_test = (x_test-mean)/(std+1e-7)\n",
        "\n",
        "\n",
        "# One-hot encoding the labels\n",
        "nClasses = 10\n",
        "y_train = np_utils.to_categorical(y_train, nClasses)\n",
        "y_test = np_utils.to_categorical(y_test, nClasses)\n",
        "\n"
      ],
      "execution_count": 0,
      "outputs": []
    },
    {
      "cell_type": "code",
      "metadata": {
        "id": "4a6EQeBijiSO",
        "colab_type": "code",
        "outputId": "fa73d474-0aa6-4e23-99ba-0df566ba103f",
        "colab": {
          "base_uri": "https://localhost:8080/",
          "height": 119
        }
      },
      "source": [
        "print(\"Shape of training data:\")\n",
        "print(x_train.shape)\n",
        "print(y_train.shape)\n",
        "print(\"Shape of test data:\")\n",
        "print(x_test.shape)\n",
        "print(y_test.shape)"
      ],
      "execution_count": 0,
      "outputs": [
        {
          "output_type": "stream",
          "text": [
            "Shape of training data:\n",
            "(50000, 32, 32, 3)\n",
            "(50000, 10)\n",
            "Shape of test data:\n",
            "(10000, 32, 32, 3)\n",
            "(10000, 10)\n"
          ],
          "name": "stdout"
        }
      ]
    },
    {
      "cell_type": "code",
      "metadata": {
        "id": "3-8FuYaeiBUY",
        "colab_type": "code",
        "colab": {}
      },
      "source": [
        "input_shape = (32,32,3)"
      ],
      "execution_count": 0,
      "outputs": []
    },
    {
      "cell_type": "markdown",
      "metadata": {
        "id": "o1C3HH6fNyHI",
        "colab_type": "text"
      },
      "source": [
        "#### These methods will help later in the stage of evaluating our model with training accuracy and validation accuracy to check for overfitting. "
      ]
    },
    {
      "cell_type": "code",
      "metadata": {
        "id": "ndCVeOmEBz3A",
        "colab_type": "code",
        "colab": {}
      },
      "source": [
        "def plot_curves(history):\n",
        "  plt.figure(figsize=[8,6])\n",
        "  plt.plot(history.history['acc'])\n",
        "  plt.plot(history.history['val_acc'])\n",
        "  plt.legend(['Training Accuracy', 'Validation Accuracy'], \n",
        "           loc = 'lower right')\n",
        "  plt.xlabel('Epochs ')\n",
        "  plt.ylabel('Accuracy')\n",
        "  plt.title('Accuracy Curves')\n",
        "  plt.show()"
      ],
      "execution_count": 0,
      "outputs": []
    },
    {
      "cell_type": "code",
      "metadata": {
        "id": "PH25pmQzrNmN",
        "colab_type": "code",
        "colab": {}
      },
      "source": [
        "def plot_losses(history):  \n",
        "    plt.figure(figsize=[8,6])\n",
        "    plt.plot(history.history['loss'])\n",
        "    plt.plot(history.history['val_loss'])\n",
        "    plt.title('model loss')\n",
        "    plt.ylabel('loss')\n",
        "    plt.xlabel('epoch')\n",
        "    plt.legend(['train', 'validation'], loc='upper left')\n",
        "    plt.show()"
      ],
      "execution_count": 0,
      "outputs": []
    },
    {
      "cell_type": "markdown",
      "metadata": {
        "id": "3e6SDwC5hp8p",
        "colab_type": "text"
      },
      "source": [
        "## Select and Train a Model\n"
      ]
    },
    {
      "cell_type": "markdown",
      "metadata": {
        "id": "1VlZjRIQhw_6",
        "colab_type": "text"
      },
      "source": [
        "### CNN Classifier\n",
        "\n",
        "#### A Convolutional Neural Network contains a convolutional layer and a pooling layer. The convolutional layer has neurons in the first layer, which are unconnected to the pixels in the input image but fully connected to the pixels in their receptive fields. Each neuron in the second convolutional layer is connected only to neurons in the small rectangle in the first layer. This architecture creates an environment for the network to concentrate on low-level features in the first hidden layer, and then assemble them to higher-level features in the next hidden layer. Because this heirarchial structure is common in real-world images, CNN's succeed in these image recognition problems. In addition to the convolutional layer, there are pooling layers that take a subsample of the input image in order to reduce the computational complexity and parameters, which limits the probability of overfitting. (See model below). \n",
        "\n",
        "#### We will first experiment with different weight decays. In this experiment, we will attempt to reduce the training error and test error by reducing the gap between training and test error. In changing the regularization hyperparameters, we can reduce effective model capacity. We will start at a small decay, and then decrease it to zero. "
      ]
    },
    {
      "cell_type": "markdown",
      "metadata": {
        "id": "Gu7FGlesAYko",
        "colab_type": "text"
      },
      "source": [
        "### CNN Model: Weight Decay 0.0005 "
      ]
    },
    {
      "cell_type": "code",
      "metadata": {
        "id": "-TAzH4anVNrL",
        "colab_type": "code",
        "outputId": "53fb7528-cfa0-4f61-b69f-c5173e5dc512",
        "colab": {
          "base_uri": "https://localhost:8080/",
          "height": 241
        }
      },
      "source": [
        "from keras.layers import Dense, Flatten\n",
        "from keras.layers import Conv2D, MaxPooling2D\n",
        "from keras.optimizers import SGD\n",
        "\n",
        "model = Sequential()\n",
        "\n",
        "model.add(Conv2D(32, (3, 3), activation='relu', input_shape=(32, 32, 3)))\n",
        "model.add(Conv2D(32, (3, 3), activation='relu'))\n",
        "model.add(MaxPooling2D(pool_size=(2, 2)))\n",
        "\n",
        "model.add(Flatten())\n",
        "model.add(Dense(256, activation='relu'))\n",
        "model.add(Dense(10, activation='softmax'))\n",
        "\n",
        "sgd = SGD(lr=0.01, decay=0.0005, momentum=0.9, nesterov=True)\n",
        "model.compile(loss='categorical_crossentropy', metrics=['accuracy'], optimizer=sgd)"
      ],
      "execution_count": 0,
      "outputs": [
        {
          "output_type": "stream",
          "text": [
            "WARNING:tensorflow:From /usr/local/lib/python3.6/dist-packages/keras/backend/tensorflow_backend.py:66: The name tf.get_default_graph is deprecated. Please use tf.compat.v1.get_default_graph instead.\n",
            "\n",
            "WARNING:tensorflow:From /usr/local/lib/python3.6/dist-packages/keras/backend/tensorflow_backend.py:541: The name tf.placeholder is deprecated. Please use tf.compat.v1.placeholder instead.\n",
            "\n",
            "WARNING:tensorflow:From /usr/local/lib/python3.6/dist-packages/keras/backend/tensorflow_backend.py:4432: The name tf.random_uniform is deprecated. Please use tf.random.uniform instead.\n",
            "\n",
            "WARNING:tensorflow:From /usr/local/lib/python3.6/dist-packages/keras/backend/tensorflow_backend.py:4267: The name tf.nn.max_pool is deprecated. Please use tf.nn.max_pool2d instead.\n",
            "\n",
            "WARNING:tensorflow:From /usr/local/lib/python3.6/dist-packages/keras/optimizers.py:793: The name tf.train.Optimizer is deprecated. Please use tf.compat.v1.train.Optimizer instead.\n",
            "\n",
            "WARNING:tensorflow:From /usr/local/lib/python3.6/dist-packages/keras/backend/tensorflow_backend.py:3576: The name tf.log is deprecated. Please use tf.math.log instead.\n",
            "\n"
          ],
          "name": "stdout"
        }
      ]
    },
    {
      "cell_type": "code",
      "metadata": {
        "id": "cPI05jjEWhBa",
        "colab_type": "code",
        "outputId": "99f8c640-14da-449e-e648-6b583ba5281f",
        "colab": {
          "base_uri": "https://localhost:8080/",
          "height": 1000
        }
      },
      "source": [
        "history = model.fit(x_train, y_train, batch_size=32, epochs=20, verbose=2, validation_split=0.2)"
      ],
      "execution_count": 0,
      "outputs": [
        {
          "output_type": "stream",
          "text": [
            "WARNING:tensorflow:From /usr/local/lib/python3.6/dist-packages/tensorflow_core/python/ops/math_grad.py:1424: where (from tensorflow.python.ops.array_ops) is deprecated and will be removed in a future version.\n",
            "Instructions for updating:\n",
            "Use tf.where in 2.0, which has the same broadcast rule as np.where\n",
            "WARNING:tensorflow:From /usr/local/lib/python3.6/dist-packages/keras/backend/tensorflow_backend.py:1033: The name tf.assign_add is deprecated. Please use tf.compat.v1.assign_add instead.\n",
            "\n",
            "WARNING:tensorflow:From /usr/local/lib/python3.6/dist-packages/keras/backend/tensorflow_backend.py:1020: The name tf.assign is deprecated. Please use tf.compat.v1.assign instead.\n",
            "\n",
            "WARNING:tensorflow:From /usr/local/lib/python3.6/dist-packages/keras/backend/tensorflow_backend.py:3005: The name tf.Session is deprecated. Please use tf.compat.v1.Session instead.\n",
            "\n",
            "Train on 40000 samples, validate on 10000 samples\n",
            "Epoch 1/20\n",
            "WARNING:tensorflow:From /usr/local/lib/python3.6/dist-packages/keras/backend/tensorflow_backend.py:190: The name tf.get_default_session is deprecated. Please use tf.compat.v1.get_default_session instead.\n",
            "\n",
            "WARNING:tensorflow:From /usr/local/lib/python3.6/dist-packages/keras/backend/tensorflow_backend.py:197: The name tf.ConfigProto is deprecated. Please use tf.compat.v1.ConfigProto instead.\n",
            "\n",
            "WARNING:tensorflow:From /usr/local/lib/python3.6/dist-packages/keras/backend/tensorflow_backend.py:207: The name tf.global_variables is deprecated. Please use tf.compat.v1.global_variables instead.\n",
            "\n",
            "WARNING:tensorflow:From /usr/local/lib/python3.6/dist-packages/keras/backend/tensorflow_backend.py:216: The name tf.is_variable_initialized is deprecated. Please use tf.compat.v1.is_variable_initialized instead.\n",
            "\n",
            "WARNING:tensorflow:From /usr/local/lib/python3.6/dist-packages/keras/backend/tensorflow_backend.py:223: The name tf.variables_initializer is deprecated. Please use tf.compat.v1.variables_initializer instead.\n",
            "\n",
            " - 12s - loss: 1.3130 - acc: 0.5311 - val_loss: 1.0645 - val_acc: 0.6264\n",
            "Epoch 2/20\n",
            " - 6s - loss: 0.8885 - acc: 0.6877 - val_loss: 0.9405 - val_acc: 0.6656\n",
            "Epoch 3/20\n",
            " - 5s - loss: 0.6299 - acc: 0.7800 - val_loss: 0.9281 - val_acc: 0.6822\n",
            "Epoch 4/20\n",
            " - 5s - loss: 0.3931 - acc: 0.8654 - val_loss: 1.0345 - val_acc: 0.6885\n",
            "Epoch 5/20\n",
            " - 6s - loss: 0.1924 - acc: 0.9393 - val_loss: 1.2265 - val_acc: 0.6825\n",
            "Epoch 6/20\n",
            " - 6s - loss: 0.0740 - acc: 0.9814 - val_loss: 1.3996 - val_acc: 0.6957\n",
            "Epoch 7/20\n",
            " - 5s - loss: 0.0233 - acc: 0.9970 - val_loss: 1.5461 - val_acc: 0.6996\n",
            "Epoch 8/20\n",
            " - 5s - loss: 0.0087 - acc: 0.9995 - val_loss: 1.6417 - val_acc: 0.6995\n",
            "Epoch 9/20\n",
            " - 5s - loss: 0.0047 - acc: 0.9999 - val_loss: 1.7181 - val_acc: 0.7018\n",
            "Epoch 10/20\n",
            " - 5s - loss: 0.0036 - acc: 0.9999 - val_loss: 1.7616 - val_acc: 0.7012\n",
            "Epoch 11/20\n",
            " - 5s - loss: 0.0028 - acc: 1.0000 - val_loss: 1.7929 - val_acc: 0.7009\n",
            "Epoch 12/20\n",
            " - 5s - loss: 0.0025 - acc: 1.0000 - val_loss: 1.8200 - val_acc: 0.7006\n",
            "Epoch 13/20\n",
            " - 5s - loss: 0.0022 - acc: 1.0000 - val_loss: 1.8434 - val_acc: 0.7009\n",
            "Epoch 14/20\n",
            " - 5s - loss: 0.0020 - acc: 1.0000 - val_loss: 1.8579 - val_acc: 0.7016\n",
            "Epoch 15/20\n",
            " - 5s - loss: 0.0019 - acc: 1.0000 - val_loss: 1.8741 - val_acc: 0.7014\n",
            "Epoch 16/20\n",
            " - 5s - loss: 0.0018 - acc: 1.0000 - val_loss: 1.8862 - val_acc: 0.7019\n",
            "Epoch 17/20\n",
            " - 5s - loss: 0.0017 - acc: 1.0000 - val_loss: 1.8992 - val_acc: 0.7019\n",
            "Epoch 18/20\n",
            " - 5s - loss: 0.0016 - acc: 1.0000 - val_loss: 1.9093 - val_acc: 0.7016\n",
            "Epoch 19/20\n",
            " - 5s - loss: 0.0015 - acc: 1.0000 - val_loss: 1.9188 - val_acc: 0.7020\n",
            "Epoch 20/20\n",
            " - 5s - loss: 0.0015 - acc: 1.0000 - val_loss: 1.9278 - val_acc: 0.7024\n"
          ],
          "name": "stdout"
        }
      ]
    },
    {
      "cell_type": "markdown",
      "metadata": {
        "id": "VMzvT61zkKLF",
        "colab_type": "text"
      },
      "source": [
        "#### In plotting the training accuracy and the validation accuracy, we can see the training accuracy curve intersects the validation accuracy curve in the plot below and creates a large gap between the two curves. This unfortunately means that our model has overfitted, and although our training accuracy has reached 100%, our testing data on evaluation would most likely not surpass 69% acccuracy because our loss score is way too high (2.04). This puts our accuracy below the industry standard of 75%. \n",
        "\n",
        "#### We can then continue our experiment in training CNN's with different hyperparameters to find a model that will generalize to new data at or above industry level. "
      ]
    },
    {
      "cell_type": "code",
      "metadata": {
        "id": "wzlUzphSh6mR",
        "colab_type": "code",
        "outputId": "2391c9ab-ce95-46de-8866-f93d9510f248",
        "colab": {
          "base_uri": "https://localhost:8080/",
          "height": 404
        }
      },
      "source": [
        "plot_curves(history)"
      ],
      "execution_count": 0,
      "outputs": [
        {
          "output_type": "display_data",
          "data": {
            "image/png": "[encoded data removed]",
            "text/plain": [
              "<Figure size 576x432 with 1 Axes>"
            ]
          },
          "metadata": {
            "tags": []
          }
        }
      ]
    },
    {
      "cell_type": "code",
      "metadata": {
        "id": "1Vp_DYqBh5vs",
        "colab_type": "code",
        "outputId": "eb3bb7f5-337f-437a-a1d4-35f3591f46c5",
        "colab": {
          "base_uri": "https://localhost:8080/",
          "height": 404
        }
      },
      "source": [
        "plot_losses(history)"
      ],
      "execution_count": 0,
      "outputs": [
        {
          "output_type": "display_data",
          "data": {
            "image/png": "[encoded data removed]",
            "text/plain": [
              "<Figure size 576x432 with 1 Axes>"
            ]
          },
          "metadata": {
            "tags": []
          }
        }
      ]
    },
    {
      "cell_type": "code",
      "metadata": {
        "id": "XcatjQ_rUw-T",
        "colab_type": "code",
        "colab": {}
      },
      "source": [
        "score = model.evaluate(x_test, y_test, batch_size=128, verbose=0)"
      ],
      "execution_count": 0,
      "outputs": []
    },
    {
      "cell_type": "code",
      "metadata": {
        "id": "KdnZxmTZVT8N",
        "colab_type": "code",
        "outputId": "03590c8e-65cf-452f-aa96-6d87e9982bff",
        "colab": {
          "base_uri": "https://localhost:8080/",
          "height": 51
        }
      },
      "source": [
        "print(model.metrics_names)\n",
        "print(score)"
      ],
      "execution_count": 0,
      "outputs": [
        {
          "output_type": "stream",
          "text": [
            "['loss', 'acc']\n",
            "[2.0442402618408204, 0.6917]\n"
          ],
          "name": "stdout"
        }
      ]
    },
    {
      "cell_type": "markdown",
      "metadata": {
        "id": "6tdHN0nxC7Yn",
        "colab_type": "text"
      },
      "source": [
        "### CNN Model: Weight Decay 0.00005\n",
        "\n",
        "#### Hypothesis: By lowering the weight decay, capacity will be increased, freeing the model parameters to become larger. This will reduce overfitting. "
      ]
    },
    {
      "cell_type": "code",
      "metadata": {
        "id": "N1Go7ckLA7a6",
        "colab_type": "code",
        "colab": {}
      },
      "source": [
        "from keras.layers import Dense, Flatten\n",
        "from keras.layers import Conv2D, MaxPooling2D\n",
        "from keras.optimizers import SGD\n",
        "\n",
        "model = Sequential()\n",
        "\n",
        "model.add(Conv2D(32, (3, 3), activation='relu', input_shape=(32, 32, 3)))\n",
        "model.add(Conv2D(32, (3, 3), activation='relu'))\n",
        "model.add(MaxPooling2D(pool_size=(2, 2)))\n",
        "\n",
        "model.add(Flatten())\n",
        "model.add(Dense(256, activation='relu'))\n",
        "model.add(Dense(10, activation='softmax'))\n",
        "\n",
        "sgd = SGD(lr=0.01, decay=0.00005, momentum=0.9, nesterov=True)\n",
        "model.compile(loss='categorical_crossentropy', metrics=['accuracy'], optimizer=sgd)"
      ],
      "execution_count": 0,
      "outputs": []
    },
    {
      "cell_type": "code",
      "metadata": {
        "id": "Mt2MXYR3BQOY",
        "colab_type": "code",
        "outputId": "1e6abf7c-4e59-4f9c-bd18-3fde8bfd7944",
        "colab": {
          "base_uri": "https://localhost:8080/",
          "height": 714
        }
      },
      "source": [
        "history = model.fit(x_train, y_train, batch_size=32, epochs=20, verbose=2, validation_split=0.2)"
      ],
      "execution_count": 0,
      "outputs": [
        {
          "output_type": "stream",
          "text": [
            "Train on 40000 samples, validate on 10000 samples\n",
            "Epoch 1/20\n",
            " - 6s - loss: 1.3417 - acc: 0.5187 - val_loss: 1.1004 - val_acc: 0.6181\n",
            "Epoch 2/20\n",
            " - 5s - loss: 0.9218 - acc: 0.6760 - val_loss: 0.9977 - val_acc: 0.6546\n",
            "Epoch 3/20\n",
            " - 5s - loss: 0.6496 - acc: 0.7707 - val_loss: 1.0004 - val_acc: 0.6650\n",
            "Epoch 4/20\n",
            " - 5s - loss: 0.3903 - acc: 0.8641 - val_loss: 1.1354 - val_acc: 0.6697\n",
            "Epoch 5/20\n",
            " - 5s - loss: 0.2098 - acc: 0.9276 - val_loss: 1.4239 - val_acc: 0.6679\n",
            "Epoch 6/20\n",
            " - 5s - loss: 0.1279 - acc: 0.9568 - val_loss: 1.5906 - val_acc: 0.6758\n",
            "Epoch 7/20\n",
            " - 5s - loss: 0.0786 - acc: 0.9742 - val_loss: 1.7957 - val_acc: 0.6780\n",
            "Epoch 8/20\n",
            " - 5s - loss: 0.0525 - acc: 0.9823 - val_loss: 2.1065 - val_acc: 0.6598\n",
            "Epoch 9/20\n",
            " - 5s - loss: 0.0523 - acc: 0.9828 - val_loss: 2.0240 - val_acc: 0.6797\n",
            "Epoch 10/20\n",
            " - 5s - loss: 0.0246 - acc: 0.9920 - val_loss: 2.2265 - val_acc: 0.6752\n",
            "Epoch 11/20\n",
            " - 5s - loss: 0.0144 - acc: 0.9957 - val_loss: 2.2057 - val_acc: 0.6813\n",
            "Epoch 12/20\n",
            " - 5s - loss: 0.0085 - acc: 0.9974 - val_loss: 2.2401 - val_acc: 0.6928\n",
            "Epoch 13/20\n",
            " - 5s - loss: 0.0020 - acc: 0.9996 - val_loss: 2.3406 - val_acc: 0.6980\n",
            "Epoch 14/20\n",
            " - 5s - loss: 7.4879e-04 - acc: 0.9999 - val_loss: 2.3244 - val_acc: 0.6962\n",
            "Epoch 15/20\n",
            " - 5s - loss: 2.0162e-04 - acc: 1.0000 - val_loss: 2.3398 - val_acc: 0.6984\n",
            "Epoch 16/20\n",
            " - 5s - loss: 1.4466e-04 - acc: 1.0000 - val_loss: 2.3572 - val_acc: 0.7002\n",
            "Epoch 17/20\n",
            " - 5s - loss: 1.2176e-04 - acc: 1.0000 - val_loss: 2.3707 - val_acc: 0.6997\n",
            "Epoch 18/20\n",
            " - 5s - loss: 1.0670e-04 - acc: 1.0000 - val_loss: 2.3823 - val_acc: 0.7007\n",
            "Epoch 19/20\n",
            " - 5s - loss: 9.5728e-05 - acc: 1.0000 - val_loss: 2.3926 - val_acc: 0.7008\n",
            "Epoch 20/20\n",
            " - 5s - loss: 8.7263e-05 - acc: 1.0000 - val_loss: 2.4014 - val_acc: 0.7008\n"
          ],
          "name": "stdout"
        }
      ]
    },
    {
      "cell_type": "markdown",
      "metadata": {
        "id": "HKA9TWLYEAdf",
        "colab_type": "text"
      },
      "source": [
        "#### In comparing the curves below with the curves above, we have not solved our problem of overfitting by decreasing the decay. In seems that freeing the model parameters to become larger has actually made our overfitting problem worse. Our loss score is now 2.47 instead of 2.04. "
      ]
    },
    {
      "cell_type": "code",
      "metadata": {
        "id": "TV-wAwShBUGh",
        "colab_type": "code",
        "outputId": "3706fbb9-10b8-4c59-9366-58aebc0d4545",
        "colab": {
          "base_uri": "https://localhost:8080/",
          "height": 404
        }
      },
      "source": [
        "plot_curves(history)"
      ],
      "execution_count": 0,
      "outputs": [
        {
          "output_type": "display_data",
          "data": {
            "image/png": "[encoded data removed]",
            "text/plain": [
              "<Figure size 576x432 with 1 Axes>"
            ]
          },
          "metadata": {
            "tags": []
          }
        }
      ]
    },
    {
      "cell_type": "code",
      "metadata": {
        "id": "U9Bd3-pCBalm",
        "colab_type": "code",
        "outputId": "b460e9e1-795a-460f-f9f2-69e0d4be39b2",
        "colab": {
          "base_uri": "https://localhost:8080/",
          "height": 404
        }
      },
      "source": [
        "plot_losses(history)"
      ],
      "execution_count": 0,
      "outputs": [
        {
          "output_type": "display_data",
          "data": {
            "image/png": "[encoded data removed]",
            "text/plain": [
              "<Figure size 576x432 with 1 Axes>"
            ]
          },
          "metadata": {
            "tags": []
          }
        }
      ]
    },
    {
      "cell_type": "code",
      "metadata": {
        "id": "fwOJKDS5V1mI",
        "colab_type": "code",
        "colab": {}
      },
      "source": [
        "score = model.evaluate(x_test, y_test, batch_size=128, verbose=0)"
      ],
      "execution_count": 0,
      "outputs": []
    },
    {
      "cell_type": "code",
      "metadata": {
        "id": "Fm5uRarTV2XU",
        "colab_type": "code",
        "outputId": "c332363e-a915-4119-a9d4-9b1f40aa1c1f",
        "colab": {
          "base_uri": "https://localhost:8080/",
          "height": 51
        }
      },
      "source": [
        "print(model.metrics_names)\n",
        "print(score)"
      ],
      "execution_count": 0,
      "outputs": [
        {
          "output_type": "stream",
          "text": [
            "['loss', 'acc']\n",
            "[2.4784544437408447, 0.6932]\n"
          ],
          "name": "stdout"
        }
      ]
    },
    {
      "cell_type": "markdown",
      "metadata": {
        "id": "FfKBSxMzEea-",
        "colab_type": "text"
      },
      "source": [
        "### CNN Model: Weight Decay 0.05\n",
        "\n",
        "#### Hypothesis: Since decreasing our weight decay increased overfitting, we will now increase our weight decay to hopefully get the opposite effect. "
      ]
    },
    {
      "cell_type": "code",
      "metadata": {
        "id": "zqGBJpZuBFIU",
        "colab_type": "code",
        "colab": {}
      },
      "source": [
        "from keras.layers import Dense, Flatten\n",
        "from keras.layers import Conv2D, MaxPooling2D\n",
        "from keras.optimizers import SGD\n",
        "\n",
        "model = Sequential()\n",
        "\n",
        "model.add(Conv2D(32, (3, 3), activation='relu', input_shape=(32, 32, 3)))\n",
        "model.add(Conv2D(32, (3, 3), activation='relu'))\n",
        "model.add(MaxPooling2D(pool_size=(2, 2)))\n",
        "\n",
        "model.add(Flatten())\n",
        "model.add(Dense(256, activation='relu'))\n",
        "model.add(Dense(10, activation='softmax'))\n",
        "\n",
        "sgd = SGD(lr=0.01, decay=0.05, momentum=0.9, nesterov=True)\n",
        "model.compile(loss='categorical_crossentropy', metrics=['accuracy'], optimizer=sgd)"
      ],
      "execution_count": 0,
      "outputs": []
    },
    {
      "cell_type": "code",
      "metadata": {
        "id": "3GaGP9ygBRNE",
        "colab_type": "code",
        "outputId": "ffd8cd77-07b4-4791-a026-526cf00c8743",
        "colab": {
          "base_uri": "https://localhost:8080/",
          "height": 714
        }
      },
      "source": [
        "history = model.fit(x_train, y_train, batch_size=32, epochs=20, verbose=2, validation_split=0.2)"
      ],
      "execution_count": 0,
      "outputs": [
        {
          "output_type": "stream",
          "text": [
            "Train on 40000 samples, validate on 10000 samples\n",
            "Epoch 1/20\n",
            " - 6s - loss: 1.5949 - acc: 0.4345 - val_loss: 1.4827 - val_acc: 0.4779\n",
            "Epoch 2/20\n",
            " - 5s - loss: 1.4209 - acc: 0.5011 - val_loss: 1.4334 - val_acc: 0.4935\n",
            "Epoch 3/20\n",
            " - 5s - loss: 1.3764 - acc: 0.5154 - val_loss: 1.4037 - val_acc: 0.5032\n",
            "Epoch 4/20\n",
            " - 5s - loss: 1.3501 - acc: 0.5264 - val_loss: 1.3871 - val_acc: 0.5085\n",
            "Epoch 5/20\n",
            " - 5s - loss: 1.3314 - acc: 0.5340 - val_loss: 1.3739 - val_acc: 0.5149\n",
            "Epoch 6/20\n",
            " - 5s - loss: 1.3168 - acc: 0.5387 - val_loss: 1.3642 - val_acc: 0.5182\n",
            "Epoch 7/20\n",
            " - 5s - loss: 1.3053 - acc: 0.5440 - val_loss: 1.3547 - val_acc: 0.5216\n",
            "Epoch 8/20\n",
            " - 5s - loss: 1.2954 - acc: 0.5465 - val_loss: 1.3476 - val_acc: 0.5238\n",
            "Epoch 9/20\n",
            " - 6s - loss: 1.2870 - acc: 0.5483 - val_loss: 1.3416 - val_acc: 0.5300\n",
            "Epoch 10/20\n",
            " - 6s - loss: 1.2797 - acc: 0.5511 - val_loss: 1.3358 - val_acc: 0.5297\n",
            "Epoch 11/20\n",
            " - 5s - loss: 1.2729 - acc: 0.5549 - val_loss: 1.3308 - val_acc: 0.5332\n",
            "Epoch 12/20\n",
            " - 5s - loss: 1.2670 - acc: 0.5555 - val_loss: 1.3265 - val_acc: 0.5344\n",
            "Epoch 13/20\n",
            " - 5s - loss: 1.2616 - acc: 0.5572 - val_loss: 1.3218 - val_acc: 0.5362\n",
            "Epoch 14/20\n",
            " - 5s - loss: 1.2565 - acc: 0.5593 - val_loss: 1.3189 - val_acc: 0.5384\n",
            "Epoch 15/20\n",
            " - 5s - loss: 1.2522 - acc: 0.5607 - val_loss: 1.3156 - val_acc: 0.5374\n",
            "Epoch 16/20\n",
            " - 5s - loss: 1.2480 - acc: 0.5629 - val_loss: 1.3116 - val_acc: 0.5405\n",
            "Epoch 17/20\n",
            " - 5s - loss: 1.2441 - acc: 0.5642 - val_loss: 1.3087 - val_acc: 0.5402\n",
            "Epoch 18/20\n",
            " - 5s - loss: 1.2406 - acc: 0.5650 - val_loss: 1.3057 - val_acc: 0.5426\n",
            "Epoch 19/20\n",
            " - 5s - loss: 1.2369 - acc: 0.5657 - val_loss: 1.3030 - val_acc: 0.5408\n",
            "Epoch 20/20\n",
            " - 5s - loss: 1.2339 - acc: 0.5664 - val_loss: 1.3009 - val_acc: 0.5438\n"
          ],
          "name": "stdout"
        }
      ]
    },
    {
      "cell_type": "markdown",
      "metadata": {
        "id": "wyozMTWSFbds",
        "colab_type": "text"
      },
      "source": [
        "#### The results of this model are interesting. We increased our decay to .05 and have greatly reduced our gap in training accuracy and validation accuracy. However, our overfitting is still somewhat significant and our accuracy is too low for industry standards. We will continue our experimentation with hyperparameter tuning. "
      ]
    },
    {
      "cell_type": "code",
      "metadata": {
        "id": "3K1WlK40BXoX",
        "colab_type": "code",
        "outputId": "98444137-75ec-48a5-900b-dd558c7c88a2",
        "colab": {
          "base_uri": "https://localhost:8080/",
          "height": 404
        }
      },
      "source": [
        "plot_curves(history)"
      ],
      "execution_count": 0,
      "outputs": [
        {
          "output_type": "display_data",
          "data": {
            "image/png": "[encoded data removed]",
            "text/plain": [
              "<Figure size 576x432 with 1 Axes>"
            ]
          },
          "metadata": {
            "tags": []
          }
        }
      ]
    },
    {
      "cell_type": "code",
      "metadata": {
        "id": "W1S212FMBbg9",
        "colab_type": "code",
        "outputId": "056b4857-8b48-47ec-a00d-9c3ec0504a9c",
        "colab": {
          "base_uri": "https://localhost:8080/",
          "height": 404
        }
      },
      "source": [
        "plot_losses(history)"
      ],
      "execution_count": 0,
      "outputs": [
        {
          "output_type": "display_data",
          "data": {
            "image/png": "[encoded data removed]",
            "text/plain": [
              "<Figure size 576x432 with 1 Axes>"
            ]
          },
          "metadata": {
            "tags": []
          }
        }
      ]
    },
    {
      "cell_type": "code",
      "metadata": {
        "id": "Xv2DdFzWV_Ax",
        "colab_type": "code",
        "colab": {}
      },
      "source": [
        "score = model.evaluate(x_test, y_test, batch_size=128, verbose=0)"
      ],
      "execution_count": 0,
      "outputs": []
    },
    {
      "cell_type": "code",
      "metadata": {
        "id": "3xQYxziPWBur",
        "colab_type": "code",
        "outputId": "e72ec3cf-2263-47a6-eb50-1385c7b712c4",
        "colab": {
          "base_uri": "https://localhost:8080/",
          "height": 51
        }
      },
      "source": [
        "print(model.metrics_names)\n",
        "print(score)"
      ],
      "execution_count": 0,
      "outputs": [
        {
          "output_type": "stream",
          "text": [
            "['loss', 'acc']\n",
            "[1.284461966896057, 0.5452]\n"
          ],
          "name": "stdout"
        }
      ]
    },
    {
      "cell_type": "markdown",
      "metadata": {
        "id": "M5pQjy-gF-Ka",
        "colab_type": "text"
      },
      "source": [
        "### CNN Model: Weight Decay 0.0\n",
        "\n",
        "#### We will train our model with 0.0 decay to see what the effect is on the model. \n",
        "\n",
        "####Hypothesis: Decreasing the weight decay to 0.0 will free the model parameters to become larger, which might increase overfitting the most we have seen so far. \n"
      ]
    },
    {
      "cell_type": "code",
      "metadata": {
        "id": "Uh4gs_ibBK0l",
        "colab_type": "code",
        "colab": {}
      },
      "source": [
        "from keras.layers import Dense, Flatten\n",
        "from keras.layers import Conv2D, MaxPooling2D\n",
        "from keras.optimizers import SGD\n",
        "\n",
        "model = Sequential()\n",
        "\n",
        "model.add(Conv2D(32, (3, 3), activation='relu', input_shape=(32, 32, 3)))\n",
        "model.add(Conv2D(32, (3, 3), activation='relu'))\n",
        "model.add(MaxPooling2D(pool_size=(2, 2)))\n",
        "\n",
        "model.add(Flatten())\n",
        "model.add(Dense(256, activation='relu'))\n",
        "model.add(Dense(10, activation='softmax'))\n",
        "\n",
        "sgd = SGD(lr=0.01, decay=0.0, momentum=0.9, nesterov=True)\n",
        "model.compile(loss='categorical_crossentropy', metrics=['accuracy'], optimizer=sgd)"
      ],
      "execution_count": 0,
      "outputs": []
    },
    {
      "cell_type": "code",
      "metadata": {
        "id": "2o6PMXwCBSCQ",
        "colab_type": "code",
        "outputId": "2c142718-22d3-430d-cc83-64fa7ee58630",
        "colab": {
          "base_uri": "https://localhost:8080/",
          "height": 714
        }
      },
      "source": [
        "history = model.fit(x_train, y_train, batch_size=32, epochs=20, verbose=2, validation_split=0.2)"
      ],
      "execution_count": 0,
      "outputs": [
        {
          "output_type": "stream",
          "text": [
            "Train on 40000 samples, validate on 10000 samples\n",
            "Epoch 1/20\n",
            " - 6s - loss: 1.3340 - acc: 0.5236 - val_loss: 1.0779 - val_acc: 0.6144\n",
            "Epoch 2/20\n",
            " - 5s - loss: 0.9263 - acc: 0.6755 - val_loss: 0.9950 - val_acc: 0.6570\n",
            "Epoch 3/20\n",
            " - 5s - loss: 0.6771 - acc: 0.7611 - val_loss: 1.0385 - val_acc: 0.6583\n",
            "Epoch 4/20\n",
            " - 5s - loss: 0.4344 - acc: 0.8484 - val_loss: 1.1560 - val_acc: 0.6645\n",
            "Epoch 5/20\n",
            " - 5s - loss: 0.2791 - acc: 0.9048 - val_loss: 1.4351 - val_acc: 0.6634\n",
            "Epoch 6/20\n",
            " - 5s - loss: 0.2131 - acc: 0.9273 - val_loss: 1.6085 - val_acc: 0.6548\n",
            "Epoch 7/20\n",
            " - 5s - loss: 0.1714 - acc: 0.9428 - val_loss: 1.8872 - val_acc: 0.6466\n",
            "Epoch 8/20\n",
            " - 5s - loss: 0.1360 - acc: 0.9550 - val_loss: 1.9527 - val_acc: 0.6544\n",
            "Epoch 9/20\n",
            " - 5s - loss: 0.1459 - acc: 0.9530 - val_loss: 1.9017 - val_acc: 0.6678\n",
            "Epoch 10/20\n",
            " - 5s - loss: 0.1174 - acc: 0.9628 - val_loss: 2.2001 - val_acc: 0.6591\n",
            "Epoch 11/20\n",
            " - 5s - loss: 0.1168 - acc: 0.9645 - val_loss: 2.3923 - val_acc: 0.6601\n",
            "Epoch 12/20\n",
            " - 5s - loss: 0.1202 - acc: 0.9644 - val_loss: 2.3862 - val_acc: 0.6446\n",
            "Epoch 13/20\n",
            " - 5s - loss: 0.1135 - acc: 0.9662 - val_loss: 2.4839 - val_acc: 0.6488\n",
            "Epoch 14/20\n",
            " - 5s - loss: 0.1025 - acc: 0.9704 - val_loss: 2.4499 - val_acc: 0.6395\n",
            "Epoch 15/20\n",
            " - 5s - loss: 0.0960 - acc: 0.9716 - val_loss: 2.6770 - val_acc: 0.6436\n",
            "Epoch 16/20\n",
            " - 5s - loss: 0.1397 - acc: 0.9620 - val_loss: 2.8315 - val_acc: 0.6292\n",
            "Epoch 17/20\n",
            " - 5s - loss: 0.1357 - acc: 0.9630 - val_loss: 2.7127 - val_acc: 0.6382\n",
            "Epoch 18/20\n",
            " - 5s - loss: 0.1152 - acc: 0.9690 - val_loss: 2.8563 - val_acc: 0.6425\n",
            "Epoch 19/20\n",
            " - 5s - loss: 0.1185 - acc: 0.9692 - val_loss: 3.1674 - val_acc: 0.6253\n",
            "Epoch 20/20\n",
            " - 5s - loss: 0.1465 - acc: 0.9614 - val_loss: 3.0073 - val_acc: 0.6177\n"
          ],
          "name": "stdout"
        }
      ]
    },
    {
      "cell_type": "markdown",
      "metadata": {
        "id": "i9TQOEsLHFvo",
        "colab_type": "text"
      },
      "source": [
        "#### As expected, the model has severly overfitted with a loss of 3.06, the highest so far."
      ]
    },
    {
      "cell_type": "code",
      "metadata": {
        "id": "sSwZ0LCaBYio",
        "colab_type": "code",
        "outputId": "2ab136c9-cb93-42fe-d100-d0a48156ec22",
        "colab": {
          "base_uri": "https://localhost:8080/",
          "height": 404
        }
      },
      "source": [
        "plot_curves(history)"
      ],
      "execution_count": 0,
      "outputs": [
        {
          "output_type": "display_data",
          "data": {
            "image/png": "[encoded data removed]",
            "text/plain": [
              "<Figure size 576x432 with 1 Axes>"
            ]
          },
          "metadata": {
            "tags": []
          }
        }
      ]
    },
    {
      "cell_type": "code",
      "metadata": {
        "id": "uGVc-6fIBcSx",
        "colab_type": "code",
        "outputId": "f108e8fc-9c8a-4fdb-e8df-c88f12d3dfad",
        "colab": {
          "base_uri": "https://localhost:8080/",
          "height": 404
        }
      },
      "source": [
        "plot_losses(history)"
      ],
      "execution_count": 0,
      "outputs": [
        {
          "output_type": "display_data",
          "data": {
            "image/png": "[encoded data removed]",
            "text/plain": [
              "<Figure size 576x432 with 1 Axes>"
            ]
          },
          "metadata": {
            "tags": []
          }
        }
      ]
    },
    {
      "cell_type": "code",
      "metadata": {
        "id": "PYWGirsTWEAk",
        "colab_type": "code",
        "colab": {}
      },
      "source": [
        "score = model.evaluate(x_test, y_test, batch_size=128, verbose=0)"
      ],
      "execution_count": 0,
      "outputs": []
    },
    {
      "cell_type": "code",
      "metadata": {
        "id": "pF9NbWGFWGn2",
        "colab_type": "code",
        "outputId": "df8c5fbb-11bc-47c5-fc60-8fb3b1996605",
        "colab": {
          "base_uri": "https://localhost:8080/",
          "height": 51
        }
      },
      "source": [
        "print(model.metrics_names)\n",
        "print(score)"
      ],
      "execution_count": 0,
      "outputs": [
        {
          "output_type": "stream",
          "text": [
            "['loss', 'acc']\n",
            "[3.0628340278625488, 0.6155]\n"
          ],
          "name": "stdout"
        }
      ]
    },
    {
      "cell_type": "markdown",
      "metadata": {
        "id": "gVnTLZqklIYD",
        "colab_type": "text"
      },
      "source": [
        "### CNN with Dropout:\n",
        "\n",
        "#### CNN's and other Deep Neural Networks have hundreds of thousands of parameters, which make them prone to overfitting. Certain regularization techniques, such as Dropout, can prevent overfitting so the models can generalize better. \n",
        "\n",
        "#### Dropout works by masking a random subset of a neural network for every input of probability p and scaling up the rest of the inputs by 1(1 - p). During training, masking prevents gradient backpropagation through the masked outputs. \n",
        "\n",
        "#### During testing, dropout will set p to zero, so that the expected layer of outputs are the same during training and testing. "
      ]
    },
    {
      "cell_type": "markdown",
      "metadata": {
        "id": "IV0NV5SMHWge",
        "colab_type": "text"
      },
      "source": [
        "### CNN Model: Dropout Layer with 0.0 Weight Decay\n",
        "\n"
      ]
    },
    {
      "cell_type": "code",
      "metadata": {
        "id": "58GlufxOXUNA",
        "colab_type": "code",
        "outputId": "c0720b92-4415-4e6d-aefe-540fee8b7a26",
        "colab": {
          "base_uri": "https://localhost:8080/",
          "height": 122
        }
      },
      "source": [
        "from keras.layers import Dense, Dropout, Flatten\n",
        "from keras.layers import Conv2D, MaxPooling2D\n",
        "\n",
        "model = Sequential()\n",
        "\n",
        "model.add(Conv2D(32, (3, 3), activation='relu', input_shape=(32, 32, 3)))\n",
        "model.add(Conv2D(32, (3, 3), activation='relu'))\n",
        "model.add(MaxPooling2D(pool_size=(2, 2)))\n",
        "# Dropout layer added here\n",
        "model.add(Dropout(0.25))\n",
        "\n",
        "model.add(Flatten())\n",
        "model.add(Dense(256, activation='relu'))\n",
        "# Dropout layer added here\n",
        "model.add(Dropout(0.5))\n",
        "model.add(Dense(10, activation='softmax'))\n",
        "\n",
        "sgd = SGD(lr=0.01, decay=0.0, momentum=0.9, nesterov=True)\n",
        "model.compile(loss='categorical_crossentropy', metrics=['accuracy'], optimizer=sgd)"
      ],
      "execution_count": 0,
      "outputs": [
        {
          "output_type": "stream",
          "text": [
            "WARNING:tensorflow:From /usr/local/lib/python3.6/dist-packages/keras/backend/tensorflow_backend.py:148: The name tf.placeholder_with_default is deprecated. Please use tf.compat.v1.placeholder_with_default instead.\n",
            "\n",
            "WARNING:tensorflow:From /usr/local/lib/python3.6/dist-packages/keras/backend/tensorflow_backend.py:3733: calling dropout (from tensorflow.python.ops.nn_ops) with keep_prob is deprecated and will be removed in a future version.\n",
            "Instructions for updating:\n",
            "Please use `rate` instead of `keep_prob`. Rate should be set to `rate = 1 - keep_prob`.\n"
          ],
          "name": "stdout"
        }
      ]
    },
    {
      "cell_type": "code",
      "metadata": {
        "id": "iqAgAO0oXWJz",
        "colab_type": "code",
        "outputId": "5a1775bd-4763-42d6-d527-306a216dae34",
        "colab": {
          "base_uri": "https://localhost:8080/",
          "height": 714
        }
      },
      "source": [
        "history = model.fit(x_train, y_train, batch_size=32, epochs=20, verbose=2, validation_split=0.2)"
      ],
      "execution_count": 0,
      "outputs": [
        {
          "output_type": "stream",
          "text": [
            "Train on 40000 samples, validate on 10000 samples\n",
            "Epoch 1/20\n",
            " - 6s - loss: 1.5348 - acc: 0.4446 - val_loss: 1.2440 - val_acc: 0.5582\n",
            "Epoch 2/20\n",
            " - 6s - loss: 1.2106 - acc: 0.5722 - val_loss: 1.0371 - val_acc: 0.6323\n",
            "Epoch 3/20\n",
            " - 6s - loss: 1.0917 - acc: 0.6183 - val_loss: 1.0765 - val_acc: 0.6179\n",
            "Epoch 4/20\n",
            " - 6s - loss: 1.0153 - acc: 0.6421 - val_loss: 0.9942 - val_acc: 0.6554\n",
            "Epoch 5/20\n",
            " - 6s - loss: 0.9366 - acc: 0.6709 - val_loss: 0.9812 - val_acc: 0.6597\n",
            "Epoch 6/20\n",
            " - 6s - loss: 0.8757 - acc: 0.6895 - val_loss: 0.9550 - val_acc: 0.6714\n",
            "Epoch 7/20\n",
            " - 6s - loss: 0.8260 - acc: 0.7063 - val_loss: 0.9890 - val_acc: 0.6677\n",
            "Epoch 8/20\n",
            " - 6s - loss: 0.7834 - acc: 0.7231 - val_loss: 0.9575 - val_acc: 0.6735\n",
            "Epoch 9/20\n",
            " - 6s - loss: 0.7454 - acc: 0.7377 - val_loss: 0.9877 - val_acc: 0.6707\n",
            "Epoch 10/20\n",
            " - 6s - loss: 0.7242 - acc: 0.7504 - val_loss: 0.9958 - val_acc: 0.6700\n",
            "Epoch 11/20\n",
            " - 6s - loss: 0.6962 - acc: 0.7594 - val_loss: 1.0299 - val_acc: 0.6704\n",
            "Epoch 12/20\n",
            " - 6s - loss: 0.6558 - acc: 0.7725 - val_loss: 1.0088 - val_acc: 0.6737\n",
            "Epoch 13/20\n",
            " - 6s - loss: 0.6333 - acc: 0.7807 - val_loss: 0.9921 - val_acc: 0.6780\n",
            "Epoch 14/20\n",
            " - 6s - loss: 0.6195 - acc: 0.7857 - val_loss: 1.0414 - val_acc: 0.6683\n",
            "Epoch 15/20\n",
            " - 6s - loss: 0.6025 - acc: 0.7913 - val_loss: 1.0596 - val_acc: 0.6700\n",
            "Epoch 16/20\n",
            " - 6s - loss: 0.5820 - acc: 0.7982 - val_loss: 1.0554 - val_acc: 0.6682\n",
            "Epoch 17/20\n",
            " - 6s - loss: 0.5814 - acc: 0.8012 - val_loss: 1.0831 - val_acc: 0.6685\n",
            "Epoch 18/20\n",
            " - 6s - loss: 0.5710 - acc: 0.8051 - val_loss: 1.0620 - val_acc: 0.6750\n",
            "Epoch 19/20\n",
            " - 6s - loss: 0.5463 - acc: 0.8133 - val_loss: 1.0937 - val_acc: 0.6699\n",
            "Epoch 20/20\n",
            " - 6s - loss: 0.5432 - acc: 0.8146 - val_loss: 1.2115 - val_acc: 0.6570\n"
          ],
          "name": "stdout"
        }
      ]
    },
    {
      "cell_type": "markdown",
      "metadata": {
        "id": "6klQy85Lr4tS",
        "colab_type": "text"
      },
      "source": [
        "#### As seen in our accuracy curves and loss curves, we did prevent over fitting to an extent with dropout, but our validation accuracy with no decay suffered. \n"
      ]
    },
    {
      "cell_type": "code",
      "metadata": {
        "id": "8w9rBwahh1QI",
        "colab_type": "code",
        "outputId": "ae8407d1-3162-44fc-9c92-f6a9de4fa9ad",
        "colab": {
          "base_uri": "https://localhost:8080/",
          "height": 404
        }
      },
      "source": [
        "plot_curves(history)"
      ],
      "execution_count": 0,
      "outputs": [
        {
          "output_type": "display_data",
          "data": {
            "image/png": "[encoded data removed]",
            "text/plain": [
              "<Figure size 576x432 with 1 Axes>"
            ]
          },
          "metadata": {
            "tags": []
          }
        }
      ]
    },
    {
      "cell_type": "code",
      "metadata": {
        "id": "wSnXJbRsh11L",
        "colab_type": "code",
        "outputId": "7281a4b4-2392-4eba-e053-31dcd4b915c9",
        "colab": {
          "base_uri": "https://localhost:8080/",
          "height": 404
        }
      },
      "source": [
        "plot_losses(history)"
      ],
      "execution_count": 0,
      "outputs": [
        {
          "output_type": "display_data",
          "data": {
            "image/png": "[encoded data removed]",
            "text/plain": [
              "<Figure size 576x432 with 1 Axes>"
            ]
          },
          "metadata": {
            "tags": []
          }
        }
      ]
    },
    {
      "cell_type": "code",
      "metadata": {
        "id": "NoiI2-j9WI73",
        "colab_type": "code",
        "colab": {}
      },
      "source": [
        "score = model.evaluate(x_test, y_test, batch_size=128, verbose=0)"
      ],
      "execution_count": 0,
      "outputs": []
    },
    {
      "cell_type": "code",
      "metadata": {
        "id": "m6WZ581AWLzp",
        "colab_type": "code",
        "outputId": "e1b1659a-3e1c-4e20-ff27-3a4e7531d4a4",
        "colab": {
          "base_uri": "https://localhost:8080/",
          "height": 51
        }
      },
      "source": [
        "print(model.metrics_names)\n",
        "print(score)"
      ],
      "execution_count": 0,
      "outputs": [
        {
          "output_type": "stream",
          "text": [
            "['loss', 'acc']\n",
            "[1.2254878425598144, 0.6513]\n"
          ],
          "name": "stdout"
        }
      ]
    },
    {
      "cell_type": "markdown",
      "metadata": {
        "id": "FTtuDDJtId8z",
        "colab_type": "text"
      },
      "source": [
        "### CNN Model: Dropout Layer with Weight Decay\n",
        "\n",
        "####Hypothesis: With these finely tuned parameters, we will most likely see our most accurate and least overfitted model yet. "
      ]
    },
    {
      "cell_type": "code",
      "metadata": {
        "id": "rjkSyq3BIQC8",
        "colab_type": "code",
        "colab": {}
      },
      "source": [
        "from keras.layers import Dense, Dropout, Flatten\n",
        "from keras.layers import Conv2D, MaxPooling2D\n",
        "\n",
        "model = Sequential()\n",
        "\n",
        "model.add(Conv2D(32, (3, 3), activation='relu', input_shape=(32, 32, 3)))\n",
        "model.add(Conv2D(32, (3, 3), activation='relu'))\n",
        "model.add(MaxPooling2D(pool_size=(2, 2)))\n",
        "# Dropout layer added here\n",
        "model.add(Dropout(0.25))\n",
        "\n",
        "model.add(Flatten())\n",
        "model.add(Dense(256, activation='relu'))\n",
        "# Dropout layer added here\n",
        "model.add(Dropout(0.5))\n",
        "model.add(Dense(10, activation='softmax'))\n",
        "\n",
        "sgd = SGD(lr=0.01, decay=1e-6, momentum=0.9, nesterov=True)\n",
        "model.compile(loss='categorical_crossentropy', metrics=['accuracy'], optimizer=sgd)"
      ],
      "execution_count": 0,
      "outputs": []
    },
    {
      "cell_type": "code",
      "metadata": {
        "id": "3z021mGmI_dp",
        "colab_type": "code",
        "outputId": "8666aa4d-1b66-46a6-cc45-a08eba7e0509",
        "colab": {
          "base_uri": "https://localhost:8080/",
          "height": 714
        }
      },
      "source": [
        "history = model.fit(x_train, y_train, batch_size=32, epochs=20, verbose=2, validation_split=0.2)"
      ],
      "execution_count": 0,
      "outputs": [
        {
          "output_type": "stream",
          "text": [
            "Train on 40000 samples, validate on 10000 samples\n",
            "Epoch 1/20\n",
            " - 6s - loss: 1.5476 - acc: 0.4405 - val_loss: 1.2485 - val_acc: 0.5524\n",
            "Epoch 2/20\n",
            " - 6s - loss: 1.2266 - acc: 0.5655 - val_loss: 1.0753 - val_acc: 0.6266\n",
            "Epoch 3/20\n",
            " - 6s - loss: 1.1071 - acc: 0.6093 - val_loss: 1.0251 - val_acc: 0.6446\n",
            "Epoch 4/20\n",
            " - 6s - loss: 1.0144 - acc: 0.6442 - val_loss: 1.0270 - val_acc: 0.6362\n",
            "Epoch 5/20\n",
            " - 6s - loss: 0.9389 - acc: 0.6681 - val_loss: 0.9826 - val_acc: 0.6585\n",
            "Epoch 6/20\n",
            " - 6s - loss: 0.8780 - acc: 0.6929 - val_loss: 1.0105 - val_acc: 0.6501\n",
            "Epoch 7/20\n",
            " - 6s - loss: 0.8212 - acc: 0.7125 - val_loss: 0.9717 - val_acc: 0.6721\n",
            "Epoch 8/20\n",
            " - 6s - loss: 0.7776 - acc: 0.7255 - val_loss: 0.9338 - val_acc: 0.6875\n",
            "Epoch 9/20\n",
            " - 6s - loss: 0.7407 - acc: 0.7419 - val_loss: 0.9689 - val_acc: 0.6774\n",
            "Epoch 10/20\n",
            " - 6s - loss: 0.7066 - acc: 0.7539 - val_loss: 0.9714 - val_acc: 0.6744\n",
            "Epoch 11/20\n",
            " - 6s - loss: 0.6661 - acc: 0.7676 - val_loss: 0.9925 - val_acc: 0.6774\n",
            "Epoch 12/20\n",
            " - 6s - loss: 0.6535 - acc: 0.7719 - val_loss: 1.0358 - val_acc: 0.6691\n",
            "Epoch 13/20\n",
            " - 6s - loss: 0.6218 - acc: 0.7871 - val_loss: 1.0339 - val_acc: 0.6711\n",
            "Epoch 14/20\n",
            " - 6s - loss: 0.6077 - acc: 0.7912 - val_loss: 1.0599 - val_acc: 0.6730\n",
            "Epoch 15/20\n",
            " - 6s - loss: 0.5877 - acc: 0.7978 - val_loss: 1.0986 - val_acc: 0.6655\n",
            "Epoch 16/20\n",
            " - 6s - loss: 0.5725 - acc: 0.8024 - val_loss: 1.0452 - val_acc: 0.6857\n",
            "Epoch 17/20\n",
            " - 6s - loss: 0.5649 - acc: 0.8075 - val_loss: 1.0380 - val_acc: 0.6824\n",
            "Epoch 18/20\n",
            " - 6s - loss: 0.5484 - acc: 0.8142 - val_loss: 1.1226 - val_acc: 0.6693\n",
            "Epoch 19/20\n",
            " - 6s - loss: 0.5446 - acc: 0.8140 - val_loss: 1.1020 - val_acc: 0.6775\n",
            "Epoch 20/20\n",
            " - 6s - loss: 0.5360 - acc: 0.8186 - val_loss: 1.1107 - val_acc: 0.6685\n"
          ],
          "name": "stdout"
        }
      ]
    },
    {
      "cell_type": "markdown",
      "metadata": {
        "id": "8GAXNG3yK5As",
        "colab_type": "text"
      },
      "source": [
        "#### The results of these curves were also disappointing. We see no reduction in overfitting from the previous model and the accuracy still lingers at around 67%. We must try different techniques such as regularization to create better results. "
      ]
    },
    {
      "cell_type": "code",
      "metadata": {
        "id": "tYJyNey_KReV",
        "colab_type": "code",
        "outputId": "65a4bb8c-adca-4660-8064-0b36d1d267e1",
        "colab": {
          "base_uri": "https://localhost:8080/",
          "height": 404
        }
      },
      "source": [
        "plot_curves(history)"
      ],
      "execution_count": 0,
      "outputs": [
        {
          "output_type": "display_data",
          "data": {
            "image/png": "[encoded data removed]",
            "text/plain": [
              "<Figure size 576x432 with 1 Axes>"
            ]
          },
          "metadata": {
            "tags": []
          }
        }
      ]
    },
    {
      "cell_type": "code",
      "metadata": {
        "id": "XGPkkIkVKStx",
        "colab_type": "code",
        "outputId": "523dd957-d2d7-4a4b-fd97-eb1c5746d410",
        "colab": {
          "base_uri": "https://localhost:8080/",
          "height": 404
        }
      },
      "source": [
        "plot_losses(history)"
      ],
      "execution_count": 0,
      "outputs": [
        {
          "output_type": "display_data",
          "data": {
            "image/png": "[encoded data removed]",
            "text/plain": [
              "<Figure size 576x432 with 1 Axes>"
            ]
          },
          "metadata": {
            "tags": []
          }
        }
      ]
    },
    {
      "cell_type": "code",
      "metadata": {
        "id": "1JrxDH7WWOKf",
        "colab_type": "code",
        "colab": {}
      },
      "source": [
        "score = model.evaluate(x_test, y_test, batch_size=128, verbose=0)"
      ],
      "execution_count": 0,
      "outputs": []
    },
    {
      "cell_type": "code",
      "metadata": {
        "id": "ZfcaEGwpWO6p",
        "colab_type": "code",
        "outputId": "50ffb4e9-c911-4ca0-c52d-50e5db954c92",
        "colab": {
          "base_uri": "https://localhost:8080/",
          "height": 51
        }
      },
      "source": [
        "print(model.metrics_names)\n",
        "print(score)"
      ],
      "execution_count": 0,
      "outputs": [
        {
          "output_type": "stream",
          "text": [
            "['loss', 'acc']\n",
            "[1.1180916896820068, 0.6651]\n"
          ],
          "name": "stdout"
        }
      ]
    },
    {
      "cell_type": "markdown",
      "metadata": {
        "id": "RA-wxiXdsPHh",
        "colab_type": "text"
      },
      "source": [
        "## Batch Normalization: \n",
        "\n",
        "#### Batch Normalization is a technique that addresses the issue of vanishing/exploding gradients, and also the problem involving the distribution of each layer's inputs changing during training while the parameters of the previous layer change synchronously. This is known as the *Internal Covariate Shift* problem. \n",
        "\n",
        "#### Batch Normalization accomplishes this task by adding an operation in the model just before the activation function of each layer, simply zero-centering and normalizing the inputs, and then scaling and shifting the result with two new parameters per layer. This operation basically forces the model to learn the optimal scale and mean of the inputs per layer. \n",
        "\n",
        "#### The following equations show the step by step process the algorithm performs to estimate the inputs mean and standard deviation by evaluating the mean and deviation of the inputs over the current mini-batch. \n",
        "\n",
        "#### Step 1: Finds the empirical mean over the whole mini-batch. \n"
      ]
    },
    {
      "cell_type": "code",
      "metadata": {
        "id": "LD6NYAAHvnZO",
        "colab_type": "code",
        "outputId": "f82454d0-3938-4907-f032-8cc22bedcc27",
        "colab": {
          "base_uri": "https://localhost:8080/",
          "height": 96
        }
      },
      "source": [
        "from IPython.display import Math, HTML\n",
        "display(HTML(\"<script src='https://cdnjs.cloudflare.com/ajax/libs/mathjax/2.7.3/\"\n",
        "               \"latest.js?config=default'></script>\"))\n",
        "\n",
        "Math(r'\\mu_B \\leftarrow \\frac{1}{m}\\sum_{i = 1}^{m}x_i')"
      ],
      "execution_count": 0,
      "outputs": [
        {
          "output_type": "display_data",
          "data": {
            "text/html": [
              "<script src='https://cdnjs.cloudflare.com/ajax/libs/mathjax/2.7.3/latest.js?config=default'></script>"
            ],
            "text/plain": [
              "<IPython.core.display.HTML object>"
            ]
          },
          "metadata": {
            "tags": []
          }
        },
        {
          "output_type": "execute_result",
          "data": {
            "text/latex": "$$\\mu_B \\leftarrow \\frac{1}{m}\\sum_{i = 1}^{m}x_i$$",
            "text/plain": [
              "<IPython.core.display.Math object>"
            ]
          },
          "metadata": {
            "tags": []
          },
          "execution_count": 49
        }
      ]
    },
    {
      "cell_type": "markdown",
      "metadata": {
        "id": "Jg2XGZzD1wtY",
        "colab_type": "text"
      },
      "source": [
        "#### Step 2: Finds the empirical standard deviation evaluated over the whole mini-batch."
      ]
    },
    {
      "cell_type": "code",
      "metadata": {
        "id": "SMHioAfOv6rF",
        "colab_type": "code",
        "outputId": "ab099211-3ef7-4a28-d2c5-69896d77f07f",
        "colab": {
          "base_uri": "https://localhost:8080/",
          "height": 96
        }
      },
      "source": [
        "from IPython.display import Math, HTML\n",
        "display(HTML(\"<script src='https://cdnjs.cloudflare.com/ajax/libs/mathjax/2.7.3/\"\n",
        "               \"latest.js?config=default'></script>\"))\n",
        "\n",
        "Math(r'\\sigma_B^2 \\leftarrow \\frac{1}{m} \\sum_{i=1}^{m}(x_i - \\mu_B)^2')"
      ],
      "execution_count": 0,
      "outputs": [
        {
          "output_type": "display_data",
          "data": {
            "text/html": [
              "<script src='https://cdnjs.cloudflare.com/ajax/libs/mathjax/2.7.3/latest.js?config=default'></script>"
            ],
            "text/plain": [
              "<IPython.core.display.HTML object>"
            ]
          },
          "metadata": {
            "tags": []
          }
        },
        {
          "output_type": "execute_result",
          "data": {
            "text/latex": "$$\\sigma_B^2 \\leftarrow \\frac{1}{m} \\sum_{i=1}^{m}(x_i - \\mu_B)^2$$",
            "text/plain": [
              "<IPython.core.display.Math object>"
            ]
          },
          "metadata": {
            "tags": []
          },
          "execution_count": 50
        }
      ]
    },
    {
      "cell_type": "markdown",
      "metadata": {
        "id": "S4xkeaWI18F5",
        "colab_type": "text"
      },
      "source": [
        "#### Step 3: Produces the zero-centered, normalized input."
      ]
    },
    {
      "cell_type": "code",
      "metadata": {
        "id": "hB5GhCMTwA0L",
        "colab_type": "code",
        "outputId": "b9a5c6a3-f2fb-4378-bc81-951665f4d336",
        "colab": {
          "base_uri": "https://localhost:8080/",
          "height": 99
        }
      },
      "source": [
        "from IPython.display import Math, HTML\n",
        "display(HTML(\"<script src='https://cdnjs.cloudflare.com/ajax/libs/mathjax/2.7.3/\"\n",
        "               \"latest.js?config=default'></script>\"))\n",
        "\n",
        "Math(r'\\hat{x_i} \\leftarrow \\frac{x_i - \\mu_B}{\\sqrt{\\sigma_B^2 + \\epsilon}}')"
      ],
      "execution_count": 0,
      "outputs": [
        {
          "output_type": "display_data",
          "data": {
            "text/html": [
              "<script src='https://cdnjs.cloudflare.com/ajax/libs/mathjax/2.7.3/latest.js?config=default'></script>"
            ],
            "text/plain": [
              "<IPython.core.display.HTML object>"
            ]
          },
          "metadata": {
            "tags": []
          }
        },
        {
          "output_type": "execute_result",
          "data": {
            "text/latex": "$$\\hat{x_i} \\leftarrow \\frac{x_i - \\mu_B}{\\sqrt{\\sigma_B^2 + \\epsilon}}$$",
            "text/plain": [
              "<IPython.core.display.Math object>"
            ]
          },
          "metadata": {
            "tags": []
          },
          "execution_count": 51
        }
      ]
    },
    {
      "cell_type": "markdown",
      "metadata": {
        "id": "zAavsoZl2IXa",
        "colab_type": "text"
      },
      "source": [
        "#### Step 4: The entire output of the Batch Normalization algorithm: it returns a scaled and shifted version of the inputs. "
      ]
    },
    {
      "cell_type": "code",
      "metadata": {
        "id": "0fIXJsw8wXJe",
        "colab_type": "code",
        "outputId": "dc19903a-ea34-4bde-f1aa-536af9cc22ae",
        "colab": {
          "base_uri": "https://localhost:8080/",
          "height": 68
        }
      },
      "source": [
        "from IPython.display import Math, HTML\n",
        "display(HTML(\"<script src='https://cdnjs.cloudflare.com/ajax/libs/mathjax/2.7.3/\"\n",
        "               \"latest.js?config=default'></script>\"))\n",
        "\n",
        "Math(r'y_i \\leftarrow \\gamma \\hat{x_i} + \\beta \\equiv \\mbox{BN}_{\\gamma,\\beta}(x_i)')"
      ],
      "execution_count": 0,
      "outputs": [
        {
          "output_type": "display_data",
          "data": {
            "text/html": [
              "<script src='https://cdnjs.cloudflare.com/ajax/libs/mathjax/2.7.3/latest.js?config=default'></script>"
            ],
            "text/plain": [
              "<IPython.core.display.HTML object>"
            ]
          },
          "metadata": {
            "tags": []
          }
        },
        {
          "output_type": "execute_result",
          "data": {
            "text/latex": "$$y_i \\leftarrow \\gamma \\hat{x_i} + \\beta \\equiv \\mbox{BN}_{\\gamma,\\beta}(x_i)$$",
            "text/plain": [
              "<IPython.core.display.Math object>"
            ]
          },
          "metadata": {
            "tags": []
          },
          "execution_count": 52
        }
      ]
    },
    {
      "cell_type": "markdown",
      "metadata": {
        "id": "Y9AcQ_vS2bek",
        "colab_type": "text"
      },
      "source": [
        "#### We will now continue optimizing our model with Batch Normalization, while keeping our Dropout rate with decay and CNN layers the same. "
      ]
    },
    {
      "cell_type": "code",
      "metadata": {
        "id": "wA-kwlzUX_F8",
        "colab_type": "code",
        "outputId": "47ee0019-3786-41be-9ca2-83deb002098d",
        "colab": {
          "base_uri": "https://localhost:8080/",
          "height": 71
        }
      },
      "source": [
        "from keras.layers import Dense, Flatten, Activation\n",
        "from keras.layers import Conv2D, MaxPooling2D\n",
        "from keras.layers.normalization import BatchNormalization\n",
        "\n",
        "model = Sequential()\n",
        "\n",
        "model.add(Conv2D(32, (3, 3), activation='relu', input_shape=(32, 32, 3)))\n",
        "model.add(Conv2D(32, (3, 3)))\n",
        "# Batch normalization layer added here\n",
        "model.add(BatchNormalization())\n",
        "model.add(Activation('relu'))\n",
        "model.add(MaxPooling2D(pool_size=(2, 2)))\n",
        "model.add(Dropout(0.25))\n",
        "\n",
        "model.add(Flatten())\n",
        "model.add(Dense(256))\n",
        "# Batch normalization layer added here\n",
        "model.add(BatchNormalization())\n",
        "model.add(Activation('relu'))\n",
        "model.add(Dropout(0.5))\n",
        "model.add(Dense(10, activation='softmax'))\n",
        "\n",
        "sgd = SGD(lr=0.01, decay=1e-6, momentum=0.9, nesterov=True)\n",
        "model.compile(loss='categorical_crossentropy', metrics=['accuracy'], optimizer=sgd)"
      ],
      "execution_count": 0,
      "outputs": [
        {
          "output_type": "stream",
          "text": [
            "WARNING:tensorflow:From /usr/local/lib/python3.6/dist-packages/keras/backend/tensorflow_backend.py:2041: The name tf.nn.fused_batch_norm is deprecated. Please use tf.compat.v1.nn.fused_batch_norm instead.\n",
            "\n"
          ],
          "name": "stdout"
        }
      ]
    },
    {
      "cell_type": "code",
      "metadata": {
        "id": "a2dLQaKDYGgB",
        "colab_type": "code",
        "outputId": "211a3513-9423-408a-dbfe-335ad3db60c9",
        "colab": {
          "base_uri": "https://localhost:8080/",
          "height": 714
        }
      },
      "source": [
        "history = model.fit(x_train, y_train, batch_size=32, epochs=20, verbose=2, validation_split=0.2)"
      ],
      "execution_count": 0,
      "outputs": [
        {
          "output_type": "stream",
          "text": [
            "Train on 40000 samples, validate on 10000 samples\n",
            "Epoch 1/20\n",
            " - 8s - loss: 1.5453 - acc: 0.4478 - val_loss: 1.1670 - val_acc: 0.5828\n",
            "Epoch 2/20\n",
            " - 8s - loss: 1.2015 - acc: 0.5712 - val_loss: 1.0032 - val_acc: 0.6448\n",
            "Epoch 3/20\n",
            " - 8s - loss: 1.0536 - acc: 0.6253 - val_loss: 0.9519 - val_acc: 0.6643\n",
            "Epoch 4/20\n",
            " - 8s - loss: 0.9535 - acc: 0.6581 - val_loss: 0.9228 - val_acc: 0.6751\n",
            "Epoch 5/20\n",
            " - 8s - loss: 0.8838 - acc: 0.6873 - val_loss: 0.8669 - val_acc: 0.7003\n",
            "Epoch 6/20\n",
            " - 8s - loss: 0.8218 - acc: 0.7087 - val_loss: 0.8469 - val_acc: 0.7079\n",
            "Epoch 7/20\n",
            " - 8s - loss: 0.7667 - acc: 0.7290 - val_loss: 0.8408 - val_acc: 0.7122\n",
            "Epoch 8/20\n",
            " - 8s - loss: 0.7225 - acc: 0.7417 - val_loss: 0.8292 - val_acc: 0.7109\n",
            "Epoch 9/20\n",
            " - 8s - loss: 0.6767 - acc: 0.7589 - val_loss: 0.8169 - val_acc: 0.7234\n",
            "Epoch 10/20\n",
            " - 8s - loss: 0.6403 - acc: 0.7722 - val_loss: 0.7874 - val_acc: 0.7317\n",
            "Epoch 11/20\n",
            " - 8s - loss: 0.6133 - acc: 0.7821 - val_loss: 0.8363 - val_acc: 0.7196\n",
            "Epoch 12/20\n",
            " - 8s - loss: 0.5751 - acc: 0.7931 - val_loss: 0.8205 - val_acc: 0.7286\n",
            "Epoch 13/20\n",
            " - 8s - loss: 0.5480 - acc: 0.8050 - val_loss: 0.8223 - val_acc: 0.7205\n",
            "Epoch 14/20\n",
            " - 8s - loss: 0.5243 - acc: 0.8130 - val_loss: 0.8562 - val_acc: 0.7152\n",
            "Epoch 15/20\n",
            " - 8s - loss: 0.4956 - acc: 0.8214 - val_loss: 0.8272 - val_acc: 0.7306\n",
            "Epoch 16/20\n",
            " - 8s - loss: 0.4802 - acc: 0.8290 - val_loss: 0.8033 - val_acc: 0.7347\n",
            "Epoch 17/20\n",
            " - 8s - loss: 0.4602 - acc: 0.8336 - val_loss: 0.8109 - val_acc: 0.7363\n",
            "Epoch 18/20\n",
            " - 8s - loss: 0.4359 - acc: 0.8444 - val_loss: 0.8502 - val_acc: 0.7311\n",
            "Epoch 19/20\n",
            " - 8s - loss: 0.4264 - acc: 0.8464 - val_loss: 0.8340 - val_acc: 0.7344\n",
            "Epoch 20/20\n",
            " - 8s - loss: 0.4035 - acc: 0.8540 - val_loss: 0.8023 - val_acc: 0.7432\n"
          ],
          "name": "stdout"
        }
      ]
    },
    {
      "cell_type": "markdown",
      "metadata": {
        "id": "5ylAi23S26PR",
        "colab_type": "text"
      },
      "source": [
        "#### In viewing the plots, we see a slight improvement in the loss and accuracy curves. Our validation accuracy is also increasing, which means that our model with generalize more with new data at around 73% accuracy, but we might need to tune our dropout level to reach a better overall evaluation. "
      ]
    },
    {
      "cell_type": "code",
      "metadata": {
        "id": "mg9vDcNEcfGW",
        "colab_type": "code",
        "outputId": "f43bfdec-ca91-4825-b6ae-4023a4e8db6a",
        "colab": {
          "base_uri": "https://localhost:8080/",
          "height": 404
        }
      },
      "source": [
        "plot_curves(history)"
      ],
      "execution_count": 0,
      "outputs": [
        {
          "output_type": "display_data",
          "data": {
            "image/png": "[encoded data removed]",
            "text/plain": [
              "<Figure size 576x432 with 1 Axes>"
            ]
          },
          "metadata": {
            "tags": []
          }
        }
      ]
    },
    {
      "cell_type": "code",
      "metadata": {
        "id": "z7Df4Bdjbelm",
        "colab_type": "code",
        "outputId": "3a16a5dc-8d72-43b2-ad64-03bf87188ea8",
        "colab": {
          "base_uri": "https://localhost:8080/",
          "height": 404
        }
      },
      "source": [
        "plot_losses(history)"
      ],
      "execution_count": 0,
      "outputs": [
        {
          "output_type": "display_data",
          "data": {
            "image/png": "[encoded data removed]",
            "text/plain": [
              "<Figure size 576x432 with 1 Axes>"
            ]
          },
          "metadata": {
            "tags": []
          }
        }
      ]
    },
    {
      "cell_type": "code",
      "metadata": {
        "id": "O76yzxw-WUYd",
        "colab_type": "code",
        "colab": {}
      },
      "source": [
        "score = model.evaluate(x_test, y_test, batch_size=128, verbose=0)"
      ],
      "execution_count": 0,
      "outputs": []
    },
    {
      "cell_type": "code",
      "metadata": {
        "id": "sUI_LgOSWXwS",
        "colab_type": "code",
        "outputId": "497534de-1388-44b1-f8fd-b153e358a8d9",
        "colab": {
          "base_uri": "https://localhost:8080/",
          "height": 51
        }
      },
      "source": [
        "print(model.metrics_names)\n",
        "print(score)"
      ],
      "execution_count": 0,
      "outputs": [
        {
          "output_type": "stream",
          "text": [
            "['loss', 'acc']\n",
            "[0.8316235427856445, 0.7291]\n"
          ],
          "name": "stdout"
        }
      ]
    },
    {
      "cell_type": "markdown",
      "metadata": {
        "id": "aQlg7BYkkRDK",
        "colab_type": "text"
      },
      "source": [
        "#### We will train the same model, but with a minor change to the second dropout instance. We will decrease it from .5 to .4"
      ]
    },
    {
      "cell_type": "code",
      "metadata": {
        "id": "UHehDH-r9TIU",
        "colab_type": "code",
        "colab": {}
      },
      "source": [
        "from keras.layers import Dense, Flatten, Activation\n",
        "from keras.layers import Conv2D, MaxPooling2D\n",
        "from keras.layers.normalization import BatchNormalization\n",
        "\n",
        "model = Sequential()\n",
        "\n",
        "model.add(Conv2D(32, (3, 3), activation='relu', input_shape=(32, 32, 3)))\n",
        "model.add(Conv2D(32, (3, 3)))\n",
        "# Batch normalization layer added here\n",
        "model.add(BatchNormalization())\n",
        "model.add(Activation('relu'))\n",
        "model.add(MaxPooling2D(pool_size=(2, 2)))\n",
        "model.add(Dropout(0.25))\n",
        "\n",
        "model.add(Flatten())\n",
        "model.add(Dense(256))\n",
        "# Batch normalization layer added here\n",
        "model.add(BatchNormalization())\n",
        "model.add(Activation('relu'))\n",
        "model.add(Dropout(0.4))\n",
        "model.add(Dense(10, activation='softmax'))\n",
        "\n",
        "sgd = SGD(lr=0.01, decay=1e-6, momentum=0.9, nesterov=True)\n",
        "model.compile(loss='categorical_crossentropy', metrics=['accuracy'], optimizer=sgd)"
      ],
      "execution_count": 0,
      "outputs": []
    },
    {
      "cell_type": "code",
      "metadata": {
        "id": "Wev0WJuk9bUs",
        "colab_type": "code",
        "outputId": "8c7be381-7415-4958-932e-611f3205c190",
        "colab": {
          "base_uri": "https://localhost:8080/",
          "height": 714
        }
      },
      "source": [
        "history = model.fit(x_train, y_train, batch_size=32, epochs=20, verbose=2, validation_split=0.2)"
      ],
      "execution_count": 0,
      "outputs": [
        {
          "output_type": "stream",
          "text": [
            "Train on 40000 samples, validate on 10000 samples\n",
            "Epoch 1/20\n",
            " - 9s - loss: 1.4730 - acc: 0.4755 - val_loss: 1.1305 - val_acc: 0.5951\n",
            "Epoch 2/20\n",
            " - 8s - loss: 1.1309 - acc: 0.5995 - val_loss: 1.0290 - val_acc: 0.6260\n",
            "Epoch 3/20\n",
            " - 8s - loss: 0.9775 - acc: 0.6537 - val_loss: 0.8819 - val_acc: 0.6882\n",
            "Epoch 4/20\n",
            " - 8s - loss: 0.8868 - acc: 0.6881 - val_loss: 0.9065 - val_acc: 0.6826\n",
            "Epoch 5/20\n",
            " - 8s - loss: 0.8119 - acc: 0.7119 - val_loss: 0.8484 - val_acc: 0.7003\n",
            "Epoch 6/20\n",
            " - 8s - loss: 0.7441 - acc: 0.7369 - val_loss: 0.8487 - val_acc: 0.7025\n",
            "Epoch 7/20\n",
            " - 8s - loss: 0.6935 - acc: 0.7543 - val_loss: 0.8050 - val_acc: 0.7181\n",
            "Epoch 8/20\n",
            " - 8s - loss: 0.6400 - acc: 0.7752 - val_loss: 0.8058 - val_acc: 0.7163\n",
            "Epoch 9/20\n",
            " - 8s - loss: 0.5966 - acc: 0.7884 - val_loss: 0.8265 - val_acc: 0.7197\n",
            "Epoch 10/20\n",
            " - 8s - loss: 0.5477 - acc: 0.8042 - val_loss: 0.7941 - val_acc: 0.7299\n",
            "Epoch 11/20\n",
            " - 8s - loss: 0.5132 - acc: 0.8170 - val_loss: 0.8757 - val_acc: 0.7125\n",
            "Epoch 12/20\n",
            " - 8s - loss: 0.4911 - acc: 0.8250 - val_loss: 0.8200 - val_acc: 0.7236\n",
            "Epoch 13/20\n",
            " - 8s - loss: 0.4553 - acc: 0.8385 - val_loss: 0.8391 - val_acc: 0.7249\n",
            "Epoch 14/20\n",
            " - 8s - loss: 0.4279 - acc: 0.8469 - val_loss: 0.8352 - val_acc: 0.7297\n",
            "Epoch 15/20\n",
            " - 8s - loss: 0.3953 - acc: 0.8584 - val_loss: 0.8462 - val_acc: 0.7347\n",
            "Epoch 16/20\n",
            " - 8s - loss: 0.3797 - acc: 0.8655 - val_loss: 0.8510 - val_acc: 0.7357\n",
            "Epoch 17/20\n",
            " - 8s - loss: 0.3627 - acc: 0.8702 - val_loss: 0.8963 - val_acc: 0.7250\n",
            "Epoch 18/20\n",
            " - 8s - loss: 0.3498 - acc: 0.8775 - val_loss: 0.8909 - val_acc: 0.7283\n",
            "Epoch 19/20\n",
            " - 8s - loss: 0.3290 - acc: 0.8828 - val_loss: 0.9113 - val_acc: 0.7256\n",
            "Epoch 20/20\n",
            " - 8s - loss: 0.3119 - acc: 0.8896 - val_loss: 0.8866 - val_acc: 0.7347\n"
          ],
          "name": "stdout"
        }
      ]
    },
    {
      "cell_type": "markdown",
      "metadata": {
        "id": "CDprhT-QkiSQ",
        "colab_type": "text"
      },
      "source": [
        "#### Interestingly, a minor change to the dropout brought the training and accuracy curves closer together, which means that model is generalizing better than before. This is because dropout trains an essemble of all subnetworks that can be constructed by removing non-output units from the base network, which effectively prevents overfitting by reducing the correlation between neurons.\n",
        "\n",
        "#### As a result, our model's loss has dropped to .90 and achieved an accuracy of 72.69%, which is almost at industry standard. "
      ]
    },
    {
      "cell_type": "code",
      "metadata": {
        "id": "UmAKsi8y9uZx",
        "colab_type": "code",
        "outputId": "2c22d009-3905-4f1f-f183-fccfe4e347df",
        "colab": {
          "base_uri": "https://localhost:8080/",
          "height": 404
        }
      },
      "source": [
        "plot_curves(history)"
      ],
      "execution_count": 0,
      "outputs": [
        {
          "output_type": "display_data",
          "data": {
            "image/png": "[encoded data removed]",
            "text/plain": [
              "<Figure size 576x432 with 1 Axes>"
            ]
          },
          "metadata": {
            "tags": []
          }
        }
      ]
    },
    {
      "cell_type": "code",
      "metadata": {
        "id": "U_UrwKBT9wpr",
        "colab_type": "code",
        "outputId": "73131bbc-c77d-4926-bef7-a375091c313e",
        "colab": {
          "base_uri": "https://localhost:8080/",
          "height": 404
        }
      },
      "source": [
        "plot_losses(history)"
      ],
      "execution_count": 0,
      "outputs": [
        {
          "output_type": "display_data",
          "data": {
            "image/png": "[encoded data removed]",
            "text/plain": [
              "<Figure size 576x432 with 1 Axes>"
            ]
          },
          "metadata": {
            "tags": []
          }
        }
      ]
    },
    {
      "cell_type": "code",
      "metadata": {
        "id": "lQiU5mHTWZ2D",
        "colab_type": "code",
        "colab": {}
      },
      "source": [
        "score = model.evaluate(x_test, y_test, batch_size=128, verbose=0)"
      ],
      "execution_count": 0,
      "outputs": []
    },
    {
      "cell_type": "code",
      "metadata": {
        "id": "-GrRmgkrWajS",
        "colab_type": "code",
        "outputId": "4cad64e9-05fc-4447-8a2a-1f62515d6621",
        "colab": {
          "base_uri": "https://localhost:8080/",
          "height": 51
        }
      },
      "source": [
        "print(model.metrics_names)\n",
        "print(score)"
      ],
      "execution_count": 0,
      "outputs": [
        {
          "output_type": "stream",
          "text": [
            "['loss', 'acc']\n",
            "[0.9044249374389648, 0.7269]\n"
          ],
          "name": "stdout"
        }
      ]
    },
    {
      "cell_type": "markdown",
      "metadata": {
        "id": "ocSHNY21eDQj",
        "colab_type": "text"
      },
      "source": [
        "### Final Network Architecture: Deep CNN with Data Augmentation and RMSProp Optimization\n",
        "\n",
        "#### We can increase the accuracy of the training with multiple convolutional layers that can generalize better and learn intermediary features. Building a Deep Neural Network can be advantageous, but it runs the risk of overfitting very quickly. \n",
        "\n",
        "#### We will deal with the issue of overfitting with data augmentation to increase the size of the training set by adding extra copies of the training examples that have been modified with transformations that do not change the actual class. This will help our model generalize because there will be more instances for it to learn on. \n",
        "\n",
        "#### Our next challenge will be to carefully design our model in regards to regularization and fine tuning our hyperparameters. The learning rate is one of the most difficult hyperparamters because it significantly affects the model's performance. We can deal with this issue by optimizing our model with RMSProp, which will algorithmically change the gradient accumulation into an exponentially weighted moving average. Since RMSProp uses a decaying average, it can discard history to converge more rapidly after finding the convex bowl. We will need this because we will be training with over 300,000 parameters. \n",
        "\n",
        "#### We will also run this model on the testing data as validation because we already know that it will perform better than the rest. The Dropout rate will start a .4 and decrease slightly over the layers. We will also continue using a small amount of decay and Batch Normalization. Basically, this model is just a deeper version of the best model we trained above. "
      ]
    },
    {
      "cell_type": "code",
      "metadata": {
        "id": "CtODHDFaI5xF",
        "colab_type": "code",
        "outputId": "955e8341-729c-405f-e020-f3219822afc0",
        "colab": {
          "base_uri": "https://localhost:8080/",
          "height": 1000
        }
      },
      "source": [
        "import keras\n",
        "from keras.models import Sequential\n",
        "from keras.utils import np_utils\n",
        "from keras.preprocessing.image import ImageDataGenerator\n",
        "from keras.layers import Dense, Activation, Flatten, Dropout, BatchNormalization\n",
        "from keras.layers import Conv2D, MaxPooling2D\n",
        "from keras.datasets import cifar10\n",
        "from keras import regularizers\n",
        "from keras.callbacks import LearningRateScheduler\n",
        "import numpy as np\n",
        "\n",
        "def lr_schedule(epoch):\n",
        "    lrate = 0.001\n",
        "    if epoch > 75:\n",
        "        lrate = 0.0005\n",
        "    elif epoch > 100:\n",
        "        lrate = 0.0003        \n",
        "    return lrate\n",
        "\n",
        "weight_decay = 1e-4\n",
        "model = Sequential()\n",
        "model.add(Conv2D(32, (3,3), padding='same', kernel_regularizer=regularizers.l2(weight_decay), input_shape=input_shape))\n",
        "model.add(Activation('elu'))\n",
        "model.add(BatchNormalization())\n",
        "model.add(Conv2D(32, (3,3), padding='same', kernel_regularizer=regularizers.l2(weight_decay)))\n",
        "model.add(Activation('elu'))\n",
        "model.add(BatchNormalization())\n",
        "model.add(MaxPooling2D(pool_size=(2,2)))\n",
        "model.add(Dropout(0.2))\n",
        "\n",
        "model.add(Conv2D(64, (3,3), padding='same', kernel_regularizer=regularizers.l2(weight_decay)))\n",
        "model.add(Activation('elu'))\n",
        "model.add(BatchNormalization())\n",
        "model.add(Conv2D(64, (3,3), padding='same', kernel_regularizer=regularizers.l2(weight_decay)))\n",
        "model.add(Activation('elu'))\n",
        "model.add(BatchNormalization())\n",
        "model.add(MaxPooling2D(pool_size=(2,2)))\n",
        "model.add(Dropout(0.3))\n",
        "\n",
        "model.add(Conv2D(128, (3,3), padding='same', kernel_regularizer=regularizers.l2(weight_decay)))\n",
        "model.add(Activation('elu'))\n",
        "model.add(BatchNormalization())\n",
        "model.add(Conv2D(128, (3,3), padding='same', kernel_regularizer=regularizers.l2(weight_decay)))\n",
        "model.add(Activation('elu'))\n",
        "model.add(BatchNormalization())\n",
        "model.add(MaxPooling2D(pool_size=(2,2)))\n",
        "model.add(Dropout(0.4))\n",
        "\n",
        "model.add(Flatten())\n",
        "model.add(Dense(num_classes, activation='softmax'))\n",
        "\n",
        "model.summary()\n",
        "\n",
        "#data augmentation\n",
        "datagen = ImageDataGenerator(\n",
        "    rotation_range=15,\n",
        "    width_shift_range=0.1,\n",
        "    height_shift_range=0.1,\n",
        "    horizontal_flip=True,\n",
        "    )\n",
        "datagen.fit(x_train)\n",
        "\n",
        "#training\n",
        "batch_size = 64\n",
        "\n",
        "opt_rms = keras.optimizers.rmsprop(lr=0.001,decay=1e-6)\n",
        "model.compile(loss='categorical_crossentropy', optimizer=opt_rms, metrics=['accuracy'])\n",
        "history = model.fit_generator(datagen.flow(x_train, y_train, batch_size=batch_size),\\\n",
        "                    steps_per_epoch=x_train.shape[0] // batch_size,epochs=125,\\\n",
        "                    verbose=1,validation_data=(x_test,y_test),callbacks=[LearningRateScheduler(lr_schedule)])"
      ],
      "execution_count": 0,
      "outputs": [
        {
          "output_type": "stream",
          "text": [
            "Model: \"sequential_9\"\n",
            "_________________________________________________________________\n",
            "Layer (type)                 Output Shape              Param #   \n",
            "=================================================================\n",
            "conv2d_17 (Conv2D)           (None, 32, 32, 32)        896       \n",
            "_________________________________________________________________\n",
            "activation_5 (Activation)    (None, 32, 32, 32)        0         \n",
            "_________________________________________________________________\n",
            "batch_normalization_5 (Batch (None, 32, 32, 32)        128       \n",
            "_________________________________________________________________\n",
            "conv2d_18 (Conv2D)           (None, 32, 32, 32)        9248      \n",
            "_________________________________________________________________\n",
            "activation_6 (Activation)    (None, 32, 32, 32)        0         \n",
            "_________________________________________________________________\n",
            "batch_normalization_6 (Batch (None, 32, 32, 32)        128       \n",
            "_________________________________________________________________\n",
            "max_pooling2d_9 (MaxPooling2 (None, 16, 16, 32)        0         \n",
            "_________________________________________________________________\n",
            "dropout_9 (Dropout)          (None, 16, 16, 32)        0         \n",
            "_________________________________________________________________\n",
            "conv2d_19 (Conv2D)           (None, 16, 16, 64)        18496     \n",
            "_________________________________________________________________\n",
            "activation_7 (Activation)    (None, 16, 16, 64)        0         \n",
            "_________________________________________________________________\n",
            "batch_normalization_7 (Batch (None, 16, 16, 64)        256       \n",
            "_________________________________________________________________\n",
            "conv2d_20 (Conv2D)           (None, 16, 16, 64)        36928     \n",
            "_________________________________________________________________\n",
            "activation_8 (Activation)    (None, 16, 16, 64)        0         \n",
            "_________________________________________________________________\n",
            "batch_normalization_8 (Batch (None, 16, 16, 64)        256       \n",
            "_________________________________________________________________\n",
            "max_pooling2d_10 (MaxPooling (None, 8, 8, 64)          0         \n",
            "_________________________________________________________________\n",
            "dropout_10 (Dropout)         (None, 8, 8, 64)          0         \n",
            "_________________________________________________________________\n",
            "conv2d_21 (Conv2D)           (None, 8, 8, 128)         73856     \n",
            "_________________________________________________________________\n",
            "activation_9 (Activation)    (None, 8, 8, 128)         0         \n",
            "_________________________________________________________________\n",
            "batch_normalization_9 (Batch (None, 8, 8, 128)         512       \n",
            "_________________________________________________________________\n",
            "conv2d_22 (Conv2D)           (None, 8, 8, 128)         147584    \n",
            "_________________________________________________________________\n",
            "activation_10 (Activation)   (None, 8, 8, 128)         0         \n",
            "_________________________________________________________________\n",
            "batch_normalization_10 (Batc (None, 8, 8, 128)         512       \n",
            "_________________________________________________________________\n",
            "max_pooling2d_11 (MaxPooling (None, 4, 4, 128)         0         \n",
            "_________________________________________________________________\n",
            "dropout_11 (Dropout)         (None, 4, 4, 128)         0         \n",
            "_________________________________________________________________\n",
            "flatten_9 (Flatten)          (None, 2048)              0         \n",
            "_________________________________________________________________\n",
            "dense_17 (Dense)             (None, 10)                20490     \n",
            "=================================================================\n",
            "Total params: 309,290\n",
            "Trainable params: 308,394\n",
            "Non-trainable params: 896\n",
            "_________________________________________________________________\n",
            "Epoch 1/125\n",
            "781/781 [==============================] - 24s 31ms/step - loss: 1.8871 - acc: 0.4351 - val_loss: 1.3360 - val_acc: 0.5848\n",
            "Epoch 2/125\n",
            "781/781 [==============================] - 23s 29ms/step - loss: 1.3057 - acc: 0.6002 - val_loss: 1.5015 - val_acc: 0.6157\n",
            "Epoch 3/125\n",
            "781/781 [==============================] - 23s 29ms/step - loss: 1.1571 - acc: 0.6527 - val_loss: 1.0131 - val_acc: 0.7003\n",
            "Epoch 4/125\n",
            "781/781 [==============================] - 23s 29ms/step - loss: 1.0617 - acc: 0.6863 - val_loss: 0.9398 - val_acc: 0.7323\n",
            "Epoch 5/125\n",
            "781/781 [==============================] - 23s 29ms/step - loss: 0.9899 - acc: 0.7079 - val_loss: 1.0336 - val_acc: 0.7016\n",
            "Epoch 6/125\n",
            "781/781 [==============================] - 23s 29ms/step - loss: 0.9275 - acc: 0.7260 - val_loss: 0.9115 - val_acc: 0.7345\n",
            "Epoch 7/125\n",
            "781/781 [==============================] - 23s 29ms/step - loss: 0.8854 - acc: 0.7396 - val_loss: 0.7835 - val_acc: 0.7766\n",
            "Epoch 8/125\n",
            "781/781 [==============================] - 23s 29ms/step - loss: 0.8414 - acc: 0.7538 - val_loss: 0.8006 - val_acc: 0.7712\n",
            "Epoch 9/125\n",
            "781/781 [==============================] - 23s 29ms/step - loss: 0.8144 - acc: 0.7626 - val_loss: 0.7609 - val_acc: 0.7862\n",
            "Epoch 10/125\n",
            "781/781 [==============================] - 23s 29ms/step - loss: 0.7915 - acc: 0.7679 - val_loss: 0.7427 - val_acc: 0.7927\n",
            "Epoch 11/125\n",
            "781/781 [==============================] - 23s 29ms/step - loss: 0.7671 - acc: 0.7804 - val_loss: 0.7085 - val_acc: 0.8014\n",
            "Epoch 12/125\n",
            "781/781 [==============================] - 23s 29ms/step - loss: 0.7481 - acc: 0.7844 - val_loss: 0.7196 - val_acc: 0.7998\n",
            "Epoch 13/125\n",
            "781/781 [==============================] - 23s 29ms/step - loss: 0.7342 - acc: 0.7924 - val_loss: 0.7713 - val_acc: 0.7907\n",
            "Epoch 14/125\n",
            "781/781 [==============================] - 23s 29ms/step - loss: 0.7259 - acc: 0.7956 - val_loss: 0.7470 - val_acc: 0.7967\n",
            "Epoch 15/125\n",
            "781/781 [==============================] - 23s 29ms/step - loss: 0.7181 - acc: 0.7973 - val_loss: 0.6776 - val_acc: 0.8145\n",
            "Epoch 16/125\n",
            "781/781 [==============================] - 23s 29ms/step - loss: 0.7036 - acc: 0.8025 - val_loss: 0.6551 - val_acc: 0.8254\n",
            "Epoch 17/125\n",
            "781/781 [==============================] - 23s 29ms/step - loss: 0.6976 - acc: 0.8046 - val_loss: 0.6960 - val_acc: 0.8139\n",
            "Epoch 18/125\n",
            "781/781 [==============================] - 23s 29ms/step - loss: 0.6846 - acc: 0.8125 - val_loss: 0.6689 - val_acc: 0.8241\n",
            "Epoch 19/125\n",
            "781/781 [==============================] - 23s 29ms/step - loss: 0.6825 - acc: 0.8125 - val_loss: 0.6282 - val_acc: 0.8390\n",
            "Epoch 20/125\n",
            "781/781 [==============================] - 22s 29ms/step - loss: 0.6726 - acc: 0.8151 - val_loss: 0.6321 - val_acc: 0.8358\n",
            "Epoch 21/125\n",
            "781/781 [==============================] - 22s 29ms/step - loss: 0.6631 - acc: 0.8180 - val_loss: 0.7107 - val_acc: 0.8108\n",
            "Epoch 22/125\n",
            "781/781 [==============================] - 23s 29ms/step - loss: 0.6644 - acc: 0.8191 - val_loss: 0.6974 - val_acc: 0.8145\n",
            "Epoch 23/125\n",
            "781/781 [==============================] - 23s 29ms/step - loss: 0.6519 - acc: 0.8241 - val_loss: 0.6094 - val_acc: 0.8407\n",
            "Epoch 24/125\n",
            "781/781 [==============================] - 23s 29ms/step - loss: 0.6505 - acc: 0.8244 - val_loss: 0.6949 - val_acc: 0.8218\n",
            "Epoch 25/125\n",
            "781/781 [==============================] - 23s 29ms/step - loss: 0.6486 - acc: 0.8268 - val_loss: 0.6016 - val_acc: 0.8453\n",
            "Epoch 26/125\n",
            "781/781 [==============================] - 23s 29ms/step - loss: 0.6474 - acc: 0.8270 - val_loss: 0.6059 - val_acc: 0.8453\n",
            "Epoch 27/125\n",
            "781/781 [==============================] - 23s 29ms/step - loss: 0.6432 - acc: 0.8269 - val_loss: 0.6415 - val_acc: 0.8366\n",
            "Epoch 28/125\n",
            "781/781 [==============================] - 22s 29ms/step - loss: 0.6371 - acc: 0.8293 - val_loss: 0.7431 - val_acc: 0.8171\n",
            "Epoch 29/125\n",
            "781/781 [==============================] - 22s 29ms/step - loss: 0.6418 - acc: 0.8287 - val_loss: 0.6126 - val_acc: 0.8437\n",
            "Epoch 30/125\n",
            "781/781 [==============================] - 22s 29ms/step - loss: 0.6325 - acc: 0.8332 - val_loss: 0.6318 - val_acc: 0.8391\n",
            "Epoch 31/125\n",
            "781/781 [==============================] - 23s 29ms/step - loss: 0.6335 - acc: 0.8336 - val_loss: 0.6341 - val_acc: 0.8427\n",
            "Epoch 32/125\n",
            "781/781 [==============================] - 22s 29ms/step - loss: 0.6279 - acc: 0.8328 - val_loss: 0.6054 - val_acc: 0.8471\n",
            "Epoch 33/125\n",
            "781/781 [==============================] - 23s 29ms/step - loss: 0.6261 - acc: 0.8344 - val_loss: 0.6104 - val_acc: 0.8458\n",
            "Epoch 34/125\n",
            "781/781 [==============================] - 22s 29ms/step - loss: 0.6251 - acc: 0.8350 - val_loss: 0.6359 - val_acc: 0.8387\n",
            "Epoch 35/125\n",
            "781/781 [==============================] - 23s 29ms/step - loss: 0.6213 - acc: 0.8379 - val_loss: 0.5929 - val_acc: 0.8577\n",
            "Epoch 36/125\n",
            "781/781 [==============================] - 23s 29ms/step - loss: 0.6187 - acc: 0.8371 - val_loss: 0.6434 - val_acc: 0.8377\n",
            "Epoch 37/125\n",
            "781/781 [==============================] - 23s 29ms/step - loss: 0.6211 - acc: 0.8371 - val_loss: 0.5786 - val_acc: 0.8593\n",
            "Epoch 38/125\n",
            "781/781 [==============================] - 23s 29ms/step - loss: 0.6172 - acc: 0.8396 - val_loss: 0.6290 - val_acc: 0.8450\n",
            "Epoch 39/125\n",
            "781/781 [==============================] - 23s 29ms/step - loss: 0.6131 - acc: 0.8416 - val_loss: 0.5915 - val_acc: 0.8561\n",
            "Epoch 40/125\n",
            "781/781 [==============================] - 23s 29ms/step - loss: 0.6127 - acc: 0.8405 - val_loss: 0.5801 - val_acc: 0.8604\n",
            "Epoch 41/125\n",
            "781/781 [==============================] - 23s 29ms/step - loss: 0.6082 - acc: 0.8391 - val_loss: 0.6135 - val_acc: 0.8485\n",
            "Epoch 42/125\n",
            "781/781 [==============================] - 23s 29ms/step - loss: 0.6075 - acc: 0.8428 - val_loss: 0.5634 - val_acc: 0.8666\n",
            "Epoch 43/125\n",
            "781/781 [==============================] - 23s 29ms/step - loss: 0.6056 - acc: 0.8431 - val_loss: 0.6246 - val_acc: 0.8484\n",
            "Epoch 44/125\n",
            "781/781 [==============================] - 23s 29ms/step - loss: 0.6074 - acc: 0.8423 - val_loss: 0.5726 - val_acc: 0.8627\n",
            "Epoch 45/125\n",
            "781/781 [==============================] - 23s 29ms/step - loss: 0.6021 - acc: 0.8433 - val_loss: 0.6716 - val_acc: 0.8392\n",
            "Epoch 46/125\n",
            "781/781 [==============================] - 23s 29ms/step - loss: 0.5996 - acc: 0.8453 - val_loss: 0.6244 - val_acc: 0.8472\n",
            "Epoch 47/125\n",
            "781/781 [==============================] - 23s 29ms/step - loss: 0.6015 - acc: 0.8453 - val_loss: 0.6340 - val_acc: 0.8464\n",
            "Epoch 48/125\n",
            "781/781 [==============================] - 23s 29ms/step - loss: 0.5998 - acc: 0.8448 - val_loss: 0.6056 - val_acc: 0.8512\n",
            "Epoch 49/125\n",
            "781/781 [==============================] - 23s 29ms/step - loss: 0.5935 - acc: 0.8480 - val_loss: 0.6166 - val_acc: 0.8509\n",
            "Epoch 50/125\n",
            "781/781 [==============================] - 23s 29ms/step - loss: 0.5972 - acc: 0.8466 - val_loss: 0.6124 - val_acc: 0.8531\n",
            "Epoch 51/125\n",
            "781/781 [==============================] - 23s 29ms/step - loss: 0.5990 - acc: 0.8469 - val_loss: 0.6102 - val_acc: 0.8494\n",
            "Epoch 52/125\n",
            "781/781 [==============================] - 23s 29ms/step - loss: 0.5955 - acc: 0.8481 - val_loss: 0.6329 - val_acc: 0.8439\n",
            "Epoch 53/125\n",
            "781/781 [==============================] - 23s 29ms/step - loss: 0.5967 - acc: 0.8475 - val_loss: 0.6223 - val_acc: 0.8461\n",
            "Epoch 54/125\n",
            "781/781 [==============================] - 22s 29ms/step - loss: 0.5989 - acc: 0.8453 - val_loss: 0.6108 - val_acc: 0.8512\n",
            "Epoch 55/125\n",
            "781/781 [==============================] - 22s 28ms/step - loss: 0.5915 - acc: 0.8498 - val_loss: 0.5875 - val_acc: 0.8571\n",
            "Epoch 56/125\n",
            "781/781 [==============================] - 22s 28ms/step - loss: 0.5927 - acc: 0.8488 - val_loss: 0.6001 - val_acc: 0.8556\n",
            "Epoch 57/125\n",
            "781/781 [==============================] - 22s 28ms/step - loss: 0.5946 - acc: 0.8463 - val_loss: 0.5873 - val_acc: 0.8562\n",
            "Epoch 58/125\n",
            "781/781 [==============================] - 23s 30ms/step - loss: 0.5935 - acc: 0.8485 - val_loss: 0.6470 - val_acc: 0.8443\n",
            "Epoch 59/125\n",
            "781/781 [==============================] - 23s 29ms/step - loss: 0.5917 - acc: 0.8494 - val_loss: 0.5457 - val_acc: 0.8722\n",
            "Epoch 60/125\n",
            "781/781 [==============================] - 23s 29ms/step - loss: 0.5879 - acc: 0.8514 - val_loss: 0.6385 - val_acc: 0.8419\n",
            "Epoch 61/125\n",
            "781/781 [==============================] - 23s 29ms/step - loss: 0.5858 - acc: 0.8500 - val_loss: 0.5867 - val_acc: 0.8585\n",
            "Epoch 62/125\n",
            "781/781 [==============================] - 23s 29ms/step - loss: 0.5872 - acc: 0.8514 - val_loss: 0.6040 - val_acc: 0.8550\n",
            "Epoch 63/125\n",
            "781/781 [==============================] - 23s 29ms/step - loss: 0.5877 - acc: 0.8513 - val_loss: 0.6168 - val_acc: 0.8537\n",
            "Epoch 64/125\n",
            "781/781 [==============================] - 23s 29ms/step - loss: 0.5878 - acc: 0.8503 - val_loss: 0.6574 - val_acc: 0.8426\n",
            "Epoch 65/125\n",
            "781/781 [==============================] - 23s 30ms/step - loss: 0.5798 - acc: 0.8543 - val_loss: 0.5954 - val_acc: 0.8563\n",
            "Epoch 66/125\n",
            "781/781 [==============================] - 23s 29ms/step - loss: 0.5791 - acc: 0.8524 - val_loss: 0.5747 - val_acc: 0.8597\n",
            "Epoch 67/125\n",
            "781/781 [==============================] - 23s 30ms/step - loss: 0.5798 - acc: 0.8543 - val_loss: 0.5684 - val_acc: 0.8634\n",
            "Epoch 68/125\n",
            "781/781 [==============================] - 23s 29ms/step - loss: 0.5806 - acc: 0.8529 - val_loss: 0.6285 - val_acc: 0.8472\n",
            "Epoch 69/125\n",
            "781/781 [==============================] - 23s 30ms/step - loss: 0.5793 - acc: 0.8531 - val_loss: 0.6297 - val_acc: 0.8493\n",
            "Epoch 70/125\n",
            "781/781 [==============================] - 23s 30ms/step - loss: 0.5830 - acc: 0.8527 - val_loss: 0.6176 - val_acc: 0.8504\n",
            "Epoch 71/125\n",
            "781/781 [==============================] - 23s 29ms/step - loss: 0.5800 - acc: 0.8525 - val_loss: 0.5723 - val_acc: 0.8618\n",
            "Epoch 72/125\n",
            "781/781 [==============================] - 23s 29ms/step - loss: 0.5753 - acc: 0.8561 - val_loss: 0.6222 - val_acc: 0.8523\n",
            "Epoch 73/125\n",
            "781/781 [==============================] - 23s 30ms/step - loss: 0.5734 - acc: 0.8561 - val_loss: 0.6831 - val_acc: 0.8332\n",
            "Epoch 74/125\n",
            "781/781 [==============================] - 23s 29ms/step - loss: 0.5770 - acc: 0.8534 - val_loss: 0.5302 - val_acc: 0.8778\n",
            "Epoch 75/125\n",
            "781/781 [==============================] - 23s 30ms/step - loss: 0.5728 - acc: 0.8528 - val_loss: 0.5712 - val_acc: 0.8637\n",
            "Epoch 76/125\n",
            "781/781 [==============================] - 23s 29ms/step - loss: 0.5715 - acc: 0.8574 - val_loss: 0.6234 - val_acc: 0.8494\n",
            "Epoch 77/125\n",
            "781/781 [==============================] - 23s 29ms/step - loss: 0.5307 - acc: 0.8692 - val_loss: 0.5323 - val_acc: 0.8775\n",
            "Epoch 78/125\n",
            "781/781 [==============================] - 23s 30ms/step - loss: 0.5218 - acc: 0.8705 - val_loss: 0.5268 - val_acc: 0.8769\n",
            "Epoch 79/125\n",
            "781/781 [==============================] - 23s 29ms/step - loss: 0.5032 - acc: 0.8768 - val_loss: 0.4985 - val_acc: 0.8842\n",
            "Epoch 80/125\n",
            "781/781 [==============================] - 23s 29ms/step - loss: 0.4962 - acc: 0.8780 - val_loss: 0.5493 - val_acc: 0.8692\n",
            "Epoch 81/125\n",
            "781/781 [==============================] - 23s 29ms/step - loss: 0.4996 - acc: 0.8757 - val_loss: 0.5150 - val_acc: 0.8781\n",
            "Epoch 82/125\n",
            "781/781 [==============================] - 23s 29ms/step - loss: 0.4910 - acc: 0.8763 - val_loss: 0.5440 - val_acc: 0.8689\n",
            "Epoch 83/125\n",
            "781/781 [==============================] - 23s 29ms/step - loss: 0.4856 - acc: 0.8783 - val_loss: 0.5373 - val_acc: 0.8679\n",
            "Epoch 84/125\n",
            "781/781 [==============================] - 23s 29ms/step - loss: 0.4826 - acc: 0.8793 - val_loss: 0.4920 - val_acc: 0.8865\n",
            "Epoch 85/125\n",
            "781/781 [==============================] - 23s 29ms/step - loss: 0.4814 - acc: 0.8788 - val_loss: 0.5045 - val_acc: 0.8797\n",
            "Epoch 86/125\n",
            "781/781 [==============================] - 23s 30ms/step - loss: 0.4799 - acc: 0.8784 - val_loss: 0.4804 - val_acc: 0.8862\n",
            "Epoch 87/125\n",
            "781/781 [==============================] - 23s 29ms/step - loss: 0.4727 - acc: 0.8804 - val_loss: 0.4853 - val_acc: 0.8825\n",
            "Epoch 88/125\n",
            "781/781 [==============================] - 23s 29ms/step - loss: 0.4794 - acc: 0.8771 - val_loss: 0.4813 - val_acc: 0.8881\n",
            "Epoch 89/125\n",
            "781/781 [==============================] - 23s 29ms/step - loss: 0.4682 - acc: 0.8817 - val_loss: 0.4724 - val_acc: 0.8882\n",
            "Epoch 90/125\n",
            "781/781 [==============================] - 23s 29ms/step - loss: 0.4697 - acc: 0.8801 - val_loss: 0.5211 - val_acc: 0.8719\n",
            "Epoch 91/125\n",
            "781/781 [==============================] - 23s 29ms/step - loss: 0.4680 - acc: 0.8810 - val_loss: 0.4884 - val_acc: 0.8821\n",
            "Epoch 92/125\n",
            "781/781 [==============================] - 23s 29ms/step - loss: 0.4696 - acc: 0.8807 - val_loss: 0.5901 - val_acc: 0.8561\n",
            "Epoch 93/125\n",
            "781/781 [==============================] - 23s 30ms/step - loss: 0.4674 - acc: 0.8815 - val_loss: 0.5063 - val_acc: 0.8755\n",
            "Epoch 94/125\n",
            "781/781 [==============================] - 23s 29ms/step - loss: 0.4623 - acc: 0.8824 - val_loss: 0.4965 - val_acc: 0.8801\n",
            "Epoch 95/125\n",
            "781/781 [==============================] - 23s 29ms/step - loss: 0.4594 - acc: 0.8833 - val_loss: 0.4861 - val_acc: 0.8819\n",
            "Epoch 96/125\n",
            "781/781 [==============================] - 23s 29ms/step - loss: 0.4605 - acc: 0.8829 - val_loss: 0.5108 - val_acc: 0.8743\n",
            "Epoch 97/125\n",
            "781/781 [==============================] - 23s 29ms/step - loss: 0.4588 - acc: 0.8819 - val_loss: 0.4723 - val_acc: 0.8857\n",
            "Epoch 98/125\n",
            "781/781 [==============================] - 23s 29ms/step - loss: 0.4644 - acc: 0.8806 - val_loss: 0.4604 - val_acc: 0.8899\n",
            "Epoch 99/125\n",
            "781/781 [==============================] - 23s 29ms/step - loss: 0.4556 - acc: 0.8823 - val_loss: 0.5005 - val_acc: 0.8801\n",
            "Epoch 100/125\n",
            "781/781 [==============================] - 23s 29ms/step - loss: 0.4543 - acc: 0.8829 - val_loss: 0.4789 - val_acc: 0.8799\n",
            "Epoch 101/125\n",
            "781/781 [==============================] - 23s 29ms/step - loss: 0.4583 - acc: 0.8821 - val_loss: 0.5117 - val_acc: 0.8738\n",
            "Epoch 102/125\n",
            "781/781 [==============================] - 23s 29ms/step - loss: 0.4545 - acc: 0.8833 - val_loss: 0.5116 - val_acc: 0.8741\n",
            "Epoch 103/125\n",
            "781/781 [==============================] - 23s 29ms/step - loss: 0.4529 - acc: 0.8835 - val_loss: 0.5008 - val_acc: 0.8782\n",
            "Epoch 104/125\n",
            "781/781 [==============================] - 23s 29ms/step - loss: 0.4515 - acc: 0.8842 - val_loss: 0.5913 - val_acc: 0.8493\n",
            "Epoch 105/125\n",
            "781/781 [==============================] - 23s 29ms/step - loss: 0.4544 - acc: 0.8833 - val_loss: 0.5289 - val_acc: 0.8709\n",
            "Epoch 106/125\n",
            "781/781 [==============================] - 23s 29ms/step - loss: 0.4500 - acc: 0.8821 - val_loss: 0.5038 - val_acc: 0.8784\n",
            "Epoch 107/125\n",
            "781/781 [==============================] - 23s 30ms/step - loss: 0.4457 - acc: 0.8847 - val_loss: 0.5001 - val_acc: 0.8800\n",
            "Epoch 108/125\n",
            "781/781 [==============================] - 23s 29ms/step - loss: 0.4506 - acc: 0.8827 - val_loss: 0.5149 - val_acc: 0.8751\n",
            "Epoch 109/125\n",
            "781/781 [==============================] - 23s 29ms/step - loss: 0.4460 - acc: 0.8838 - val_loss: 0.5205 - val_acc: 0.8731\n",
            "Epoch 110/125\n",
            "781/781 [==============================] - 23s 29ms/step - loss: 0.4478 - acc: 0.8854 - val_loss: 0.4851 - val_acc: 0.8833\n",
            "Epoch 111/125\n",
            "781/781 [==============================] - 23s 29ms/step - loss: 0.4464 - acc: 0.8836 - val_loss: 0.4775 - val_acc: 0.8836\n",
            "Epoch 112/125\n",
            "781/781 [==============================] - 22s 29ms/step - loss: 0.4475 - acc: 0.8843 - val_loss: 0.5379 - val_acc: 0.8700\n",
            "Epoch 113/125\n",
            "781/781 [==============================] - 23s 29ms/step - loss: 0.4443 - acc: 0.8846 - val_loss: 0.4763 - val_acc: 0.8831\n",
            "Epoch 114/125\n",
            "781/781 [==============================] - 23s 29ms/step - loss: 0.4501 - acc: 0.8835 - val_loss: 0.4799 - val_acc: 0.8818\n",
            "Epoch 115/125\n",
            "781/781 [==============================] - 23s 29ms/step - loss: 0.4413 - acc: 0.8851 - val_loss: 0.5181 - val_acc: 0.8738\n",
            "Epoch 116/125\n",
            "781/781 [==============================] - 22s 29ms/step - loss: 0.4479 - acc: 0.8845 - val_loss: 0.4659 - val_acc: 0.8870\n",
            "Epoch 117/125\n",
            "781/781 [==============================] - 23s 29ms/step - loss: 0.4471 - acc: 0.8844 - val_loss: 0.4878 - val_acc: 0.8780\n",
            "Epoch 118/125\n",
            "781/781 [==============================] - 23s 29ms/step - loss: 0.4478 - acc: 0.8833 - val_loss: 0.4752 - val_acc: 0.8817\n",
            "Epoch 119/125\n",
            "781/781 [==============================] - 23s 30ms/step - loss: 0.4438 - acc: 0.8834 - val_loss: 0.4708 - val_acc: 0.8861\n",
            "Epoch 120/125\n",
            "781/781 [==============================] - 23s 29ms/step - loss: 0.4380 - acc: 0.8859 - val_loss: 0.4738 - val_acc: 0.8801\n",
            "Epoch 121/125\n",
            "781/781 [==============================] - 23s 29ms/step - loss: 0.4430 - acc: 0.8854 - val_loss: 0.4799 - val_acc: 0.8820\n",
            "Epoch 122/125\n",
            "781/781 [==============================] - 23s 29ms/step - loss: 0.4451 - acc: 0.8847 - val_loss: 0.4864 - val_acc: 0.8768\n",
            "Epoch 123/125\n",
            "781/781 [==============================] - 23s 29ms/step - loss: 0.4465 - acc: 0.8844 - val_loss: 0.5315 - val_acc: 0.8707\n",
            "Epoch 124/125\n",
            "781/781 [==============================] - 23s 29ms/step - loss: 0.4446 - acc: 0.8839 - val_loss: 0.4663 - val_acc: 0.8862\n",
            "Epoch 125/125\n",
            "781/781 [==============================] - 23s 29ms/step - loss: 0.4378 - acc: 0.8864 - val_loss: 0.4657 - val_acc: 0.8855\n"
          ],
          "name": "stdout"
        }
      ]
    },
    {
      "cell_type": "markdown",
      "metadata": {
        "id": "oUOx-D4MiYHy",
        "colab_type": "text"
      },
      "source": [
        "### Deep CNN Model Evaluation: \n",
        "\n",
        "#### We were successful in surpassing the industry standard of ~75% by creating a deeply multilayered CNN that utilized Batch Normalization, Data Augmentation, and RMSProp Optimization. Our final evaluation indicates that our model will generalize to new images of data in the 10 given classes and label them correctly with ~88% accuracy. Most importantly, our model will not overfit with a loss score of only 0.47."
      ]
    },
    {
      "cell_type": "code",
      "metadata": {
        "id": "UpCVANssVn7Z",
        "colab_type": "code",
        "outputId": "7ff0c74b-67c1-44d9-eb9e-766f340402d1",
        "colab": {
          "base_uri": "https://localhost:8080/",
          "height": 404
        }
      },
      "source": [
        "plot_curves(history)"
      ],
      "execution_count": 0,
      "outputs": [
        {
          "output_type": "display_data",
          "data": {
            "image/png": "[encoded data removed]",
            "text/plain": [
              "<Figure size 576x432 with 1 Axes>"
            ]
          },
          "metadata": {
            "tags": []
          }
        }
      ]
    },
    {
      "cell_type": "code",
      "metadata": {
        "id": "8PRQKNQ1VuA9",
        "colab_type": "code",
        "outputId": "47831e06-d390-4156-f125-3a51fa9e9b24",
        "colab": {
          "base_uri": "https://localhost:8080/",
          "height": 404
        }
      },
      "source": [
        "plot_losses(history)"
      ],
      "execution_count": 0,
      "outputs": [
        {
          "output_type": "display_data",
          "data": {
            "image/png": "[encoded data removed]",
            "text/plain": [
              "<Figure size 576x432 with 1 Axes>"
            ]
          },
          "metadata": {
            "tags": []
          }
        }
      ]
    },
    {
      "cell_type": "markdown",
      "metadata": {
        "id": "93S6nN3njQxq",
        "colab_type": "text"
      },
      "source": [
        "### Final Score: 88.55%"
      ]
    },
    {
      "cell_type": "code",
      "metadata": {
        "id": "mMVKfMXiVyja",
        "colab_type": "code",
        "outputId": "77a0c35c-ba11-4a9d-cd98-8de7bd1b4bcd",
        "colab": {
          "base_uri": "https://localhost:8080/",
          "height": 34
        }
      },
      "source": [
        "scores = model.evaluate(x_test, y_test, batch_size=128, verbose=1)"
      ],
      "execution_count": 0,
      "outputs": [
        {
          "output_type": "stream",
          "text": [
            "10000/10000 [==============================] - 1s 60us/step\n"
          ],
          "name": "stdout"
        }
      ]
    },
    {
      "cell_type": "code",
      "metadata": {
        "id": "TQ3K5DrnWELL",
        "colab_type": "code",
        "outputId": "eb747c74-faa2-4b9d-8fa1-c838c1560338",
        "colab": {
          "base_uri": "https://localhost:8080/",
          "height": 51
        }
      },
      "source": [
        "print(model.metrics_names)\n",
        "print(scores)"
      ],
      "execution_count": 0,
      "outputs": [
        {
          "output_type": "stream",
          "text": [
            "['loss', 'acc']\n",
            "[0.46566411571502686, 0.8855]\n"
          ],
          "name": "stdout"
        }
      ]
    },
    {
      "cell_type": "code",
      "metadata": {
        "id": "leODat-Qr0Hh",
        "colab_type": "code",
        "colab": {}
      },
      "source": [
        "predictions = np.round(model.predict(x_test),0)"
      ],
      "execution_count": 0,
      "outputs": []
    },
    {
      "cell_type": "code",
      "metadata": {
        "id": "xYnh_3kLsAMd",
        "colab_type": "code",
        "outputId": "b087ea6a-8216-48e0-d335-5bc3cde733a8",
        "colab": {
          "base_uri": "https://localhost:8080/",
          "height": 136
        }
      },
      "source": [
        "print(\"rounded test labels\", predictions)"
      ],
      "execution_count": 0,
      "outputs": [
        {
          "output_type": "stream",
          "text": [
            "rounded test labels [[0. 0. 0. ... 0. 0. 0.]\n",
            " [0. 0. 0. ... 0. 1. 0.]\n",
            " [0. 0. 0. ... 0. 1. 0.]\n",
            " ...\n",
            " [0. 0. 0. ... 0. 0. 0.]\n",
            " [0. 1. 0. ... 0. 0. 0.]\n",
            " [0. 0. 0. ... 1. 0. 0.]]\n"
          ],
          "name": "stdout"
        }
      ]
    },
    {
      "cell_type": "code",
      "metadata": {
        "id": "8z_V93kHsScE",
        "colab_type": "code",
        "outputId": "0f84689b-22d5-4b6e-ac31-bc2380b27930",
        "colab": {
          "base_uri": "https://localhost:8080/",
          "height": 71
        }
      },
      "source": [
        "from sklearn import metrics\n",
        "cifar_classes = ['airplane', 'automobile', 'bird', 'cat', 'deer', 'dog', 'frog', 'horse', 'ship', 'truck']\n",
        "classification_metrics = metrics.classification_report(y_test, predictions, target_names=cifar_classes)"
      ],
      "execution_count": 0,
      "outputs": [
        {
          "output_type": "stream",
          "text": [
            "/usr/local/lib/python3.6/dist-packages/sklearn/metrics/classification.py:1437: UndefinedMetricWarning: Precision and F-score are ill-defined and being set to 0.0 in samples with no predicted labels.\n",
            "  'precision', 'predicted', average, warn_for)\n"
          ],
          "name": "stderr"
        }
      ]
    },
    {
      "cell_type": "markdown",
      "metadata": {
        "id": "_N9Vt1PEtMN1",
        "colab_type": "text"
      },
      "source": [
        "### Classification Metrics of our Final Model:\n",
        "\n",
        "#### Interestingly, our f1-scores for the given objects were the strongest in \"man-made\" objects as opposed to objects found in nature, such as animals or pets. Automobiles and Trucks recieved the highest scores, while Cats and Dogs recieved the lowest f1-scores. Perhaps the shapes of animals are more difficult to learn than cars and trucks. This must be because the image vectors are more defined in box-like shapes as opposed to shapes of animals that have tails. "
      ]
    },
    {
      "cell_type": "code",
      "metadata": {
        "id": "0Zqd0DUMs0m_",
        "colab_type": "code",
        "outputId": "ca56b565-b06a-4eaf-fe01-2010c8cb2e8b",
        "colab": {
          "base_uri": "https://localhost:8080/",
          "height": 323
        }
      },
      "source": [
        "print(classification_metrics)"
      ],
      "execution_count": 0,
      "outputs": [
        {
          "output_type": "stream",
          "text": [
            "              precision    recall  f1-score   support\n",
            "\n",
            "    airplane       0.93      0.87      0.90      1000\n",
            "  automobile       0.95      0.95      0.95      1000\n",
            "        bird       0.92      0.80      0.86      1000\n",
            "         cat       0.85      0.73      0.79      1000\n",
            "        deer       0.86      0.92      0.89      1000\n",
            "         dog       0.96      0.67      0.79      1000\n",
            "        frog       0.88      0.94      0.91      1000\n",
            "       horse       0.95      0.89      0.92      1000\n",
            "        ship       0.95      0.93      0.94      1000\n",
            "       truck       0.89      0.96      0.92      1000\n",
            "\n",
            "   micro avg       0.91      0.87      0.89     10000\n",
            "   macro avg       0.91      0.87      0.89     10000\n",
            "weighted avg       0.91      0.87      0.89     10000\n",
            " samples avg       0.87      0.87      0.87     10000\n",
            "\n"
          ],
          "name": "stdout"
        }
      ]
    }
  ]
}