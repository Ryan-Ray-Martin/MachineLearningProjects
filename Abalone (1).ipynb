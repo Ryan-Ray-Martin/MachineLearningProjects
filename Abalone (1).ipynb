{
 "cells": [
  {
   "cell_type": "markdown",
   "metadata": {},
   "source": [
    "# Predicting the Age of Abalone From Physical Measurements"
   ]
  },
  {
   "cell_type": "markdown",
   "metadata": {},
   "source": [
    "#### Frame the problem and look at the big picture:\n",
    "\n",
    "#### In this dataset, we must create a model that streamlines the process of determining the age of abalone. A more invasive and tedious approach to determining the age of an abalone is to disect it from the shell and count the rings within it. The number of rings directly correlates to the age. However, there are other physical features that are indicative of the abalone's age, and those features are to be used for training our model to predict the age of in the abalone. Essentially, this model will reduce the need to harm the abalone in order to collect data on it and monitor the growth of marine life.\n"
   ]
  },
  {
   "cell_type": "markdown",
   "metadata": {},
   "source": [
    "#### Get the data:\n",
    "\n",
    "#### In this dataset, we will read in the file as a csv in pandas and correctly label the columns as the features that are defined here: http://archive.ics.uci.edu/ml/datasets/Abalone. \n"
   ]
  },
  {
   "cell_type": "code",
   "execution_count": 1,
   "metadata": {},
   "outputs": [],
   "source": [
    "import pandas as pd\n",
    "import numpy as np"
   ]
  },
  {
   "cell_type": "code",
   "execution_count": 2,
   "metadata": {},
   "outputs": [],
   "source": [
    "df = pd.read_csv(\"/Users/ryanmartin/Desktop/abalone (3).data\", header=None)"
   ]
  },
  {
   "cell_type": "code",
   "execution_count": 3,
   "metadata": {},
   "outputs": [
    {
     "data": {
      "text/html": [
       "<div>\n",
       "<style scoped>\n",
       "    .dataframe tbody tr th:only-of-type {\n",
       "        vertical-align: middle;\n",
       "    }\n",
       "\n",
       "    .dataframe tbody tr th {\n",
       "        vertical-align: top;\n",
       "    }\n",
       "\n",
       "    .dataframe thead th {\n",
       "        text-align: right;\n",
       "    }\n",
       "</style>\n",
       "<table border=\"1\" class=\"dataframe\">\n",
       "  <thead>\n",
       "    <tr style=\"text-align: right;\">\n",
       "      <th></th>\n",
       "      <th>0</th>\n",
       "      <th>1</th>\n",
       "      <th>2</th>\n",
       "      <th>3</th>\n",
       "      <th>4</th>\n",
       "      <th>5</th>\n",
       "      <th>6</th>\n",
       "      <th>7</th>\n",
       "      <th>8</th>\n",
       "    </tr>\n",
       "  </thead>\n",
       "  <tbody>\n",
       "    <tr>\n",
       "      <th>0</th>\n",
       "      <td>M</td>\n",
       "      <td>0.455</td>\n",
       "      <td>0.365</td>\n",
       "      <td>0.095</td>\n",
       "      <td>0.5140</td>\n",
       "      <td>0.2245</td>\n",
       "      <td>0.1010</td>\n",
       "      <td>0.150</td>\n",
       "      <td>15</td>\n",
       "    </tr>\n",
       "    <tr>\n",
       "      <th>1</th>\n",
       "      <td>M</td>\n",
       "      <td>0.350</td>\n",
       "      <td>0.265</td>\n",
       "      <td>0.090</td>\n",
       "      <td>0.2255</td>\n",
       "      <td>0.0995</td>\n",
       "      <td>0.0485</td>\n",
       "      <td>0.070</td>\n",
       "      <td>7</td>\n",
       "    </tr>\n",
       "    <tr>\n",
       "      <th>2</th>\n",
       "      <td>F</td>\n",
       "      <td>0.530</td>\n",
       "      <td>0.420</td>\n",
       "      <td>0.135</td>\n",
       "      <td>0.6770</td>\n",
       "      <td>0.2565</td>\n",
       "      <td>0.1415</td>\n",
       "      <td>0.210</td>\n",
       "      <td>9</td>\n",
       "    </tr>\n",
       "    <tr>\n",
       "      <th>3</th>\n",
       "      <td>M</td>\n",
       "      <td>0.440</td>\n",
       "      <td>0.365</td>\n",
       "      <td>0.125</td>\n",
       "      <td>0.5160</td>\n",
       "      <td>0.2155</td>\n",
       "      <td>0.1140</td>\n",
       "      <td>0.155</td>\n",
       "      <td>10</td>\n",
       "    </tr>\n",
       "    <tr>\n",
       "      <th>4</th>\n",
       "      <td>I</td>\n",
       "      <td>0.330</td>\n",
       "      <td>0.255</td>\n",
       "      <td>0.080</td>\n",
       "      <td>0.2050</td>\n",
       "      <td>0.0895</td>\n",
       "      <td>0.0395</td>\n",
       "      <td>0.055</td>\n",
       "      <td>7</td>\n",
       "    </tr>\n",
       "  </tbody>\n",
       "</table>\n",
       "</div>"
      ],
      "text/plain": [
       "   0      1      2      3       4       5       6      7   8\n",
       "0  M  0.455  0.365  0.095  0.5140  0.2245  0.1010  0.150  15\n",
       "1  M  0.350  0.265  0.090  0.2255  0.0995  0.0485  0.070   7\n",
       "2  F  0.530  0.420  0.135  0.6770  0.2565  0.1415  0.210   9\n",
       "3  M  0.440  0.365  0.125  0.5160  0.2155  0.1140  0.155  10\n",
       "4  I  0.330  0.255  0.080  0.2050  0.0895  0.0395  0.055   7"
      ]
     },
     "execution_count": 3,
     "metadata": {},
     "output_type": "execute_result"
    }
   ],
   "source": [
    "df.head()"
   ]
  },
  {
   "cell_type": "code",
   "execution_count": 4,
   "metadata": {},
   "outputs": [],
   "source": [
    "df = df.rename(columns={0:\"Sex\", 1:\"Length\", 2: \"Diameter\", 3: \"Height\", 4: \"Whole Weight\", 5: \"Shucked Weight\",\n",
    "                  6: \"Viscera Weight\", 7: \"Shell Weight\", 8: \"Rings\"})"
   ]
  },
  {
   "cell_type": "code",
   "execution_count": 5,
   "metadata": {},
   "outputs": [
    {
     "data": {
      "text/html": [
       "<div>\n",
       "<style scoped>\n",
       "    .dataframe tbody tr th:only-of-type {\n",
       "        vertical-align: middle;\n",
       "    }\n",
       "\n",
       "    .dataframe tbody tr th {\n",
       "        vertical-align: top;\n",
       "    }\n",
       "\n",
       "    .dataframe thead th {\n",
       "        text-align: right;\n",
       "    }\n",
       "</style>\n",
       "<table border=\"1\" class=\"dataframe\">\n",
       "  <thead>\n",
       "    <tr style=\"text-align: right;\">\n",
       "      <th></th>\n",
       "      <th>Sex</th>\n",
       "      <th>Length</th>\n",
       "      <th>Diameter</th>\n",
       "      <th>Height</th>\n",
       "      <th>Whole Weight</th>\n",
       "      <th>Shucked Weight</th>\n",
       "      <th>Viscera Weight</th>\n",
       "      <th>Shell Weight</th>\n",
       "      <th>Rings</th>\n",
       "    </tr>\n",
       "  </thead>\n",
       "  <tbody>\n",
       "    <tr>\n",
       "      <th>0</th>\n",
       "      <td>M</td>\n",
       "      <td>0.455</td>\n",
       "      <td>0.365</td>\n",
       "      <td>0.095</td>\n",
       "      <td>0.5140</td>\n",
       "      <td>0.2245</td>\n",
       "      <td>0.1010</td>\n",
       "      <td>0.150</td>\n",
       "      <td>15</td>\n",
       "    </tr>\n",
       "    <tr>\n",
       "      <th>1</th>\n",
       "      <td>M</td>\n",
       "      <td>0.350</td>\n",
       "      <td>0.265</td>\n",
       "      <td>0.090</td>\n",
       "      <td>0.2255</td>\n",
       "      <td>0.0995</td>\n",
       "      <td>0.0485</td>\n",
       "      <td>0.070</td>\n",
       "      <td>7</td>\n",
       "    </tr>\n",
       "    <tr>\n",
       "      <th>2</th>\n",
       "      <td>F</td>\n",
       "      <td>0.530</td>\n",
       "      <td>0.420</td>\n",
       "      <td>0.135</td>\n",
       "      <td>0.6770</td>\n",
       "      <td>0.2565</td>\n",
       "      <td>0.1415</td>\n",
       "      <td>0.210</td>\n",
       "      <td>9</td>\n",
       "    </tr>\n",
       "    <tr>\n",
       "      <th>3</th>\n",
       "      <td>M</td>\n",
       "      <td>0.440</td>\n",
       "      <td>0.365</td>\n",
       "      <td>0.125</td>\n",
       "      <td>0.5160</td>\n",
       "      <td>0.2155</td>\n",
       "      <td>0.1140</td>\n",
       "      <td>0.155</td>\n",
       "      <td>10</td>\n",
       "    </tr>\n",
       "    <tr>\n",
       "      <th>4</th>\n",
       "      <td>I</td>\n",
       "      <td>0.330</td>\n",
       "      <td>0.255</td>\n",
       "      <td>0.080</td>\n",
       "      <td>0.2050</td>\n",
       "      <td>0.0895</td>\n",
       "      <td>0.0395</td>\n",
       "      <td>0.055</td>\n",
       "      <td>7</td>\n",
       "    </tr>\n",
       "  </tbody>\n",
       "</table>\n",
       "</div>"
      ],
      "text/plain": [
       "  Sex  Length  Diameter  Height  Whole Weight  Shucked Weight  Viscera Weight  \\\n",
       "0   M   0.455     0.365   0.095        0.5140          0.2245          0.1010   \n",
       "1   M   0.350     0.265   0.090        0.2255          0.0995          0.0485   \n",
       "2   F   0.530     0.420   0.135        0.6770          0.2565          0.1415   \n",
       "3   M   0.440     0.365   0.125        0.5160          0.2155          0.1140   \n",
       "4   I   0.330     0.255   0.080        0.2050          0.0895          0.0395   \n",
       "\n",
       "   Shell Weight  Rings  \n",
       "0         0.150     15  \n",
       "1         0.070      7  \n",
       "2         0.210      9  \n",
       "3         0.155     10  \n",
       "4         0.055      7  "
      ]
     },
     "execution_count": 5,
     "metadata": {},
     "output_type": "execute_result"
    }
   ],
   "source": [
    "df.head()"
   ]
  },
  {
   "cell_type": "markdown",
   "metadata": {},
   "source": [
    "#### From the problem statement and feature discription,  we must compute the target variable of the problem ' Age' and assign it to the dataset. Age = 1.5 + Rings"
   ]
  },
  {
   "cell_type": "code",
   "execution_count": 6,
   "metadata": {},
   "outputs": [],
   "source": [
    " df['Age'] = df['Rings']+1.5\n",
    " df.drop('Rings', axis = 1, inplace = True)"
   ]
  },
  {
   "cell_type": "code",
   "execution_count": 7,
   "metadata": {},
   "outputs": [
    {
     "data": {
      "text/html": [
       "<div>\n",
       "<style scoped>\n",
       "    .dataframe tbody tr th:only-of-type {\n",
       "        vertical-align: middle;\n",
       "    }\n",
       "\n",
       "    .dataframe tbody tr th {\n",
       "        vertical-align: top;\n",
       "    }\n",
       "\n",
       "    .dataframe thead th {\n",
       "        text-align: right;\n",
       "    }\n",
       "</style>\n",
       "<table border=\"1\" class=\"dataframe\">\n",
       "  <thead>\n",
       "    <tr style=\"text-align: right;\">\n",
       "      <th></th>\n",
       "      <th>Sex</th>\n",
       "      <th>Length</th>\n",
       "      <th>Diameter</th>\n",
       "      <th>Height</th>\n",
       "      <th>Whole Weight</th>\n",
       "      <th>Shucked Weight</th>\n",
       "      <th>Viscera Weight</th>\n",
       "      <th>Shell Weight</th>\n",
       "      <th>Age</th>\n",
       "    </tr>\n",
       "  </thead>\n",
       "  <tbody>\n",
       "    <tr>\n",
       "      <th>0</th>\n",
       "      <td>M</td>\n",
       "      <td>0.455</td>\n",
       "      <td>0.365</td>\n",
       "      <td>0.095</td>\n",
       "      <td>0.5140</td>\n",
       "      <td>0.2245</td>\n",
       "      <td>0.1010</td>\n",
       "      <td>0.150</td>\n",
       "      <td>16.5</td>\n",
       "    </tr>\n",
       "    <tr>\n",
       "      <th>1</th>\n",
       "      <td>M</td>\n",
       "      <td>0.350</td>\n",
       "      <td>0.265</td>\n",
       "      <td>0.090</td>\n",
       "      <td>0.2255</td>\n",
       "      <td>0.0995</td>\n",
       "      <td>0.0485</td>\n",
       "      <td>0.070</td>\n",
       "      <td>8.5</td>\n",
       "    </tr>\n",
       "    <tr>\n",
       "      <th>2</th>\n",
       "      <td>F</td>\n",
       "      <td>0.530</td>\n",
       "      <td>0.420</td>\n",
       "      <td>0.135</td>\n",
       "      <td>0.6770</td>\n",
       "      <td>0.2565</td>\n",
       "      <td>0.1415</td>\n",
       "      <td>0.210</td>\n",
       "      <td>10.5</td>\n",
       "    </tr>\n",
       "    <tr>\n",
       "      <th>3</th>\n",
       "      <td>M</td>\n",
       "      <td>0.440</td>\n",
       "      <td>0.365</td>\n",
       "      <td>0.125</td>\n",
       "      <td>0.5160</td>\n",
       "      <td>0.2155</td>\n",
       "      <td>0.1140</td>\n",
       "      <td>0.155</td>\n",
       "      <td>11.5</td>\n",
       "    </tr>\n",
       "    <tr>\n",
       "      <th>4</th>\n",
       "      <td>I</td>\n",
       "      <td>0.330</td>\n",
       "      <td>0.255</td>\n",
       "      <td>0.080</td>\n",
       "      <td>0.2050</td>\n",
       "      <td>0.0895</td>\n",
       "      <td>0.0395</td>\n",
       "      <td>0.055</td>\n",
       "      <td>8.5</td>\n",
       "    </tr>\n",
       "  </tbody>\n",
       "</table>\n",
       "</div>"
      ],
      "text/plain": [
       "  Sex  Length  Diameter  Height  Whole Weight  Shucked Weight  Viscera Weight  \\\n",
       "0   M   0.455     0.365   0.095        0.5140          0.2245          0.1010   \n",
       "1   M   0.350     0.265   0.090        0.2255          0.0995          0.0485   \n",
       "2   F   0.530     0.420   0.135        0.6770          0.2565          0.1415   \n",
       "3   M   0.440     0.365   0.125        0.5160          0.2155          0.1140   \n",
       "4   I   0.330     0.255   0.080        0.2050          0.0895          0.0395   \n",
       "\n",
       "   Shell Weight   Age  \n",
       "0         0.150  16.5  \n",
       "1         0.070   8.5  \n",
       "2         0.210  10.5  \n",
       "3         0.155  11.5  \n",
       "4         0.055   8.5  "
      ]
     },
     "execution_count": 7,
     "metadata": {},
     "output_type": "execute_result"
    }
   ],
   "source": [
    "df.head()"
   ]
  },
  {
   "cell_type": "markdown",
   "metadata": {},
   "source": [
    "#### Explore the data:\n",
    "\n",
    "#### We will then explore the data by studying its attributes and characteristics. By calling the pandas info function we can see all the datatypes present in each feature in the data. This information will be useful during the feature engineering stage, where we must prepare the data for the machine learning models. "
   ]
  },
  {
   "cell_type": "code",
   "execution_count": 8,
   "metadata": {},
   "outputs": [
    {
     "name": "stdout",
     "output_type": "stream",
     "text": [
      "<class 'pandas.core.frame.DataFrame'>\n",
      "RangeIndex: 4177 entries, 0 to 4176\n",
      "Data columns (total 9 columns):\n",
      "Sex               4177 non-null object\n",
      "Length            4177 non-null float64\n",
      "Diameter          4177 non-null float64\n",
      "Height            4177 non-null float64\n",
      "Whole Weight      4177 non-null float64\n",
      "Shucked Weight    4177 non-null float64\n",
      "Viscera Weight    4177 non-null float64\n",
      "Shell Weight      4177 non-null float64\n",
      "Age               4177 non-null float64\n",
      "dtypes: float64(8), object(1)\n",
      "memory usage: 293.8+ KB\n"
     ]
    }
   ],
   "source": [
    "df.info()"
   ]
  },
  {
   "cell_type": "markdown",
   "metadata": {},
   "source": [
    "#### Prepare the data:\n",
    "\n",
    "#### Data preparation for this dataset will not be too intensive because we do not have any missing values.  However, we must convert the Sex feature from categorical to numeric data in order for the machine learning algorithm to use this information as indicator variables. This will add n columns to the dataframe where n is the number of classes within that feature. In our case, since we have 3 different classes in Sex (Male, Female, and Intersex), we will be adding three new columns because the function labels the instance as a 1 if it belongs to the class and 0 if it does not. The next 4 cells displays how this process occured, and In[8] shows how the columns were reorganized to keep the label we are predicting on the end of the dataframe. "
   ]
  },
  {
   "cell_type": "code",
   "execution_count": 9,
   "metadata": {},
   "outputs": [
    {
     "data": {
      "text/html": [
       "<div>\n",
       "<style scoped>\n",
       "    .dataframe tbody tr th:only-of-type {\n",
       "        vertical-align: middle;\n",
       "    }\n",
       "\n",
       "    .dataframe tbody tr th {\n",
       "        vertical-align: top;\n",
       "    }\n",
       "\n",
       "    .dataframe thead th {\n",
       "        text-align: right;\n",
       "    }\n",
       "</style>\n",
       "<table border=\"1\" class=\"dataframe\">\n",
       "  <thead>\n",
       "    <tr style=\"text-align: right;\">\n",
       "      <th></th>\n",
       "      <th>Length</th>\n",
       "      <th>Diameter</th>\n",
       "      <th>Height</th>\n",
       "      <th>Whole Weight</th>\n",
       "      <th>Shucked Weight</th>\n",
       "      <th>Viscera Weight</th>\n",
       "      <th>Shell Weight</th>\n",
       "      <th>Age</th>\n",
       "      <th>Sex_F</th>\n",
       "      <th>Sex_I</th>\n",
       "      <th>Sex_M</th>\n",
       "    </tr>\n",
       "  </thead>\n",
       "  <tbody>\n",
       "    <tr>\n",
       "      <th>0</th>\n",
       "      <td>0.455</td>\n",
       "      <td>0.365</td>\n",
       "      <td>0.095</td>\n",
       "      <td>0.5140</td>\n",
       "      <td>0.2245</td>\n",
       "      <td>0.1010</td>\n",
       "      <td>0.150</td>\n",
       "      <td>16.5</td>\n",
       "      <td>0</td>\n",
       "      <td>0</td>\n",
       "      <td>1</td>\n",
       "    </tr>\n",
       "    <tr>\n",
       "      <th>1</th>\n",
       "      <td>0.350</td>\n",
       "      <td>0.265</td>\n",
       "      <td>0.090</td>\n",
       "      <td>0.2255</td>\n",
       "      <td>0.0995</td>\n",
       "      <td>0.0485</td>\n",
       "      <td>0.070</td>\n",
       "      <td>8.5</td>\n",
       "      <td>0</td>\n",
       "      <td>0</td>\n",
       "      <td>1</td>\n",
       "    </tr>\n",
       "    <tr>\n",
       "      <th>2</th>\n",
       "      <td>0.530</td>\n",
       "      <td>0.420</td>\n",
       "      <td>0.135</td>\n",
       "      <td>0.6770</td>\n",
       "      <td>0.2565</td>\n",
       "      <td>0.1415</td>\n",
       "      <td>0.210</td>\n",
       "      <td>10.5</td>\n",
       "      <td>1</td>\n",
       "      <td>0</td>\n",
       "      <td>0</td>\n",
       "    </tr>\n",
       "    <tr>\n",
       "      <th>3</th>\n",
       "      <td>0.440</td>\n",
       "      <td>0.365</td>\n",
       "      <td>0.125</td>\n",
       "      <td>0.5160</td>\n",
       "      <td>0.2155</td>\n",
       "      <td>0.1140</td>\n",
       "      <td>0.155</td>\n",
       "      <td>11.5</td>\n",
       "      <td>0</td>\n",
       "      <td>0</td>\n",
       "      <td>1</td>\n",
       "    </tr>\n",
       "    <tr>\n",
       "      <th>4</th>\n",
       "      <td>0.330</td>\n",
       "      <td>0.255</td>\n",
       "      <td>0.080</td>\n",
       "      <td>0.2050</td>\n",
       "      <td>0.0895</td>\n",
       "      <td>0.0395</td>\n",
       "      <td>0.055</td>\n",
       "      <td>8.5</td>\n",
       "      <td>0</td>\n",
       "      <td>1</td>\n",
       "      <td>0</td>\n",
       "    </tr>\n",
       "  </tbody>\n",
       "</table>\n",
       "</div>"
      ],
      "text/plain": [
       "   Length  Diameter  Height  Whole Weight  Shucked Weight  Viscera Weight  \\\n",
       "0   0.455     0.365   0.095        0.5140          0.2245          0.1010   \n",
       "1   0.350     0.265   0.090        0.2255          0.0995          0.0485   \n",
       "2   0.530     0.420   0.135        0.6770          0.2565          0.1415   \n",
       "3   0.440     0.365   0.125        0.5160          0.2155          0.1140   \n",
       "4   0.330     0.255   0.080        0.2050          0.0895          0.0395   \n",
       "\n",
       "   Shell Weight   Age  Sex_F  Sex_I  Sex_M  \n",
       "0         0.150  16.5      0      0      1  \n",
       "1         0.070   8.5      0      0      1  \n",
       "2         0.210  10.5      1      0      0  \n",
       "3         0.155  11.5      0      0      1  \n",
       "4         0.055   8.5      0      1      0  "
      ]
     },
     "execution_count": 9,
     "metadata": {},
     "output_type": "execute_result"
    }
   ],
   "source": [
    "df = pd.get_dummies(df)\n",
    "df.head()"
   ]
  },
  {
   "cell_type": "code",
   "execution_count": 10,
   "metadata": {},
   "outputs": [
    {
     "data": {
      "text/html": [
       "<div>\n",
       "<style scoped>\n",
       "    .dataframe tbody tr th:only-of-type {\n",
       "        vertical-align: middle;\n",
       "    }\n",
       "\n",
       "    .dataframe tbody tr th {\n",
       "        vertical-align: top;\n",
       "    }\n",
       "\n",
       "    .dataframe thead th {\n",
       "        text-align: right;\n",
       "    }\n",
       "</style>\n",
       "<table border=\"1\" class=\"dataframe\">\n",
       "  <thead>\n",
       "    <tr style=\"text-align: right;\">\n",
       "      <th></th>\n",
       "      <th>Sex_F</th>\n",
       "      <th>Sex_I</th>\n",
       "      <th>Sex_M</th>\n",
       "      <th>Length</th>\n",
       "      <th>Diameter</th>\n",
       "      <th>Height</th>\n",
       "      <th>Whole Weight</th>\n",
       "      <th>Shucked Weight</th>\n",
       "      <th>Shell Weight</th>\n",
       "      <th>Age</th>\n",
       "    </tr>\n",
       "  </thead>\n",
       "  <tbody>\n",
       "    <tr>\n",
       "      <th>0</th>\n",
       "      <td>0</td>\n",
       "      <td>0</td>\n",
       "      <td>1</td>\n",
       "      <td>0.455</td>\n",
       "      <td>0.365</td>\n",
       "      <td>0.095</td>\n",
       "      <td>0.5140</td>\n",
       "      <td>0.2245</td>\n",
       "      <td>0.150</td>\n",
       "      <td>16.5</td>\n",
       "    </tr>\n",
       "    <tr>\n",
       "      <th>1</th>\n",
       "      <td>0</td>\n",
       "      <td>0</td>\n",
       "      <td>1</td>\n",
       "      <td>0.350</td>\n",
       "      <td>0.265</td>\n",
       "      <td>0.090</td>\n",
       "      <td>0.2255</td>\n",
       "      <td>0.0995</td>\n",
       "      <td>0.070</td>\n",
       "      <td>8.5</td>\n",
       "    </tr>\n",
       "    <tr>\n",
       "      <th>2</th>\n",
       "      <td>1</td>\n",
       "      <td>0</td>\n",
       "      <td>0</td>\n",
       "      <td>0.530</td>\n",
       "      <td>0.420</td>\n",
       "      <td>0.135</td>\n",
       "      <td>0.6770</td>\n",
       "      <td>0.2565</td>\n",
       "      <td>0.210</td>\n",
       "      <td>10.5</td>\n",
       "    </tr>\n",
       "    <tr>\n",
       "      <th>3</th>\n",
       "      <td>0</td>\n",
       "      <td>0</td>\n",
       "      <td>1</td>\n",
       "      <td>0.440</td>\n",
       "      <td>0.365</td>\n",
       "      <td>0.125</td>\n",
       "      <td>0.5160</td>\n",
       "      <td>0.2155</td>\n",
       "      <td>0.155</td>\n",
       "      <td>11.5</td>\n",
       "    </tr>\n",
       "    <tr>\n",
       "      <th>4</th>\n",
       "      <td>0</td>\n",
       "      <td>1</td>\n",
       "      <td>0</td>\n",
       "      <td>0.330</td>\n",
       "      <td>0.255</td>\n",
       "      <td>0.080</td>\n",
       "      <td>0.2050</td>\n",
       "      <td>0.0895</td>\n",
       "      <td>0.055</td>\n",
       "      <td>8.5</td>\n",
       "    </tr>\n",
       "  </tbody>\n",
       "</table>\n",
       "</div>"
      ],
      "text/plain": [
       "   Sex_F  Sex_I  Sex_M  Length  Diameter  Height  Whole Weight  \\\n",
       "0      0      0      1   0.455     0.365   0.095        0.5140   \n",
       "1      0      0      1   0.350     0.265   0.090        0.2255   \n",
       "2      1      0      0   0.530     0.420   0.135        0.6770   \n",
       "3      0      0      1   0.440     0.365   0.125        0.5160   \n",
       "4      0      1      0   0.330     0.255   0.080        0.2050   \n",
       "\n",
       "   Shucked Weight  Shell Weight   Age  \n",
       "0          0.2245         0.150  16.5  \n",
       "1          0.0995         0.070   8.5  \n",
       "2          0.2565         0.210  10.5  \n",
       "3          0.2155         0.155  11.5  \n",
       "4          0.0895         0.055   8.5  "
      ]
     },
     "execution_count": 10,
     "metadata": {},
     "output_type": "execute_result"
    }
   ],
   "source": [
    "df = df[['Sex_F', 'Sex_I', 'Sex_M','Length', 'Diameter', 'Height', 'Whole Weight',\n",
    "        'Shucked Weight', 'Shell Weight', 'Age']]\n",
    "\n",
    "df.head()\n"
   ]
  },
  {
   "cell_type": "markdown",
   "metadata": {},
   "source": [
    "#### More data exploration:\n",
    "\n",
    "#### The describe function in pandas gives us a lot of useful statistical information on the dataset in regards to the distribution, the means, and standard deviation. And the value counts function below shows how many instances belong to that certain class. In our data, most abalone are labelled as having an age of 10.5 years. It seems that very few live past the age of 25. "
   ]
  },
  {
   "cell_type": "code",
   "execution_count": 11,
   "metadata": {},
   "outputs": [
    {
     "data": {
      "text/html": [
       "<div>\n",
       "<style scoped>\n",
       "    .dataframe tbody tr th:only-of-type {\n",
       "        vertical-align: middle;\n",
       "    }\n",
       "\n",
       "    .dataframe tbody tr th {\n",
       "        vertical-align: top;\n",
       "    }\n",
       "\n",
       "    .dataframe thead th {\n",
       "        text-align: right;\n",
       "    }\n",
       "</style>\n",
       "<table border=\"1\" class=\"dataframe\">\n",
       "  <thead>\n",
       "    <tr style=\"text-align: right;\">\n",
       "      <th></th>\n",
       "      <th>Sex_F</th>\n",
       "      <th>Sex_I</th>\n",
       "      <th>Sex_M</th>\n",
       "      <th>Length</th>\n",
       "      <th>Diameter</th>\n",
       "      <th>Height</th>\n",
       "      <th>Whole Weight</th>\n",
       "      <th>Shucked Weight</th>\n",
       "      <th>Shell Weight</th>\n",
       "      <th>Age</th>\n",
       "    </tr>\n",
       "  </thead>\n",
       "  <tbody>\n",
       "    <tr>\n",
       "      <th>count</th>\n",
       "      <td>4177.000000</td>\n",
       "      <td>4177.000000</td>\n",
       "      <td>4177.000000</td>\n",
       "      <td>4177.000000</td>\n",
       "      <td>4177.000000</td>\n",
       "      <td>4177.000000</td>\n",
       "      <td>4177.000000</td>\n",
       "      <td>4177.000000</td>\n",
       "      <td>4177.000000</td>\n",
       "      <td>4177.000000</td>\n",
       "    </tr>\n",
       "    <tr>\n",
       "      <th>mean</th>\n",
       "      <td>0.312904</td>\n",
       "      <td>0.321283</td>\n",
       "      <td>0.365813</td>\n",
       "      <td>0.523992</td>\n",
       "      <td>0.407881</td>\n",
       "      <td>0.139516</td>\n",
       "      <td>0.828742</td>\n",
       "      <td>0.359367</td>\n",
       "      <td>0.238831</td>\n",
       "      <td>11.433684</td>\n",
       "    </tr>\n",
       "    <tr>\n",
       "      <th>std</th>\n",
       "      <td>0.463731</td>\n",
       "      <td>0.467025</td>\n",
       "      <td>0.481715</td>\n",
       "      <td>0.120093</td>\n",
       "      <td>0.099240</td>\n",
       "      <td>0.041827</td>\n",
       "      <td>0.490389</td>\n",
       "      <td>0.221963</td>\n",
       "      <td>0.139203</td>\n",
       "      <td>3.224169</td>\n",
       "    </tr>\n",
       "    <tr>\n",
       "      <th>min</th>\n",
       "      <td>0.000000</td>\n",
       "      <td>0.000000</td>\n",
       "      <td>0.000000</td>\n",
       "      <td>0.075000</td>\n",
       "      <td>0.055000</td>\n",
       "      <td>0.000000</td>\n",
       "      <td>0.002000</td>\n",
       "      <td>0.001000</td>\n",
       "      <td>0.001500</td>\n",
       "      <td>2.500000</td>\n",
       "    </tr>\n",
       "    <tr>\n",
       "      <th>25%</th>\n",
       "      <td>0.000000</td>\n",
       "      <td>0.000000</td>\n",
       "      <td>0.000000</td>\n",
       "      <td>0.450000</td>\n",
       "      <td>0.350000</td>\n",
       "      <td>0.115000</td>\n",
       "      <td>0.441500</td>\n",
       "      <td>0.186000</td>\n",
       "      <td>0.130000</td>\n",
       "      <td>9.500000</td>\n",
       "    </tr>\n",
       "    <tr>\n",
       "      <th>50%</th>\n",
       "      <td>0.000000</td>\n",
       "      <td>0.000000</td>\n",
       "      <td>0.000000</td>\n",
       "      <td>0.545000</td>\n",
       "      <td>0.425000</td>\n",
       "      <td>0.140000</td>\n",
       "      <td>0.799500</td>\n",
       "      <td>0.336000</td>\n",
       "      <td>0.234000</td>\n",
       "      <td>10.500000</td>\n",
       "    </tr>\n",
       "    <tr>\n",
       "      <th>75%</th>\n",
       "      <td>1.000000</td>\n",
       "      <td>1.000000</td>\n",
       "      <td>1.000000</td>\n",
       "      <td>0.615000</td>\n",
       "      <td>0.480000</td>\n",
       "      <td>0.165000</td>\n",
       "      <td>1.153000</td>\n",
       "      <td>0.502000</td>\n",
       "      <td>0.329000</td>\n",
       "      <td>12.500000</td>\n",
       "    </tr>\n",
       "    <tr>\n",
       "      <th>max</th>\n",
       "      <td>1.000000</td>\n",
       "      <td>1.000000</td>\n",
       "      <td>1.000000</td>\n",
       "      <td>0.815000</td>\n",
       "      <td>0.650000</td>\n",
       "      <td>1.130000</td>\n",
       "      <td>2.825500</td>\n",
       "      <td>1.488000</td>\n",
       "      <td>1.005000</td>\n",
       "      <td>30.500000</td>\n",
       "    </tr>\n",
       "  </tbody>\n",
       "</table>\n",
       "</div>"
      ],
      "text/plain": [
       "             Sex_F        Sex_I        Sex_M       Length     Diameter  \\\n",
       "count  4177.000000  4177.000000  4177.000000  4177.000000  4177.000000   \n",
       "mean      0.312904     0.321283     0.365813     0.523992     0.407881   \n",
       "std       0.463731     0.467025     0.481715     0.120093     0.099240   \n",
       "min       0.000000     0.000000     0.000000     0.075000     0.055000   \n",
       "25%       0.000000     0.000000     0.000000     0.450000     0.350000   \n",
       "50%       0.000000     0.000000     0.000000     0.545000     0.425000   \n",
       "75%       1.000000     1.000000     1.000000     0.615000     0.480000   \n",
       "max       1.000000     1.000000     1.000000     0.815000     0.650000   \n",
       "\n",
       "            Height  Whole Weight  Shucked Weight  Shell Weight          Age  \n",
       "count  4177.000000   4177.000000     4177.000000   4177.000000  4177.000000  \n",
       "mean      0.139516      0.828742        0.359367      0.238831    11.433684  \n",
       "std       0.041827      0.490389        0.221963      0.139203     3.224169  \n",
       "min       0.000000      0.002000        0.001000      0.001500     2.500000  \n",
       "25%       0.115000      0.441500        0.186000      0.130000     9.500000  \n",
       "50%       0.140000      0.799500        0.336000      0.234000    10.500000  \n",
       "75%       0.165000      1.153000        0.502000      0.329000    12.500000  \n",
       "max       1.130000      2.825500        1.488000      1.005000    30.500000  "
      ]
     },
     "execution_count": 11,
     "metadata": {},
     "output_type": "execute_result"
    }
   ],
   "source": [
    "df.describe()"
   ]
  },
  {
   "cell_type": "code",
   "execution_count": 12,
   "metadata": {},
   "outputs": [
    {
     "data": {
      "text/plain": [
       "10.5    689\n",
       "11.5    634\n",
       "9.5     568\n",
       "12.5    487\n",
       "8.5     391\n",
       "13.5    267\n",
       "7.5     259\n",
       "14.5    203\n",
       "15.5    126\n",
       "6.5     115\n",
       "16.5    103\n",
       "17.5     67\n",
       "18.5     58\n",
       "5.5      57\n",
       "19.5     42\n",
       "20.5     32\n",
       "21.5     26\n",
       "4.5      15\n",
       "22.5     14\n",
       "24.5      9\n",
       "23.5      6\n",
       "25.5      2\n",
       "28.5      2\n",
       "3.5       1\n",
       "30.5      1\n",
       "2.5       1\n",
       "27.5      1\n",
       "26.5      1\n",
       "Name: Age, dtype: int64"
      ]
     },
     "execution_count": 12,
     "metadata": {},
     "output_type": "execute_result"
    }
   ],
   "source": [
    "df['Age'].value_counts()"
   ]
  },
  {
   "cell_type": "markdown",
   "metadata": {},
   "source": [
    "#### Just checking to make sure we are indeed not missing any data."
   ]
  },
  {
   "cell_type": "code",
   "execution_count": 13,
   "metadata": {},
   "outputs": [
    {
     "data": {
      "text/plain": [
       "Sex_F             0\n",
       "Sex_I             0\n",
       "Sex_M             0\n",
       "Length            0\n",
       "Diameter          0\n",
       "Height            0\n",
       "Whole Weight      0\n",
       "Shucked Weight    0\n",
       "Shell Weight      0\n",
       "Age               0\n",
       "dtype: int64"
      ]
     },
     "execution_count": 13,
     "metadata": {},
     "output_type": "execute_result"
    }
   ],
   "source": [
    "df.isnull().sum()"
   ]
  },
  {
   "cell_type": "markdown",
   "metadata": {},
   "source": [
    "### Create a Test Set"
   ]
  },
  {
   "cell_type": "markdown",
   "metadata": {},
   "source": [
    "#### Since we are predicting the age of the abalone, and the age is directly correlated to the number of rings, we will create our test set by setting the number of rings equal to y and the rest of the features as X. However, this process will officially be done later in the notebook with train/test split. This cell just demonstrates how the data will be split. "
   ]
  },
  {
   "cell_type": "code",
   "execution_count": 14,
   "metadata": {},
   "outputs": [
    {
     "data": {
      "text/html": [
       "<div>\n",
       "<style scoped>\n",
       "    .dataframe tbody tr th:only-of-type {\n",
       "        vertical-align: middle;\n",
       "    }\n",
       "\n",
       "    .dataframe tbody tr th {\n",
       "        vertical-align: top;\n",
       "    }\n",
       "\n",
       "    .dataframe thead th {\n",
       "        text-align: right;\n",
       "    }\n",
       "</style>\n",
       "<table border=\"1\" class=\"dataframe\">\n",
       "  <thead>\n",
       "    <tr style=\"text-align: right;\">\n",
       "      <th></th>\n",
       "      <th>Sex_F</th>\n",
       "      <th>Sex_I</th>\n",
       "      <th>Sex_M</th>\n",
       "      <th>Length</th>\n",
       "      <th>Diameter</th>\n",
       "      <th>Height</th>\n",
       "      <th>Whole Weight</th>\n",
       "      <th>Shucked Weight</th>\n",
       "      <th>Shell Weight</th>\n",
       "    </tr>\n",
       "  </thead>\n",
       "  <tbody>\n",
       "    <tr>\n",
       "      <th>0</th>\n",
       "      <td>0</td>\n",
       "      <td>0</td>\n",
       "      <td>1</td>\n",
       "      <td>0.455</td>\n",
       "      <td>0.365</td>\n",
       "      <td>0.095</td>\n",
       "      <td>0.5140</td>\n",
       "      <td>0.2245</td>\n",
       "      <td>0.150</td>\n",
       "    </tr>\n",
       "    <tr>\n",
       "      <th>1</th>\n",
       "      <td>0</td>\n",
       "      <td>0</td>\n",
       "      <td>1</td>\n",
       "      <td>0.350</td>\n",
       "      <td>0.265</td>\n",
       "      <td>0.090</td>\n",
       "      <td>0.2255</td>\n",
       "      <td>0.0995</td>\n",
       "      <td>0.070</td>\n",
       "    </tr>\n",
       "    <tr>\n",
       "      <th>2</th>\n",
       "      <td>1</td>\n",
       "      <td>0</td>\n",
       "      <td>0</td>\n",
       "      <td>0.530</td>\n",
       "      <td>0.420</td>\n",
       "      <td>0.135</td>\n",
       "      <td>0.6770</td>\n",
       "      <td>0.2565</td>\n",
       "      <td>0.210</td>\n",
       "    </tr>\n",
       "    <tr>\n",
       "      <th>3</th>\n",
       "      <td>0</td>\n",
       "      <td>0</td>\n",
       "      <td>1</td>\n",
       "      <td>0.440</td>\n",
       "      <td>0.365</td>\n",
       "      <td>0.125</td>\n",
       "      <td>0.5160</td>\n",
       "      <td>0.2155</td>\n",
       "      <td>0.155</td>\n",
       "    </tr>\n",
       "    <tr>\n",
       "      <th>4</th>\n",
       "      <td>0</td>\n",
       "      <td>1</td>\n",
       "      <td>0</td>\n",
       "      <td>0.330</td>\n",
       "      <td>0.255</td>\n",
       "      <td>0.080</td>\n",
       "      <td>0.2050</td>\n",
       "      <td>0.0895</td>\n",
       "      <td>0.055</td>\n",
       "    </tr>\n",
       "  </tbody>\n",
       "</table>\n",
       "</div>"
      ],
      "text/plain": [
       "   Sex_F  Sex_I  Sex_M  Length  Diameter  Height  Whole Weight  \\\n",
       "0      0      0      1   0.455     0.365   0.095        0.5140   \n",
       "1      0      0      1   0.350     0.265   0.090        0.2255   \n",
       "2      1      0      0   0.530     0.420   0.135        0.6770   \n",
       "3      0      0      1   0.440     0.365   0.125        0.5160   \n",
       "4      0      1      0   0.330     0.255   0.080        0.2050   \n",
       "\n",
       "   Shucked Weight  Shell Weight  \n",
       "0          0.2245         0.150  \n",
       "1          0.0995         0.070  \n",
       "2          0.2565         0.210  \n",
       "3          0.2155         0.155  \n",
       "4          0.0895         0.055  "
      ]
     },
     "execution_count": 14,
     "metadata": {},
     "output_type": "execute_result"
    }
   ],
   "source": [
    "y = df[\"Age\"]\n",
    "X = df.drop([\"Age\"], axis = 1)\n",
    "X.head()"
   ]
  },
  {
   "cell_type": "markdown",
   "metadata": {},
   "source": [
    "#### Discover and Visualize Data to Gain Insights:"
   ]
  },
  {
   "cell_type": "code",
   "execution_count": 15,
   "metadata": {},
   "outputs": [
    {
     "data": {
      "image/png": "[encoded data removed]",
      "text/plain": [
       "<Figure size 1440x1080 with 9 Axes>"
      ]
     },
     "metadata": {
      "needs_background": "light"
     },
     "output_type": "display_data"
    }
   ],
   "source": [
    "%matplotlib inline\n",
    "import matplotlib.pyplot as plt\n",
    "df.drop([\"Sex_F\",\"Sex_I\",\"Sex_M\"], axis=1).hist(bins=50, figsize=(20,15))\n",
    "plt.show();"
   ]
  },
  {
   "cell_type": "markdown",
   "metadata": {},
   "source": [
    "#### This graph shows that as the abalone grows in diameter, the whole weight grows exponentially. "
   ]
  },
  {
   "cell_type": "code",
   "execution_count": 16,
   "metadata": {},
   "outputs": [
    {
     "data": {
      "image/png": "[encoded data removed]",
      "text/plain": [
       "<Figure size 432x288 with 1 Axes>"
      ]
     },
     "metadata": {
      "needs_background": "light"
     },
     "output_type": "display_data"
    }
   ],
   "source": [
    "df.plot(kind=\"scatter\", x =\"Diameter\", y= \"Whole Weight\");"
   ]
  },
  {
   "cell_type": "markdown",
   "metadata": {},
   "source": [
    "#### By calculating the correlation between the features and age, we can see that Shell Weight, Diameter, Height, and Length are the most positively correlated features. The sex of the abalone is less correlated, but it is interesting to see that the female is most positively correlated, probably because they live longer than the males. The intersexed abalone is the only feature with a negative correlation, which means that they do not survive as long as the males and females.  "
   ]
  },
  {
   "cell_type": "code",
   "execution_count": 17,
   "metadata": {},
   "outputs": [],
   "source": [
    "corr_matrix = df.corr()"
   ]
  },
  {
   "cell_type": "code",
   "execution_count": 18,
   "metadata": {},
   "outputs": [
    {
     "data": {
      "text/plain": [
       "Age               1.000000\n",
       "Shell Weight      0.627574\n",
       "Diameter          0.574660\n",
       "Height            0.557467\n",
       "Length            0.556720\n",
       "Whole Weight      0.540390\n",
       "Shucked Weight    0.420884\n",
       "Sex_F             0.250279\n",
       "Sex_M             0.181831\n",
       "Sex_I            -0.436063\n",
       "Name: Age, dtype: float64"
      ]
     },
     "execution_count": 18,
     "metadata": {},
     "output_type": "execute_result"
    }
   ],
   "source": [
    "corr_matrix['Age'].sort_values(ascending=False)"
   ]
  },
  {
   "cell_type": "code",
   "execution_count": 19,
   "metadata": {},
   "outputs": [
    {
     "data": {
      "image/png": "[encoded data removed]",
      "text/plain": [
       "<Figure size 864x576 with 16 Axes>"
      ]
     },
     "metadata": {
      "needs_background": "light"
     },
     "output_type": "display_data"
    }
   ],
   "source": [
    "from pandas.plotting import scatter_matrix\n",
    "\n",
    "attributes = [\"Age\", \"Shell Weight\", \"Diameter\",\n",
    "              \"Height\"]\n",
    "scatter_matrix(df[attributes], figsize=(12, 8));"
   ]
  },
  {
   "cell_type": "markdown",
   "metadata": {},
   "source": [
    "#### The graph below reveals that there is a strong correlation between the diameter of abalone and its age. There is an upward trend in the graph and the points are not too dispersed."
   ]
  },
  {
   "cell_type": "code",
   "execution_count": 20,
   "metadata": {},
   "outputs": [
    {
     "data": {
      "image/png": "[encoded data removed]",
      "text/plain": [
       "<Figure size 432x288 with 1 Axes>"
      ]
     },
     "metadata": {
      "needs_background": "light"
     },
     "output_type": "display_data"
    }
   ],
   "source": [
    "df.plot(kind=\"scatter\", x=\"Diameter\", y=\"Age\",\n",
    "             alpha=0.1)\n",
    "plt.axis([0, .7, 0, 30]);"
   ]
  },
  {
   "cell_type": "markdown",
   "metadata": {},
   "source": [
    "#### Attribute Combinations can increase the interestingess of our dataset."
   ]
  },
  {
   "cell_type": "code",
   "execution_count": 21,
   "metadata": {},
   "outputs": [],
   "source": [
    "df[\"Abalone_Mass_Index\"] = df[\"Shell Weight\"]/ df[\"Diameter\"]"
   ]
  },
  {
   "cell_type": "markdown",
   "metadata": {},
   "source": [
    "#### According to the correlation table, the \"Abalone Mass Index\", which is the the shell weight/ diameter, is highly correlated to the number of rings. In fact, it is more correlated than any feature in the dataset. Therefore, we will add this attribute to our dataframe to use for training our model. "
   ]
  },
  {
   "cell_type": "code",
   "execution_count": 22,
   "metadata": {},
   "outputs": [],
   "source": [
    "corr_matrix = df.corr()"
   ]
  },
  {
   "cell_type": "code",
   "execution_count": 23,
   "metadata": {},
   "outputs": [
    {
     "data": {
      "text/plain": [
       "Age                   1.000000\n",
       "Abalone_Mass_Index    0.663056\n",
       "Shell Weight          0.627574\n",
       "Diameter              0.574660\n",
       "Height                0.557467\n",
       "Length                0.556720\n",
       "Whole Weight          0.540390\n",
       "Shucked Weight        0.420884\n",
       "Sex_F                 0.250279\n",
       "Sex_M                 0.181831\n",
       "Sex_I                -0.436063\n",
       "Name: Age, dtype: float64"
      ]
     },
     "execution_count": 23,
     "metadata": {},
     "output_type": "execute_result"
    }
   ],
   "source": [
    "corr_matrix[\"Age\"].sort_values(ascending=False)"
   ]
  },
  {
   "cell_type": "code",
   "execution_count": 24,
   "metadata": {},
   "outputs": [],
   "source": [
    "df = df.drop([\"Abalone_Mass_Index\"], axis=1)"
   ]
  },
  {
   "cell_type": "markdown",
   "metadata": {},
   "source": [
    "## Prepare the Data for Machine Learning Algorithms"
   ]
  },
  {
   "cell_type": "markdown",
   "metadata": {},
   "source": [
    "#### Because we already changed our string values to numeric values with get_dummies, and there are no missing values, we do not have too much work to do in preparing our data for machine learning models. We will add a feature to our dataset using a function transformer that will take our training data and allow us to create a function that will use the information we have to create new data. In our case, we will use the shell weight and diameter features to create the abalone mass index feature we explored in attribute combinations. This feature will then be added to our dataframe. "
   ]
  },
  {
   "cell_type": "code",
   "execution_count": 25,
   "metadata": {},
   "outputs": [],
   "source": [
    "from sklearn.base import BaseEstimator, TransformerMixin\n",
    "\n",
    "# get the right column indices: safer than hard-coding indices 3, 4, 5, 6\n",
    "ShellWeight_ix, Diameter_ix = [\n",
    "    list(df.columns).index(col)\n",
    "    for col in (\"Shell Weight\", \"Diameter\")]"
   ]
  },
  {
   "cell_type": "code",
   "execution_count": 26,
   "metadata": {},
   "outputs": [],
   "source": [
    "import numpy as np\n",
    "from sklearn.preprocessing import FunctionTransformer\n",
    "\n",
    "def add_extra_features(X, add_abalone_mass_index=True):\n",
    "    abalone_mass_index = X[:, ShellWeight_ix]/ X[:, Diameter_ix]\n",
    "    return np.c_[X, abalone_mass_index]\n",
    "\n",
    "attr_adder = FunctionTransformer(add_extra_features, validate=False,\n",
    "                                 kw_args={\"add_abalone_mass_index\": False})\n",
    "abalone_extra_attribs = attr_adder.fit_transform(df.values)"
   ]
  },
  {
   "cell_type": "code",
   "execution_count": 27,
   "metadata": {},
   "outputs": [
    {
     "data": {
      "text/html": [
       "<div>\n",
       "<style scoped>\n",
       "    .dataframe tbody tr th:only-of-type {\n",
       "        vertical-align: middle;\n",
       "    }\n",
       "\n",
       "    .dataframe tbody tr th {\n",
       "        vertical-align: top;\n",
       "    }\n",
       "\n",
       "    .dataframe thead th {\n",
       "        text-align: right;\n",
       "    }\n",
       "</style>\n",
       "<table border=\"1\" class=\"dataframe\">\n",
       "  <thead>\n",
       "    <tr style=\"text-align: right;\">\n",
       "      <th></th>\n",
       "      <th>Sex_F</th>\n",
       "      <th>Sex_I</th>\n",
       "      <th>Sex_M</th>\n",
       "      <th>Length</th>\n",
       "      <th>Diameter</th>\n",
       "      <th>Height</th>\n",
       "      <th>Whole Weight</th>\n",
       "      <th>Shucked Weight</th>\n",
       "      <th>Shell Weight</th>\n",
       "      <th>abalone_mass_index</th>\n",
       "    </tr>\n",
       "  </thead>\n",
       "  <tbody>\n",
       "    <tr>\n",
       "      <th>0</th>\n",
       "      <td>0.0</td>\n",
       "      <td>0.0</td>\n",
       "      <td>1.0</td>\n",
       "      <td>0.455</td>\n",
       "      <td>0.365</td>\n",
       "      <td>0.095</td>\n",
       "      <td>0.5140</td>\n",
       "      <td>0.2245</td>\n",
       "      <td>0.150</td>\n",
       "      <td>0.410959</td>\n",
       "    </tr>\n",
       "    <tr>\n",
       "      <th>1</th>\n",
       "      <td>0.0</td>\n",
       "      <td>0.0</td>\n",
       "      <td>1.0</td>\n",
       "      <td>0.350</td>\n",
       "      <td>0.265</td>\n",
       "      <td>0.090</td>\n",
       "      <td>0.2255</td>\n",
       "      <td>0.0995</td>\n",
       "      <td>0.070</td>\n",
       "      <td>0.264151</td>\n",
       "    </tr>\n",
       "    <tr>\n",
       "      <th>2</th>\n",
       "      <td>1.0</td>\n",
       "      <td>0.0</td>\n",
       "      <td>0.0</td>\n",
       "      <td>0.530</td>\n",
       "      <td>0.420</td>\n",
       "      <td>0.135</td>\n",
       "      <td>0.6770</td>\n",
       "      <td>0.2565</td>\n",
       "      <td>0.210</td>\n",
       "      <td>0.500000</td>\n",
       "    </tr>\n",
       "    <tr>\n",
       "      <th>3</th>\n",
       "      <td>0.0</td>\n",
       "      <td>0.0</td>\n",
       "      <td>1.0</td>\n",
       "      <td>0.440</td>\n",
       "      <td>0.365</td>\n",
       "      <td>0.125</td>\n",
       "      <td>0.5160</td>\n",
       "      <td>0.2155</td>\n",
       "      <td>0.155</td>\n",
       "      <td>0.424658</td>\n",
       "    </tr>\n",
       "    <tr>\n",
       "      <th>4</th>\n",
       "      <td>0.0</td>\n",
       "      <td>1.0</td>\n",
       "      <td>0.0</td>\n",
       "      <td>0.330</td>\n",
       "      <td>0.255</td>\n",
       "      <td>0.080</td>\n",
       "      <td>0.2050</td>\n",
       "      <td>0.0895</td>\n",
       "      <td>0.055</td>\n",
       "      <td>0.215686</td>\n",
       "    </tr>\n",
       "  </tbody>\n",
       "</table>\n",
       "</div>"
      ],
      "text/plain": [
       "   Sex_F  Sex_I  Sex_M  Length  Diameter  Height  Whole Weight  \\\n",
       "0    0.0    0.0    1.0   0.455     0.365   0.095        0.5140   \n",
       "1    0.0    0.0    1.0   0.350     0.265   0.090        0.2255   \n",
       "2    1.0    0.0    0.0   0.530     0.420   0.135        0.6770   \n",
       "3    0.0    0.0    1.0   0.440     0.365   0.125        0.5160   \n",
       "4    0.0    1.0    0.0   0.330     0.255   0.080        0.2050   \n",
       "\n",
       "   Shucked Weight  Shell Weight  abalone_mass_index  \n",
       "0          0.2245         0.150            0.410959  \n",
       "1          0.0995         0.070            0.264151  \n",
       "2          0.2565         0.210            0.500000  \n",
       "3          0.2155         0.155            0.424658  \n",
       "4          0.0895         0.055            0.215686  "
      ]
     },
     "execution_count": 27,
     "metadata": {},
     "output_type": "execute_result"
    }
   ],
   "source": [
    "abalone_extra_attribs = pd.DataFrame(\n",
    "    abalone_extra_attribs,\n",
    "    columns=list(df.columns)+[\"abalone_mass_index\"],\n",
    "    index=df.index)\n",
    "\n",
    "X = abalone_extra_attribs.drop([\"Age\"], axis = 1)\n",
    "X.head()"
   ]
  },
  {
   "cell_type": "markdown",
   "metadata": {},
   "source": [
    "#### We will  then use a standard scaler for Standarization, which will subtract the mean value and then divide it by the standard deviation so that the resulting distribution has unit variance. This will lower the effectiveness of outliers. We will print out the example transformed data just for demonstration, but this pipeline will offically fit our model in a later stage. "
   ]
  },
  {
   "cell_type": "code",
   "execution_count": 28,
   "metadata": {},
   "outputs": [],
   "source": [
    "from sklearn.pipeline import Pipeline\n",
    "from sklearn.preprocessing import StandardScaler\n",
    "from sklearn.feature_selection import SelectFromModel\n",
    "from sklearn.svm import LinearSVC\n",
    "\n",
    "full_pipeline = pipeline = Pipeline([\n",
    "    ('std_scaler', StandardScaler())\n",
    "])\n",
    "\n",
    "abalone_prepared = full_pipeline.fit_transform(df)"
   ]
  },
  {
   "cell_type": "code",
   "execution_count": 29,
   "metadata": {},
   "outputs": [
    {
     "data": {
      "text/plain": [
       "array([[-0.67483383, -0.68801788,  1.31667716, ..., -0.60768536,\n",
       "        -0.63821689,  1.57154357],\n",
       "       [-0.67483383, -0.68801788,  1.31667716, ..., -1.17090984,\n",
       "        -1.21298732, -0.91001299],\n",
       "       [ 1.48184628, -0.68801788, -0.75948762, ..., -0.4634999 ,\n",
       "        -0.20713907, -0.28962385],\n",
       "       ...,\n",
       "       [-0.67483383, -0.68801788,  1.31667716, ...,  0.74855917,\n",
       "         0.49695471, -0.28962385],\n",
       "       [ 1.48184628, -0.68801788, -0.75948762, ...,  0.77334105,\n",
       "         0.41073914,  0.02057072],\n",
       "       [-0.67483383, -0.68801788,  1.31667716, ...,  2.64099341,\n",
       "         1.84048058,  0.64095986]])"
      ]
     },
     "execution_count": 29,
     "metadata": {},
     "output_type": "execute_result"
    }
   ],
   "source": [
    "abalone_prepared"
   ]
  },
  {
   "cell_type": "code",
   "execution_count": 30,
   "metadata": {},
   "outputs": [
    {
     "data": {
      "text/plain": [
       "(4177, 10)"
      ]
     },
     "execution_count": 30,
     "metadata": {},
     "output_type": "execute_result"
    }
   ],
   "source": [
    "abalone_prepared.shape"
   ]
  },
  {
   "cell_type": "code",
   "execution_count": 31,
   "metadata": {},
   "outputs": [
    {
     "data": {
      "text/html": [
       "<div>\n",
       "<style scoped>\n",
       "    .dataframe tbody tr th:only-of-type {\n",
       "        vertical-align: middle;\n",
       "    }\n",
       "\n",
       "    .dataframe tbody tr th {\n",
       "        vertical-align: top;\n",
       "    }\n",
       "\n",
       "    .dataframe thead th {\n",
       "        text-align: right;\n",
       "    }\n",
       "</style>\n",
       "<table border=\"1\" class=\"dataframe\">\n",
       "  <thead>\n",
       "    <tr style=\"text-align: right;\">\n",
       "      <th></th>\n",
       "      <th>Sex_F</th>\n",
       "      <th>Sex_I</th>\n",
       "      <th>Sex_M</th>\n",
       "      <th>Length</th>\n",
       "      <th>Diameter</th>\n",
       "      <th>Height</th>\n",
       "      <th>Whole Weight</th>\n",
       "      <th>Shucked Weight</th>\n",
       "      <th>Shell Weight</th>\n",
       "      <th>abalone_mass_index</th>\n",
       "    </tr>\n",
       "  </thead>\n",
       "  <tbody>\n",
       "    <tr>\n",
       "      <th>0</th>\n",
       "      <td>0.0</td>\n",
       "      <td>0.0</td>\n",
       "      <td>1.0</td>\n",
       "      <td>0.455</td>\n",
       "      <td>0.365</td>\n",
       "      <td>0.095</td>\n",
       "      <td>0.5140</td>\n",
       "      <td>0.2245</td>\n",
       "      <td>0.150</td>\n",
       "      <td>0.410959</td>\n",
       "    </tr>\n",
       "    <tr>\n",
       "      <th>1</th>\n",
       "      <td>0.0</td>\n",
       "      <td>0.0</td>\n",
       "      <td>1.0</td>\n",
       "      <td>0.350</td>\n",
       "      <td>0.265</td>\n",
       "      <td>0.090</td>\n",
       "      <td>0.2255</td>\n",
       "      <td>0.0995</td>\n",
       "      <td>0.070</td>\n",
       "      <td>0.264151</td>\n",
       "    </tr>\n",
       "    <tr>\n",
       "      <th>2</th>\n",
       "      <td>1.0</td>\n",
       "      <td>0.0</td>\n",
       "      <td>0.0</td>\n",
       "      <td>0.530</td>\n",
       "      <td>0.420</td>\n",
       "      <td>0.135</td>\n",
       "      <td>0.6770</td>\n",
       "      <td>0.2565</td>\n",
       "      <td>0.210</td>\n",
       "      <td>0.500000</td>\n",
       "    </tr>\n",
       "    <tr>\n",
       "      <th>3</th>\n",
       "      <td>0.0</td>\n",
       "      <td>0.0</td>\n",
       "      <td>1.0</td>\n",
       "      <td>0.440</td>\n",
       "      <td>0.365</td>\n",
       "      <td>0.125</td>\n",
       "      <td>0.5160</td>\n",
       "      <td>0.2155</td>\n",
       "      <td>0.155</td>\n",
       "      <td>0.424658</td>\n",
       "    </tr>\n",
       "    <tr>\n",
       "      <th>4</th>\n",
       "      <td>0.0</td>\n",
       "      <td>1.0</td>\n",
       "      <td>0.0</td>\n",
       "      <td>0.330</td>\n",
       "      <td>0.255</td>\n",
       "      <td>0.080</td>\n",
       "      <td>0.2050</td>\n",
       "      <td>0.0895</td>\n",
       "      <td>0.055</td>\n",
       "      <td>0.215686</td>\n",
       "    </tr>\n",
       "  </tbody>\n",
       "</table>\n",
       "</div>"
      ],
      "text/plain": [
       "   Sex_F  Sex_I  Sex_M  Length  Diameter  Height  Whole Weight  \\\n",
       "0    0.0    0.0    1.0   0.455     0.365   0.095        0.5140   \n",
       "1    0.0    0.0    1.0   0.350     0.265   0.090        0.2255   \n",
       "2    1.0    0.0    0.0   0.530     0.420   0.135        0.6770   \n",
       "3    0.0    0.0    1.0   0.440     0.365   0.125        0.5160   \n",
       "4    0.0    1.0    0.0   0.330     0.255   0.080        0.2050   \n",
       "\n",
       "   Shucked Weight  Shell Weight  abalone_mass_index  \n",
       "0          0.2245         0.150            0.410959  \n",
       "1          0.0995         0.070            0.264151  \n",
       "2          0.2565         0.210            0.500000  \n",
       "3          0.2155         0.155            0.424658  \n",
       "4          0.0895         0.055            0.215686  "
      ]
     },
     "execution_count": 31,
     "metadata": {},
     "output_type": "execute_result"
    }
   ],
   "source": [
    "X.head()"
   ]
  },
  {
   "cell_type": "markdown",
   "metadata": {},
   "source": [
    "# Train Test Split"
   ]
  },
  {
   "cell_type": "markdown",
   "metadata": {},
   "source": [
    "#### To avoid creating a machine learning model that would just repeat the labels that it had just seen and fail to predict any new unseen data, we must divide and set aside a portion of our data as a test set (X_test, y_test). This will help avoid the situation of overfitting our model."
   ]
  },
  {
   "cell_type": "code",
   "execution_count": 32,
   "metadata": {},
   "outputs": [],
   "source": [
    "from sklearn.model_selection import train_test_split\n",
    "\n",
    "X_train, X_test, y_train, y_test = train_test_split(X, y, random_state=0, test_size = 0.2)"
   ]
  },
  {
   "cell_type": "markdown",
   "metadata": {},
   "source": [
    "### Select and Train a Model"
   ]
  },
  {
   "cell_type": "markdown",
   "metadata": {},
   "source": [
    "#### Classification and Regression"
   ]
  },
  {
   "cell_type": "markdown",
   "metadata": {},
   "source": [
    "#### We will start our modelling experiment with Logistic Regression that supports multiclass labels (Softmax Regression). When given an instance, the Softmax Regression model will compute the score for each class, and then estimate the probablility of each class by applying the softmax function to the scores. "
   ]
  },
  {
   "cell_type": "code",
   "execution_count": 33,
   "metadata": {},
   "outputs": [],
   "source": [
    "from sklearn.linear_model import LogisticRegression"
   ]
  },
  {
   "cell_type": "code",
   "execution_count": 34,
   "metadata": {},
   "outputs": [],
   "source": [
    "log_reg = LogisticRegression(multi_class=\"multinomial\", solver=\"lbfgs\", C=10)"
   ]
  },
  {
   "cell_type": "code",
   "execution_count": 35,
   "metadata": {},
   "outputs": [],
   "source": [
    "lc = Pipeline(steps=[('preprocessor', full_pipeline),\n",
    "                      ('classifier', log_reg)])"
   ]
  },
  {
   "cell_type": "markdown",
   "metadata": {},
   "source": [
    "#### We will then fit our model to our training data through the pipeline we created in the cell above. The training data first is scaled with the standard scaler to reduce the influence of outliers, then it is trained with softmax regression to estimate the probability that an instance belongs to a certain class. When given an instance i, the softmax regression model first computes a score Sk(i) for each class k, and then it estimates the probability of each class by applying the softmax function."
   ]
  },
  {
   "cell_type": "markdown",
   "metadata": {},
   "source": [
    "#### Our classification model cannot work with continuous labels, so we will \"cheat\" and round our y values to make this model work, although it will not be very accurate. "
   ]
  },
  {
   "cell_type": "code",
   "execution_count": 36,
   "metadata": {},
   "outputs": [],
   "source": [
    "from sklearn.model_selection import train_test_split\n",
    "\n",
    "X_train_clf, X_test_clf, y_train_clf, y_test_clf = train_test_split(X, y.round(), random_state=0, test_size = 0.2)"
   ]
  },
  {
   "cell_type": "code",
   "execution_count": 37,
   "metadata": {},
   "outputs": [
    {
     "name": "stderr",
     "output_type": "stream",
     "text": [
      "/Users/ryanmartin/anaconda3/lib/python3.7/site-packages/sklearn/linear_model/logistic.py:947: ConvergenceWarning: lbfgs failed to converge. Increase the number of iterations.\n",
      "  \"of iterations.\", ConvergenceWarning)\n"
     ]
    },
    {
     "data": {
      "text/plain": [
       "Pipeline(memory=None,\n",
       "         steps=[('preprocessor',\n",
       "                 Pipeline(memory=None,\n",
       "                          steps=[('std_scaler',\n",
       "                                  StandardScaler(copy=True, with_mean=True,\n",
       "                                                 with_std=True))],\n",
       "                          verbose=False)),\n",
       "                ('classifier',\n",
       "                 LogisticRegression(C=10, class_weight=None, dual=False,\n",
       "                                    fit_intercept=True, intercept_scaling=1,\n",
       "                                    l1_ratio=None, max_iter=100,\n",
       "                                    multi_class='multinomial', n_jobs=None,\n",
       "                                    penalty='l2', random_state=None,\n",
       "                                    solver='lbfgs', tol=0.0001, verbose=0,\n",
       "                                    warm_start=False))],\n",
       "         verbose=False)"
      ]
     },
     "execution_count": 37,
     "metadata": {},
     "output_type": "execute_result"
    }
   ],
   "source": [
    "lc.fit(X_train_clf, y_train_clf)"
   ]
  },
  {
   "cell_type": "code",
   "execution_count": 38,
   "metadata": {},
   "outputs": [],
   "source": [
    "y_pred = lc.predict(X_test_clf)"
   ]
  },
  {
   "cell_type": "markdown",
   "metadata": {},
   "source": [
    "#### We can now assess the accuracy of our model with cross validation, which will generate cross-validated estimates for each input data point. It will accomplish this task by taking the data and splitting it according to the cv parameter where each sample belongs to one test set and the prediction is computed with an estimator fitted on the training set. "
   ]
  },
  {
   "cell_type": "code",
   "execution_count": 39,
   "metadata": {},
   "outputs": [
    {
     "name": "stderr",
     "output_type": "stream",
     "text": [
      "/Users/ryanmartin/anaconda3/lib/python3.7/site-packages/sklearn/model_selection/_split.py:657: Warning: The least populated class in y has only 1 members, which is too few. The minimum number of members in any class cannot be less than n_splits=3.\n",
      "  % (min_groups, self.n_splits)), Warning)\n",
      "/Users/ryanmartin/anaconda3/lib/python3.7/site-packages/sklearn/linear_model/logistic.py:947: ConvergenceWarning: lbfgs failed to converge. Increase the number of iterations.\n",
      "  \"of iterations.\", ConvergenceWarning)\n",
      "/Users/ryanmartin/anaconda3/lib/python3.7/site-packages/sklearn/linear_model/logistic.py:947: ConvergenceWarning: lbfgs failed to converge. Increase the number of iterations.\n",
      "  \"of iterations.\", ConvergenceWarning)\n",
      "/Users/ryanmartin/anaconda3/lib/python3.7/site-packages/sklearn/linear_model/logistic.py:947: ConvergenceWarning: lbfgs failed to converge. Increase the number of iterations.\n",
      "  \"of iterations.\", ConvergenceWarning)\n"
     ]
    },
    {
     "data": {
      "text/plain": [
       "array([0.47942755, 0.497307  , 0.46798918])"
      ]
     },
     "execution_count": 39,
     "metadata": {},
     "output_type": "execute_result"
    }
   ],
   "source": [
    "from sklearn.model_selection import cross_val_score\n",
    "cross_val_score(lc, X_train_clf, y_train_clf, cv=3, scoring=\"accuracy\")"
   ]
  },
  {
   "cell_type": "code",
   "execution_count": 40,
   "metadata": {},
   "outputs": [
    {
     "name": "stdout",
     "output_type": "stream",
     "text": [
      "Accuracy:  0.45933014354066987\n"
     ]
    }
   ],
   "source": [
    "from sklearn.metrics import accuracy_score \n",
    "accuracy = accuracy_score(y_test_clf, y_pred)\n",
    "print('Accuracy: ',accuracy)"
   ]
  },
  {
   "cell_type": "markdown",
   "metadata": {},
   "source": [
    "#### We will evaluate the weaknesses of this classification model with a confusion matrix which will show the accuracy of each classification. \n",
    "\n",
    "#### By definition, a confusion matrix shows the number of observations known to be in group but predicted to be in another group.\n",
    "\n",
    "#### Because we were attempting to predict instances belonging to many different classess, we needed to generate a multilabel confusion matrix, which provides the accuracy of each classification within each class, the abalone's age. However, because our model did poorly, we must reframe our problem and consider this as a dataset that would fit better in a regression model. We are, in fact, predicting a numeric value. Even though that numeric value represents a class, it is still a regression problem. \n",
    "\n"
   ]
  },
  {
   "cell_type": "code",
   "execution_count": 41,
   "metadata": {},
   "outputs": [],
   "source": [
    "from sklearn.metrics import multilabel_confusion_matrix"
   ]
  },
  {
   "cell_type": "code",
   "execution_count": 42,
   "metadata": {},
   "outputs": [
    {
     "data": {
      "text/plain": [
       "array([[[831,   0],\n",
       "        [  5,   0]],\n",
       "\n",
       "       [[777,  15],\n",
       "        [ 23,  21]],\n",
       "\n",
       "       [[630,  61],\n",
       "        [ 57,  88]],\n",
       "\n",
       "       [[430, 166],\n",
       "        [ 78, 162]],\n",
       "\n",
       "       [[467, 167],\n",
       "        [100, 102]],\n",
       "\n",
       "       [[709,  22],\n",
       "        [ 99,   6]],\n",
       "\n",
       "       [[779,  13],\n",
       "        [ 41,   3]],\n",
       "\n",
       "       [[805,   7],\n",
       "        [ 22,   2]],\n",
       "\n",
       "       [[823,   0],\n",
       "        [ 13,   0]],\n",
       "\n",
       "       [[825,   1],\n",
       "        [ 10,   0]],\n",
       "\n",
       "       [[833,   0],\n",
       "        [  3,   0]],\n",
       "\n",
       "       [[835,   0],\n",
       "        [  1,   0]]])"
      ]
     },
     "execution_count": 42,
     "metadata": {},
     "output_type": "execute_result"
    }
   ],
   "source": [
    "multilabel_confusion_matrix(y_test_clf, y_pred)"
   ]
  },
  {
   "cell_type": "markdown",
   "metadata": {},
   "source": [
    "#### Even though we will not deploy this model for this dataset, we will compute the F1 score just to be thorough in our classification attempt. \n",
    "\n",
    "#### The F1 score takes the weighted average of the precision and recall, where an F1 score reaches its best value at 1 and worst score at 0.  \n",
    "\n",
    "#### F1 = 2 * (precision * recall) / (precision + recall)\n",
    "\n",
    "#### In our multi-class and multi-label case, we will show the average of the F1 score of each class (see classification report below)."
   ]
  },
  {
   "cell_type": "code",
   "execution_count": 43,
   "metadata": {},
   "outputs": [],
   "source": [
    "from sklearn.metrics import classification_report"
   ]
  },
  {
   "cell_type": "code",
   "execution_count": 44,
   "metadata": {},
   "outputs": [
    {
     "name": "stdout",
     "output_type": "stream",
     "text": [
      "              precision    recall  f1-score   support\n",
      "\n",
      "         4.0   0.000000  0.000000  0.000000         5\n",
      "         6.0   0.583333  0.477273  0.525000        44\n",
      "         8.0   0.590604  0.606897  0.598639       145\n",
      "        10.0   0.493902  0.675000  0.570423       240\n",
      "        12.0   0.379182  0.504950  0.433121       202\n",
      "        14.0   0.214286  0.057143  0.090226       105\n",
      "        16.0   0.187500  0.068182  0.100000        44\n",
      "        18.0   0.222222  0.083333  0.121212        24\n",
      "        20.0   0.000000  0.000000  0.000000        13\n",
      "        22.0   0.000000  0.000000  0.000000        10\n",
      "        24.0   0.000000  0.000000  0.000000         3\n",
      "        30.0   0.000000  0.000000  0.000000         1\n",
      "\n",
      "    accuracy                       0.459330       836\n",
      "   macro avg   0.222586  0.206065  0.203218       836\n",
      "weighted avg   0.409712  0.459330  0.419949       836\n",
      "\n"
     ]
    },
    {
     "name": "stderr",
     "output_type": "stream",
     "text": [
      "/Users/ryanmartin/anaconda3/lib/python3.7/site-packages/sklearn/metrics/classification.py:1437: UndefinedMetricWarning: Precision and F-score are ill-defined and being set to 0.0 in labels with no predicted samples.\n",
      "  'precision', 'predicted', average, warn_for)\n"
     ]
    }
   ],
   "source": [
    "sk_report = classification_report(\n",
    "    digits=6,\n",
    "    y_true=y_test_clf, \n",
    "    y_pred=lc.predict(X_test_clf))\n",
    "print(sk_report)"
   ]
  },
  {
   "cell_type": "markdown",
   "metadata": {},
   "source": [
    "#### The results of our softmax regression experiment were disappointing given that our accuracy was only .27 and the weighted average f1-score was .24. This dataset might respond better to a linear regression model that predicts a numeric output and is evaluated on a MSE. To be more precise, we will now attempt ridge regression to keep the weights as small as possible since we are dealing with many features that are highly correlated to the label. "
   ]
  },
  {
   "cell_type": "markdown",
   "metadata": {},
   "source": [
    "### Regression Experiment"
   ]
  },
  {
   "cell_type": "code",
   "execution_count": 45,
   "metadata": {},
   "outputs": [],
   "source": [
    "from sklearn.linear_model import Ridge"
   ]
  },
  {
   "cell_type": "code",
   "execution_count": 46,
   "metadata": {},
   "outputs": [],
   "source": [
    "ridge_reg = Ridge(alpha=1, solver=\"cholesky\")"
   ]
  },
  {
   "cell_type": "code",
   "execution_count": 47,
   "metadata": {},
   "outputs": [],
   "source": [
    "ridge = Pipeline(steps=[('preprocessor', full_pipeline),\n",
    "                      ('classifier', ridge_reg)])"
   ]
  },
  {
   "cell_type": "code",
   "execution_count": 48,
   "metadata": {},
   "outputs": [
    {
     "data": {
      "text/plain": [
       "Pipeline(memory=None,\n",
       "         steps=[('preprocessor',\n",
       "                 Pipeline(memory=None,\n",
       "                          steps=[('std_scaler',\n",
       "                                  StandardScaler(copy=True, with_mean=True,\n",
       "                                                 with_std=True))],\n",
       "                          verbose=False)),\n",
       "                ('classifier',\n",
       "                 Ridge(alpha=1, copy_X=True, fit_intercept=True, max_iter=None,\n",
       "                       normalize=False, random_state=None, solver='cholesky',\n",
       "                       tol=0.001))],\n",
       "         verbose=False)"
      ]
     },
     "execution_count": 48,
     "metadata": {},
     "output_type": "execute_result"
    }
   ],
   "source": [
    "ridge.fit(X_train, y_train)"
   ]
  },
  {
   "cell_type": "markdown",
   "metadata": {},
   "source": [
    "#### Evaluating Our Trained Model With Root Mean Square Error(RMSE) and Mean Absolute Error (MAE):\n",
    "\n",
    "The mean squared error (MSE) measures the average of the squares of the errors, which is the average squared difference between the estimated values and the actual value. The RMSE and MAE measure the distance between two vectors: the vectors of the predictions and the vector of the target values. Usually, the RMSE score will be larger in datasets that have many outlier. This is clearly happening in our case because we have a higher norm index. \n",
    "\n",
    "**Root Mean Squared Error** (RMSE) is the square root of the mean of the squared errors:\n",
    "\n",
    "$$\\sqrt{\\frac 1n\\sum_{i=1}^n(y_i-\\hat{y}_i)^2}$$\n",
    "\n",
    "**Mean Absolute Error** (MAE) is the mean of the absolute value of the errors:\n",
    "\n",
    "$$\\frac 1n\\sum_{i=1}^n|y_i-\\hat{y}_i|$$\n"
   ]
  },
  {
   "cell_type": "code",
   "execution_count": 49,
   "metadata": {},
   "outputs": [
    {
     "data": {
      "text/plain": [
       "2.1980758766383675"
      ]
     },
     "execution_count": 49,
     "metadata": {},
     "output_type": "execute_result"
    }
   ],
   "source": [
    "from sklearn.metrics import mean_squared_error\n",
    "\n",
    "y_pred = ridge.predict(X_test)\n",
    "lin_mse = mean_squared_error(y_test, y_pred)\n",
    "lin_rmse = np.sqrt(lin_mse)\n",
    "lin_rmse"
   ]
  },
  {
   "cell_type": "markdown",
   "metadata": {},
   "source": [
    "#### Consequently, our MSE is a smaller value and probably more reliable because we have many outliers. (See scatterplot below. )"
   ]
  },
  {
   "cell_type": "code",
   "execution_count": 50,
   "metadata": {},
   "outputs": [
    {
     "data": {
      "text/plain": [
       "Text(0, 0.5, 'Predicted Y')"
      ]
     },
     "execution_count": 50,
     "metadata": {},
     "output_type": "execute_result"
    },
    {
     "data": {
      "image/png": "[encoded data removed]",
      "text/plain": [
       "<Figure size 432x288 with 1 Axes>"
      ]
     },
     "metadata": {
      "needs_background": "light"
     },
     "output_type": "display_data"
    }
   ],
   "source": [
    "plt.scatter(y_test, y_pred)\n",
    "plt.xlabel('Y Test')\n",
    "plt.ylabel('Predicted Y')"
   ]
  },
  {
   "cell_type": "code",
   "execution_count": 51,
   "metadata": {},
   "outputs": [
    {
     "data": {
      "text/plain": [
       "1.5465111654881754"
      ]
     },
     "execution_count": 51,
     "metadata": {},
     "output_type": "execute_result"
    }
   ],
   "source": [
    "from sklearn.metrics import mean_absolute_error\n",
    "\n",
    "lin_mae = mean_absolute_error(y_test, y_pred)\n",
    "lin_mae"
   ]
  },
  {
   "cell_type": "markdown",
   "metadata": {},
   "source": [
    "#### Our MAE score means that we can predict with our model the age of the abalone within 1.5 years of its actual age based on its physical features."
   ]
  },
  {
   "cell_type": "markdown",
   "metadata": {},
   "source": [
    "## Fine Tune Our ML Model"
   ]
  },
  {
   "cell_type": "code",
   "execution_count": 52,
   "metadata": {},
   "outputs": [],
   "source": [
    "from sklearn.model_selection import cross_val_score\n",
    "\n",
    "scores = cross_val_score(ridge, X_train, y_train,\n",
    "                         scoring=\"neg_mean_squared_error\", cv=10)\n",
    "ridge_rmse_scores = np.sqrt(-scores)"
   ]
  },
  {
   "cell_type": "code",
   "execution_count": 53,
   "metadata": {},
   "outputs": [
    {
     "name": "stdout",
     "output_type": "stream",
     "text": [
      "Scores: [2.25492973 1.99189974 2.07347097 2.22458661 1.9879511  2.21006217\n",
      " 2.08479332 2.43281413 2.15729603 2.24753345]\n",
      "Mean: 2.1665337244752476\n",
      "Standard deviation: 0.12975408166869484\n"
     ]
    }
   ],
   "source": [
    "def display_scores(scores):\n",
    "    print(\"Scores:\", scores)\n",
    "    print(\"Mean:\", scores.mean())\n",
    "    print(\"Standard deviation:\", scores.std())\n",
    "\n",
    "display_scores(ridge_rmse_scores)"
   ]
  },
  {
   "cell_type": "markdown",
   "metadata": {},
   "source": [
    "#### To avoid overfitting, we will perform a (supervised) machine learning experiment to hold out part of the available data as a test set X_test, y_test. The best parameters will be determined by grid search techniques. Below this cell is an attempt to reach a batter MAE with a random forest model; however, this model failed to outperform our ridge regression model, so we will continue optimizing our ridge model with grid search to prevent overfitting. "
   ]
  },
  {
   "cell_type": "code",
   "execution_count": 54,
   "metadata": {},
   "outputs": [
    {
     "data": {
      "text/plain": [
       "RandomForestRegressor(bootstrap=True, criterion='mse', max_depth=None,\n",
       "                      max_features='auto', max_leaf_nodes=None,\n",
       "                      min_impurity_decrease=0.0, min_impurity_split=None,\n",
       "                      min_samples_leaf=1, min_samples_split=2,\n",
       "                      min_weight_fraction_leaf=0.0, n_estimators=10,\n",
       "                      n_jobs=None, oob_score=False, random_state=42, verbose=0,\n",
       "                      warm_start=False)"
      ]
     },
     "execution_count": 54,
     "metadata": {},
     "output_type": "execute_result"
    }
   ],
   "source": [
    "from sklearn.ensemble import RandomForestRegressor\n",
    "\n",
    "forest_reg = RandomForestRegressor(n_estimators=10, random_state=42)\n",
    "forest_reg.fit(X_train, y_train)"
   ]
  },
  {
   "cell_type": "code",
   "execution_count": 55,
   "metadata": {},
   "outputs": [
    {
     "data": {
      "text/plain": [
       "2.3858534428413036"
      ]
     },
     "execution_count": 55,
     "metadata": {},
     "output_type": "execute_result"
    }
   ],
   "source": [
    "y_pred = forest_reg.predict(X_test)\n",
    "forest_mse = mean_squared_error(y_test, y_pred)\n",
    "forest_rmse = np.sqrt(forest_mse)\n",
    "forest_rmse"
   ]
  },
  {
   "cell_type": "code",
   "execution_count": 56,
   "metadata": {},
   "outputs": [
    {
     "name": "stdout",
     "output_type": "stream",
     "text": [
      "Scores: [2.39731815 2.09778897 2.26612651 2.17973107 2.24343353 2.36767781\n",
      " 2.17874875 2.50951483 2.16357295 2.36752606]\n",
      "Mean: 2.277143862498279\n",
      "Standard deviation: 0.12259633405870302\n"
     ]
    }
   ],
   "source": [
    "from sklearn.model_selection import cross_val_score\n",
    "\n",
    "forest_scores = cross_val_score(forest_reg,  X_train, y_train,\n",
    "                                scoring=\"neg_mean_squared_error\", cv=10)\n",
    "forest_rmse_scores = np.sqrt(-forest_scores)\n",
    "display_scores(forest_rmse_scores)"
   ]
  },
  {
   "cell_type": "code",
   "execution_count": 57,
   "metadata": {},
   "outputs": [
    {
     "data": {
      "text/plain": [
       "count    10.000000\n",
       "mean      2.166534\n",
       "std       0.136773\n",
       "min       1.987951\n",
       "25%       2.076302\n",
       "50%       2.183679\n",
       "75%       2.241797\n",
       "max       2.432814\n",
       "dtype: float64"
      ]
     },
     "execution_count": 57,
     "metadata": {},
     "output_type": "execute_result"
    }
   ],
   "source": [
    "scores = cross_val_score(ridge,  X_train, y_train, scoring=\"neg_mean_squared_error\", cv=10)\n",
    "pd.Series(np.sqrt(-scores)).describe()"
   ]
  },
  {
   "cell_type": "markdown",
   "metadata": {},
   "source": [
    "### Optimizing our Ridge model with grid search. "
   ]
  },
  {
   "cell_type": "markdown",
   "metadata": {},
   "source": [
    "#### We will add feature selection to our preprocessing pipeline by selecting the best features based on univariate statistical tests. Select K best will work by removing all but the highest k scoring features. We will run this in grid search to return our best hyperparameters. "
   ]
  },
  {
   "cell_type": "code",
   "execution_count": 58,
   "metadata": {},
   "outputs": [
    {
     "data": {
      "text/plain": [
       "({'alpha': 0.01, 'solver': 'auto'}, 0.5399167812051203)"
      ]
     },
     "execution_count": 58,
     "metadata": {},
     "output_type": "execute_result"
    }
   ],
   "source": [
    "from sklearn.model_selection import GridSearchCV\n",
    "from sklearn.feature_selection import SelectKBest\n",
    "                        \n",
    "standardScale = StandardScaler()\n",
    "standardScale.fit_transform(X)\n",
    "\n",
    "selectkBest = SelectKBest()\n",
    "X_new = selectkBest.fit_transform(X, y)\n",
    "\n",
    "X_train, X_test, y_train, y_test = train_test_split(X_new, y, test_size = 0.25)\n",
    "\n",
    "X_train, X_test, y_train, y_test = train_test_split(X_new, y, random_state=0, test_size = 0.2)\n",
    "\n",
    "# train across 5 folds, that's a total of (12+6)*5=90 rounds of training \n",
    "\n",
    "param  = {'alpha':[0.01, 0.1, 1,10,100],\n",
    "         'solver' : ['auto', 'svd', 'cholesky', 'lsqr', 'sparse_cg', 'sag', 'saga']}\n",
    "grid_search = GridSearchCV(estimator = Ridge(random_state=10,),\n",
    "param_grid = param,scoring= 'r2' ,cv = 5,  n_jobs = -1)\n",
    "grid_search.fit(X_train, y_train)\n",
    "grid_search.best_params_, grid_search.best_score_"
   ]
  },
  {
   "cell_type": "code",
   "execution_count": 59,
   "metadata": {},
   "outputs": [
    {
     "data": {
      "text/plain": [
       "{'alpha': 0.01, 'solver': 'auto'}"
      ]
     },
     "execution_count": 59,
     "metadata": {},
     "output_type": "execute_result"
    }
   ],
   "source": [
    "grid_search.best_params_"
   ]
  },
  {
   "cell_type": "code",
   "execution_count": 60,
   "metadata": {},
   "outputs": [
    {
     "data": {
      "text/plain": [
       "Ridge(alpha=0.01, copy_X=True, fit_intercept=True, max_iter=None,\n",
       "      normalize=False, random_state=10, solver='auto', tol=0.001)"
      ]
     },
     "execution_count": 60,
     "metadata": {},
     "output_type": "execute_result"
    }
   ],
   "source": [
    "grid_search.best_estimator_"
   ]
  },
  {
   "cell_type": "code",
   "execution_count": 61,
   "metadata": {},
   "outputs": [
    {
     "name": "stdout",
     "output_type": "stream",
     "text": [
      "nan {'alpha': 0.01, 'solver': 'auto'}\n",
      "nan {'alpha': 0.01, 'solver': 'svd'}\n",
      "nan {'alpha': 0.01, 'solver': 'cholesky'}\n",
      "nan {'alpha': 0.01, 'solver': 'lsqr'}\n",
      "nan {'alpha': 0.01, 'solver': 'sparse_cg'}\n",
      "nan {'alpha': 0.01, 'solver': 'sag'}\n",
      "nan {'alpha': 0.01, 'solver': 'saga'}\n",
      "nan {'alpha': 0.1, 'solver': 'auto'}\n",
      "nan {'alpha': 0.1, 'solver': 'svd'}\n",
      "nan {'alpha': 0.1, 'solver': 'cholesky'}\n",
      "nan {'alpha': 0.1, 'solver': 'lsqr'}\n",
      "nan {'alpha': 0.1, 'solver': 'sparse_cg'}\n",
      "nan {'alpha': 0.1, 'solver': 'sag'}\n",
      "nan {'alpha': 0.1, 'solver': 'saga'}\n",
      "nan {'alpha': 1, 'solver': 'auto'}\n",
      "nan {'alpha': 1, 'solver': 'svd'}\n",
      "nan {'alpha': 1, 'solver': 'cholesky'}\n",
      "nan {'alpha': 1, 'solver': 'lsqr'}\n",
      "nan {'alpha': 1, 'solver': 'sparse_cg'}\n",
      "nan {'alpha': 1, 'solver': 'sag'}\n",
      "nan {'alpha': 1, 'solver': 'saga'}\n",
      "nan {'alpha': 10, 'solver': 'auto'}\n",
      "nan {'alpha': 10, 'solver': 'svd'}\n",
      "nan {'alpha': 10, 'solver': 'cholesky'}\n",
      "nan {'alpha': 10, 'solver': 'lsqr'}\n",
      "nan {'alpha': 10, 'solver': 'sparse_cg'}\n",
      "nan {'alpha': 10, 'solver': 'sag'}\n",
      "nan {'alpha': 10, 'solver': 'saga'}\n",
      "nan {'alpha': 100, 'solver': 'auto'}\n",
      "nan {'alpha': 100, 'solver': 'svd'}\n",
      "nan {'alpha': 100, 'solver': 'cholesky'}\n",
      "nan {'alpha': 100, 'solver': 'lsqr'}\n",
      "nan {'alpha': 100, 'solver': 'sparse_cg'}\n",
      "nan {'alpha': 100, 'solver': 'sag'}\n",
      "nan {'alpha': 100, 'solver': 'saga'}\n"
     ]
    },
    {
     "name": "stderr",
     "output_type": "stream",
     "text": [
      "/Users/ryanmartin/anaconda3/lib/python3.7/site-packages/ipykernel_launcher.py:3: RuntimeWarning: invalid value encountered in sqrt\n",
      "  This is separate from the ipykernel package so we can avoid doing imports until\n"
     ]
    }
   ],
   "source": [
    "cvres = grid_search.cv_results_\n",
    "for mean_score, params in zip(cvres[\"mean_test_score\"], cvres[\"params\"]):\n",
    "    print(np.sqrt(-mean_score), params)"
   ]
  },
  {
   "cell_type": "code",
   "execution_count": 62,
   "metadata": {},
   "outputs": [
    {
     "data": {
      "text/html": [
       "<div>\n",
       "<style scoped>\n",
       "    .dataframe tbody tr th:only-of-type {\n",
       "        vertical-align: middle;\n",
       "    }\n",
       "\n",
       "    .dataframe tbody tr th {\n",
       "        vertical-align: top;\n",
       "    }\n",
       "\n",
       "    .dataframe thead th {\n",
       "        text-align: right;\n",
       "    }\n",
       "</style>\n",
       "<table border=\"1\" class=\"dataframe\">\n",
       "  <thead>\n",
       "    <tr style=\"text-align: right;\">\n",
       "      <th></th>\n",
       "      <th>mean_fit_time</th>\n",
       "      <th>std_fit_time</th>\n",
       "      <th>mean_score_time</th>\n",
       "      <th>std_score_time</th>\n",
       "      <th>param_alpha</th>\n",
       "      <th>param_solver</th>\n",
       "      <th>params</th>\n",
       "      <th>split0_test_score</th>\n",
       "      <th>split1_test_score</th>\n",
       "      <th>split2_test_score</th>\n",
       "      <th>split3_test_score</th>\n",
       "      <th>split4_test_score</th>\n",
       "      <th>mean_test_score</th>\n",
       "      <th>std_test_score</th>\n",
       "      <th>rank_test_score</th>\n",
       "    </tr>\n",
       "  </thead>\n",
       "  <tbody>\n",
       "    <tr>\n",
       "      <th>0</th>\n",
       "      <td>0.004836</td>\n",
       "      <td>0.001864</td>\n",
       "      <td>0.000689</td>\n",
       "      <td>0.000086</td>\n",
       "      <td>0.01</td>\n",
       "      <td>auto</td>\n",
       "      <td>{'alpha': 0.01, 'solver': 'auto'}</td>\n",
       "      <td>0.527018</td>\n",
       "      <td>0.553728</td>\n",
       "      <td>0.552654</td>\n",
       "      <td>0.506101</td>\n",
       "      <td>0.560102</td>\n",
       "      <td>0.539917</td>\n",
       "      <td>0.020347</td>\n",
       "      <td>1</td>\n",
       "    </tr>\n",
       "    <tr>\n",
       "      <th>1</th>\n",
       "      <td>0.002810</td>\n",
       "      <td>0.001037</td>\n",
       "      <td>0.000604</td>\n",
       "      <td>0.000038</td>\n",
       "      <td>0.01</td>\n",
       "      <td>svd</td>\n",
       "      <td>{'alpha': 0.01, 'solver': 'svd'}</td>\n",
       "      <td>0.527018</td>\n",
       "      <td>0.553728</td>\n",
       "      <td>0.552654</td>\n",
       "      <td>0.506101</td>\n",
       "      <td>0.560102</td>\n",
       "      <td>0.539917</td>\n",
       "      <td>0.020347</td>\n",
       "      <td>3</td>\n",
       "    </tr>\n",
       "    <tr>\n",
       "      <th>2</th>\n",
       "      <td>0.002499</td>\n",
       "      <td>0.001073</td>\n",
       "      <td>0.001442</td>\n",
       "      <td>0.001680</td>\n",
       "      <td>0.01</td>\n",
       "      <td>cholesky</td>\n",
       "      <td>{'alpha': 0.01, 'solver': 'cholesky'}</td>\n",
       "      <td>0.527018</td>\n",
       "      <td>0.553728</td>\n",
       "      <td>0.552654</td>\n",
       "      <td>0.506101</td>\n",
       "      <td>0.560102</td>\n",
       "      <td>0.539917</td>\n",
       "      <td>0.020347</td>\n",
       "      <td>1</td>\n",
       "    </tr>\n",
       "    <tr>\n",
       "      <th>3</th>\n",
       "      <td>0.004818</td>\n",
       "      <td>0.002341</td>\n",
       "      <td>0.000833</td>\n",
       "      <td>0.000425</td>\n",
       "      <td>0.01</td>\n",
       "      <td>lsqr</td>\n",
       "      <td>{'alpha': 0.01, 'solver': 'lsqr'}</td>\n",
       "      <td>0.527776</td>\n",
       "      <td>0.552416</td>\n",
       "      <td>0.551985</td>\n",
       "      <td>0.495347</td>\n",
       "      <td>0.560353</td>\n",
       "      <td>0.537573</td>\n",
       "      <td>0.023771</td>\n",
       "      <td>13</td>\n",
       "    </tr>\n",
       "    <tr>\n",
       "      <th>4</th>\n",
       "      <td>0.003160</td>\n",
       "      <td>0.000889</td>\n",
       "      <td>0.000774</td>\n",
       "      <td>0.000327</td>\n",
       "      <td>0.01</td>\n",
       "      <td>sparse_cg</td>\n",
       "      <td>{'alpha': 0.01, 'solver': 'sparse_cg'}</td>\n",
       "      <td>0.527777</td>\n",
       "      <td>0.552397</td>\n",
       "      <td>0.551984</td>\n",
       "      <td>0.505553</td>\n",
       "      <td>0.560354</td>\n",
       "      <td>0.539609</td>\n",
       "      <td>0.020231</td>\n",
       "      <td>11</td>\n",
       "    </tr>\n",
       "    <tr>\n",
       "      <th>5</th>\n",
       "      <td>0.048677</td>\n",
       "      <td>0.005919</td>\n",
       "      <td>0.001509</td>\n",
       "      <td>0.001012</td>\n",
       "      <td>0.01</td>\n",
       "      <td>sag</td>\n",
       "      <td>{'alpha': 0.01, 'solver': 'sag'}</td>\n",
       "      <td>0.526838</td>\n",
       "      <td>0.553841</td>\n",
       "      <td>0.552619</td>\n",
       "      <td>0.506125</td>\n",
       "      <td>0.560049</td>\n",
       "      <td>0.539891</td>\n",
       "      <td>0.020362</td>\n",
       "      <td>4</td>\n",
       "    </tr>\n",
       "    <tr>\n",
       "      <th>6</th>\n",
       "      <td>0.089352</td>\n",
       "      <td>0.008292</td>\n",
       "      <td>0.000850</td>\n",
       "      <td>0.000427</td>\n",
       "      <td>0.01</td>\n",
       "      <td>saga</td>\n",
       "      <td>{'alpha': 0.01, 'solver': 'saga'}</td>\n",
       "      <td>0.526642</td>\n",
       "      <td>0.553956</td>\n",
       "      <td>0.552577</td>\n",
       "      <td>0.506150</td>\n",
       "      <td>0.559985</td>\n",
       "      <td>0.539858</td>\n",
       "      <td>0.020377</td>\n",
       "      <td>5</td>\n",
       "    </tr>\n",
       "    <tr>\n",
       "      <th>7</th>\n",
       "      <td>0.001471</td>\n",
       "      <td>0.000287</td>\n",
       "      <td>0.000592</td>\n",
       "      <td>0.000141</td>\n",
       "      <td>0.1</td>\n",
       "      <td>auto</td>\n",
       "      <td>{'alpha': 0.1, 'solver': 'auto'}</td>\n",
       "      <td>0.524729</td>\n",
       "      <td>0.555359</td>\n",
       "      <td>0.551967</td>\n",
       "      <td>0.507982</td>\n",
       "      <td>0.559062</td>\n",
       "      <td>0.539815</td>\n",
       "      <td>0.020002</td>\n",
       "      <td>6</td>\n",
       "    </tr>\n",
       "    <tr>\n",
       "      <th>8</th>\n",
       "      <td>0.001692</td>\n",
       "      <td>0.000223</td>\n",
       "      <td>0.000758</td>\n",
       "      <td>0.000279</td>\n",
       "      <td>0.1</td>\n",
       "      <td>svd</td>\n",
       "      <td>{'alpha': 0.1, 'solver': 'svd'}</td>\n",
       "      <td>0.524729</td>\n",
       "      <td>0.555359</td>\n",
       "      <td>0.551967</td>\n",
       "      <td>0.507982</td>\n",
       "      <td>0.559062</td>\n",
       "      <td>0.539815</td>\n",
       "      <td>0.020002</td>\n",
       "      <td>8</td>\n",
       "    </tr>\n",
       "    <tr>\n",
       "      <th>9</th>\n",
       "      <td>0.001478</td>\n",
       "      <td>0.000633</td>\n",
       "      <td>0.000769</td>\n",
       "      <td>0.000661</td>\n",
       "      <td>0.1</td>\n",
       "      <td>cholesky</td>\n",
       "      <td>{'alpha': 0.1, 'solver': 'cholesky'}</td>\n",
       "      <td>0.524729</td>\n",
       "      <td>0.555359</td>\n",
       "      <td>0.551967</td>\n",
       "      <td>0.507982</td>\n",
       "      <td>0.559062</td>\n",
       "      <td>0.539815</td>\n",
       "      <td>0.020002</td>\n",
       "      <td>6</td>\n",
       "    </tr>\n",
       "    <tr>\n",
       "      <th>10</th>\n",
       "      <td>0.002442</td>\n",
       "      <td>0.000520</td>\n",
       "      <td>0.000855</td>\n",
       "      <td>0.000682</td>\n",
       "      <td>0.1</td>\n",
       "      <td>lsqr</td>\n",
       "      <td>{'alpha': 0.1, 'solver': 'lsqr'}</td>\n",
       "      <td>0.522592</td>\n",
       "      <td>0.554302</td>\n",
       "      <td>0.551749</td>\n",
       "      <td>0.500781</td>\n",
       "      <td>0.556256</td>\n",
       "      <td>0.537132</td>\n",
       "      <td>0.021939</td>\n",
       "      <td>14</td>\n",
       "    </tr>\n",
       "    <tr>\n",
       "      <th>11</th>\n",
       "      <td>0.002165</td>\n",
       "      <td>0.000187</td>\n",
       "      <td>0.000658</td>\n",
       "      <td>0.000319</td>\n",
       "      <td>0.1</td>\n",
       "      <td>sparse_cg</td>\n",
       "      <td>{'alpha': 0.1, 'solver': 'sparse_cg'}</td>\n",
       "      <td>0.525228</td>\n",
       "      <td>0.554316</td>\n",
       "      <td>0.551519</td>\n",
       "      <td>0.500781</td>\n",
       "      <td>0.559235</td>\n",
       "      <td>0.538212</td>\n",
       "      <td>0.022125</td>\n",
       "      <td>12</td>\n",
       "    </tr>\n",
       "    <tr>\n",
       "      <th>12</th>\n",
       "      <td>0.045373</td>\n",
       "      <td>0.020257</td>\n",
       "      <td>0.000670</td>\n",
       "      <td>0.000101</td>\n",
       "      <td>0.1</td>\n",
       "      <td>sag</td>\n",
       "      <td>{'alpha': 0.1, 'solver': 'sag'}</td>\n",
       "      <td>0.524565</td>\n",
       "      <td>0.555381</td>\n",
       "      <td>0.551910</td>\n",
       "      <td>0.507959</td>\n",
       "      <td>0.558994</td>\n",
       "      <td>0.539757</td>\n",
       "      <td>0.020018</td>\n",
       "      <td>9</td>\n",
       "    </tr>\n",
       "    <tr>\n",
       "      <th>13</th>\n",
       "      <td>0.072731</td>\n",
       "      <td>0.025508</td>\n",
       "      <td>0.001050</td>\n",
       "      <td>0.000959</td>\n",
       "      <td>0.1</td>\n",
       "      <td>saga</td>\n",
       "      <td>{'alpha': 0.1, 'solver': 'saga'}</td>\n",
       "      <td>0.524363</td>\n",
       "      <td>0.555402</td>\n",
       "      <td>0.551834</td>\n",
       "      <td>0.507947</td>\n",
       "      <td>0.558896</td>\n",
       "      <td>0.539684</td>\n",
       "      <td>0.020028</td>\n",
       "      <td>10</td>\n",
       "    </tr>\n",
       "    <tr>\n",
       "      <th>14</th>\n",
       "      <td>0.001180</td>\n",
       "      <td>0.000074</td>\n",
       "      <td>0.000443</td>\n",
       "      <td>0.000010</td>\n",
       "      <td>1</td>\n",
       "      <td>auto</td>\n",
       "      <td>{'alpha': 1, 'solver': 'auto'}</td>\n",
       "      <td>0.516067</td>\n",
       "      <td>0.555018</td>\n",
       "      <td>0.545022</td>\n",
       "      <td>0.507989</td>\n",
       "      <td>0.551725</td>\n",
       "      <td>0.535158</td>\n",
       "      <td>0.019333</td>\n",
       "      <td>15</td>\n",
       "    </tr>\n",
       "    <tr>\n",
       "      <th>15</th>\n",
       "      <td>0.001687</td>\n",
       "      <td>0.000378</td>\n",
       "      <td>0.000496</td>\n",
       "      <td>0.000037</td>\n",
       "      <td>1</td>\n",
       "      <td>svd</td>\n",
       "      <td>{'alpha': 1, 'solver': 'svd'}</td>\n",
       "      <td>0.516067</td>\n",
       "      <td>0.555018</td>\n",
       "      <td>0.545022</td>\n",
       "      <td>0.507989</td>\n",
       "      <td>0.551725</td>\n",
       "      <td>0.535158</td>\n",
       "      <td>0.019333</td>\n",
       "      <td>17</td>\n",
       "    </tr>\n",
       "    <tr>\n",
       "      <th>16</th>\n",
       "      <td>0.001376</td>\n",
       "      <td>0.000268</td>\n",
       "      <td>0.000511</td>\n",
       "      <td>0.000063</td>\n",
       "      <td>1</td>\n",
       "      <td>cholesky</td>\n",
       "      <td>{'alpha': 1, 'solver': 'cholesky'}</td>\n",
       "      <td>0.516067</td>\n",
       "      <td>0.555018</td>\n",
       "      <td>0.545022</td>\n",
       "      <td>0.507989</td>\n",
       "      <td>0.551725</td>\n",
       "      <td>0.535158</td>\n",
       "      <td>0.019333</td>\n",
       "      <td>15</td>\n",
       "    </tr>\n",
       "    <tr>\n",
       "      <th>17</th>\n",
       "      <td>0.002091</td>\n",
       "      <td>0.000212</td>\n",
       "      <td>0.000477</td>\n",
       "      <td>0.000038</td>\n",
       "      <td>1</td>\n",
       "      <td>lsqr</td>\n",
       "      <td>{'alpha': 1, 'solver': 'lsqr'}</td>\n",
       "      <td>0.512692</td>\n",
       "      <td>0.555013</td>\n",
       "      <td>0.542786</td>\n",
       "      <td>0.507558</td>\n",
       "      <td>0.549750</td>\n",
       "      <td>0.533554</td>\n",
       "      <td>0.019592</td>\n",
       "      <td>21</td>\n",
       "    </tr>\n",
       "    <tr>\n",
       "      <th>18</th>\n",
       "      <td>0.002106</td>\n",
       "      <td>0.000197</td>\n",
       "      <td>0.000474</td>\n",
       "      <td>0.000023</td>\n",
       "      <td>1</td>\n",
       "      <td>sparse_cg</td>\n",
       "      <td>{'alpha': 1, 'solver': 'sparse_cg'}</td>\n",
       "      <td>0.515914</td>\n",
       "      <td>0.555013</td>\n",
       "      <td>0.545128</td>\n",
       "      <td>0.507558</td>\n",
       "      <td>0.551288</td>\n",
       "      <td>0.534974</td>\n",
       "      <td>0.019420</td>\n",
       "      <td>20</td>\n",
       "    </tr>\n",
       "    <tr>\n",
       "      <th>19</th>\n",
       "      <td>0.023746</td>\n",
       "      <td>0.010759</td>\n",
       "      <td>0.000651</td>\n",
       "      <td>0.000078</td>\n",
       "      <td>1</td>\n",
       "      <td>sag</td>\n",
       "      <td>{'alpha': 1, 'solver': 'sag'}</td>\n",
       "      <td>0.516036</td>\n",
       "      <td>0.554958</td>\n",
       "      <td>0.545010</td>\n",
       "      <td>0.507984</td>\n",
       "      <td>0.551703</td>\n",
       "      <td>0.535132</td>\n",
       "      <td>0.019323</td>\n",
       "      <td>18</td>\n",
       "    </tr>\n",
       "    <tr>\n",
       "      <th>20</th>\n",
       "      <td>0.022246</td>\n",
       "      <td>0.005999</td>\n",
       "      <td>0.000573</td>\n",
       "      <td>0.000073</td>\n",
       "      <td>1</td>\n",
       "      <td>saga</td>\n",
       "      <td>{'alpha': 1, 'solver': 'saga'}</td>\n",
       "      <td>0.515888</td>\n",
       "      <td>0.554946</td>\n",
       "      <td>0.544910</td>\n",
       "      <td>0.507994</td>\n",
       "      <td>0.551602</td>\n",
       "      <td>0.535062</td>\n",
       "      <td>0.019320</td>\n",
       "      <td>19</td>\n",
       "    </tr>\n",
       "    <tr>\n",
       "      <th>21</th>\n",
       "      <td>0.001149</td>\n",
       "      <td>0.000046</td>\n",
       "      <td>0.000444</td>\n",
       "      <td>0.000020</td>\n",
       "      <td>10</td>\n",
       "      <td>auto</td>\n",
       "      <td>{'alpha': 10, 'solver': 'auto'}</td>\n",
       "      <td>0.493486</td>\n",
       "      <td>0.527115</td>\n",
       "      <td>0.509822</td>\n",
       "      <td>0.476339</td>\n",
       "      <td>0.518971</td>\n",
       "      <td>0.505143</td>\n",
       "      <td>0.018227</td>\n",
       "      <td>23</td>\n",
       "    </tr>\n",
       "    <tr>\n",
       "      <th>22</th>\n",
       "      <td>0.001391</td>\n",
       "      <td>0.000097</td>\n",
       "      <td>0.000451</td>\n",
       "      <td>0.000050</td>\n",
       "      <td>10</td>\n",
       "      <td>svd</td>\n",
       "      <td>{'alpha': 10, 'solver': 'svd'}</td>\n",
       "      <td>0.493486</td>\n",
       "      <td>0.527115</td>\n",
       "      <td>0.509822</td>\n",
       "      <td>0.476339</td>\n",
       "      <td>0.518971</td>\n",
       "      <td>0.505143</td>\n",
       "      <td>0.018227</td>\n",
       "      <td>25</td>\n",
       "    </tr>\n",
       "    <tr>\n",
       "      <th>23</th>\n",
       "      <td>0.000865</td>\n",
       "      <td>0.000052</td>\n",
       "      <td>0.000362</td>\n",
       "      <td>0.000067</td>\n",
       "      <td>10</td>\n",
       "      <td>cholesky</td>\n",
       "      <td>{'alpha': 10, 'solver': 'cholesky'}</td>\n",
       "      <td>0.493486</td>\n",
       "      <td>0.527115</td>\n",
       "      <td>0.509822</td>\n",
       "      <td>0.476339</td>\n",
       "      <td>0.518971</td>\n",
       "      <td>0.505143</td>\n",
       "      <td>0.018227</td>\n",
       "      <td>23</td>\n",
       "    </tr>\n",
       "    <tr>\n",
       "      <th>24</th>\n",
       "      <td>0.001283</td>\n",
       "      <td>0.000287</td>\n",
       "      <td>0.000342</td>\n",
       "      <td>0.000076</td>\n",
       "      <td>10</td>\n",
       "      <td>lsqr</td>\n",
       "      <td>{'alpha': 10, 'solver': 'lsqr'}</td>\n",
       "      <td>0.493363</td>\n",
       "      <td>0.526371</td>\n",
       "      <td>0.509505</td>\n",
       "      <td>0.476620</td>\n",
       "      <td>0.518931</td>\n",
       "      <td>0.504955</td>\n",
       "      <td>0.017954</td>\n",
       "      <td>28</td>\n",
       "    </tr>\n",
       "    <tr>\n",
       "      <th>25</th>\n",
       "      <td>0.002060</td>\n",
       "      <td>0.000107</td>\n",
       "      <td>0.000548</td>\n",
       "      <td>0.000085</td>\n",
       "      <td>10</td>\n",
       "      <td>sparse_cg</td>\n",
       "      <td>{'alpha': 10, 'solver': 'sparse_cg'}</td>\n",
       "      <td>0.493437</td>\n",
       "      <td>0.527127</td>\n",
       "      <td>0.509816</td>\n",
       "      <td>0.476351</td>\n",
       "      <td>0.518964</td>\n",
       "      <td>0.505135</td>\n",
       "      <td>0.018231</td>\n",
       "      <td>27</td>\n",
       "    </tr>\n",
       "    <tr>\n",
       "      <th>26</th>\n",
       "      <td>0.008981</td>\n",
       "      <td>0.002608</td>\n",
       "      <td>0.001109</td>\n",
       "      <td>0.000854</td>\n",
       "      <td>10</td>\n",
       "      <td>sag</td>\n",
       "      <td>{'alpha': 10, 'solver': 'sag'}</td>\n",
       "      <td>0.493399</td>\n",
       "      <td>0.527137</td>\n",
       "      <td>0.509812</td>\n",
       "      <td>0.476373</td>\n",
       "      <td>0.518980</td>\n",
       "      <td>0.505136</td>\n",
       "      <td>0.018234</td>\n",
       "      <td>26</td>\n",
       "    </tr>\n",
       "    <tr>\n",
       "      <th>27</th>\n",
       "      <td>0.019891</td>\n",
       "      <td>0.021393</td>\n",
       "      <td>0.000730</td>\n",
       "      <td>0.000106</td>\n",
       "      <td>10</td>\n",
       "      <td>saga</td>\n",
       "      <td>{'alpha': 10, 'solver': 'saga'}</td>\n",
       "      <td>0.493489</td>\n",
       "      <td>0.527125</td>\n",
       "      <td>0.509835</td>\n",
       "      <td>0.476332</td>\n",
       "      <td>0.518959</td>\n",
       "      <td>0.505144</td>\n",
       "      <td>0.018230</td>\n",
       "      <td>22</td>\n",
       "    </tr>\n",
       "    <tr>\n",
       "      <th>28</th>\n",
       "      <td>0.002037</td>\n",
       "      <td>0.000459</td>\n",
       "      <td>0.000885</td>\n",
       "      <td>0.000215</td>\n",
       "      <td>100</td>\n",
       "      <td>auto</td>\n",
       "      <td>{'alpha': 100, 'solver': 'auto'}</td>\n",
       "      <td>0.397369</td>\n",
       "      <td>0.416622</td>\n",
       "      <td>0.397240</td>\n",
       "      <td>0.375514</td>\n",
       "      <td>0.401856</td>\n",
       "      <td>0.397720</td>\n",
       "      <td>0.013173</td>\n",
       "      <td>31</td>\n",
       "    </tr>\n",
       "    <tr>\n",
       "      <th>29</th>\n",
       "      <td>0.002418</td>\n",
       "      <td>0.001245</td>\n",
       "      <td>0.001525</td>\n",
       "      <td>0.001512</td>\n",
       "      <td>100</td>\n",
       "      <td>svd</td>\n",
       "      <td>{'alpha': 100, 'solver': 'svd'}</td>\n",
       "      <td>0.397369</td>\n",
       "      <td>0.416622</td>\n",
       "      <td>0.397240</td>\n",
       "      <td>0.375514</td>\n",
       "      <td>0.401856</td>\n",
       "      <td>0.397720</td>\n",
       "      <td>0.013173</td>\n",
       "      <td>30</td>\n",
       "    </tr>\n",
       "    <tr>\n",
       "      <th>30</th>\n",
       "      <td>0.001573</td>\n",
       "      <td>0.000490</td>\n",
       "      <td>0.000718</td>\n",
       "      <td>0.000351</td>\n",
       "      <td>100</td>\n",
       "      <td>cholesky</td>\n",
       "      <td>{'alpha': 100, 'solver': 'cholesky'}</td>\n",
       "      <td>0.397369</td>\n",
       "      <td>0.416622</td>\n",
       "      <td>0.397240</td>\n",
       "      <td>0.375514</td>\n",
       "      <td>0.401856</td>\n",
       "      <td>0.397720</td>\n",
       "      <td>0.013173</td>\n",
       "      <td>31</td>\n",
       "    </tr>\n",
       "    <tr>\n",
       "      <th>31</th>\n",
       "      <td>0.002057</td>\n",
       "      <td>0.000663</td>\n",
       "      <td>0.000451</td>\n",
       "      <td>0.000029</td>\n",
       "      <td>100</td>\n",
       "      <td>lsqr</td>\n",
       "      <td>{'alpha': 100, 'solver': 'lsqr'}</td>\n",
       "      <td>0.397370</td>\n",
       "      <td>0.416619</td>\n",
       "      <td>0.397239</td>\n",
       "      <td>0.375392</td>\n",
       "      <td>0.401856</td>\n",
       "      <td>0.397695</td>\n",
       "      <td>0.013213</td>\n",
       "      <td>35</td>\n",
       "    </tr>\n",
       "    <tr>\n",
       "      <th>32</th>\n",
       "      <td>0.002000</td>\n",
       "      <td>0.000363</td>\n",
       "      <td>0.000453</td>\n",
       "      <td>0.000032</td>\n",
       "      <td>100</td>\n",
       "      <td>sparse_cg</td>\n",
       "      <td>{'alpha': 100, 'solver': 'sparse_cg'}</td>\n",
       "      <td>0.397370</td>\n",
       "      <td>0.416619</td>\n",
       "      <td>0.397239</td>\n",
       "      <td>0.375515</td>\n",
       "      <td>0.401856</td>\n",
       "      <td>0.397720</td>\n",
       "      <td>0.013171</td>\n",
       "      <td>33</td>\n",
       "    </tr>\n",
       "    <tr>\n",
       "      <th>33</th>\n",
       "      <td>0.004421</td>\n",
       "      <td>0.000933</td>\n",
       "      <td>0.000438</td>\n",
       "      <td>0.000098</td>\n",
       "      <td>100</td>\n",
       "      <td>sag</td>\n",
       "      <td>{'alpha': 100, 'solver': 'sag'}</td>\n",
       "      <td>0.397369</td>\n",
       "      <td>0.416635</td>\n",
       "      <td>0.397224</td>\n",
       "      <td>0.375503</td>\n",
       "      <td>0.401846</td>\n",
       "      <td>0.397715</td>\n",
       "      <td>0.013179</td>\n",
       "      <td>34</td>\n",
       "    </tr>\n",
       "    <tr>\n",
       "      <th>34</th>\n",
       "      <td>0.005365</td>\n",
       "      <td>0.001204</td>\n",
       "      <td>0.000473</td>\n",
       "      <td>0.000091</td>\n",
       "      <td>100</td>\n",
       "      <td>saga</td>\n",
       "      <td>{'alpha': 100, 'solver': 'saga'}</td>\n",
       "      <td>0.397355</td>\n",
       "      <td>0.416676</td>\n",
       "      <td>0.397261</td>\n",
       "      <td>0.375501</td>\n",
       "      <td>0.401846</td>\n",
       "      <td>0.397728</td>\n",
       "      <td>0.013192</td>\n",
       "      <td>29</td>\n",
       "    </tr>\n",
       "  </tbody>\n",
       "</table>\n",
       "</div>"
      ],
      "text/plain": [
       "    mean_fit_time  std_fit_time  mean_score_time  std_score_time param_alpha  \\\n",
       "0        0.004836      0.001864         0.000689        0.000086        0.01   \n",
       "1        0.002810      0.001037         0.000604        0.000038        0.01   \n",
       "2        0.002499      0.001073         0.001442        0.001680        0.01   \n",
       "3        0.004818      0.002341         0.000833        0.000425        0.01   \n",
       "4        0.003160      0.000889         0.000774        0.000327        0.01   \n",
       "5        0.048677      0.005919         0.001509        0.001012        0.01   \n",
       "6        0.089352      0.008292         0.000850        0.000427        0.01   \n",
       "7        0.001471      0.000287         0.000592        0.000141         0.1   \n",
       "8        0.001692      0.000223         0.000758        0.000279         0.1   \n",
       "9        0.001478      0.000633         0.000769        0.000661         0.1   \n",
       "10       0.002442      0.000520         0.000855        0.000682         0.1   \n",
       "11       0.002165      0.000187         0.000658        0.000319         0.1   \n",
       "12       0.045373      0.020257         0.000670        0.000101         0.1   \n",
       "13       0.072731      0.025508         0.001050        0.000959         0.1   \n",
       "14       0.001180      0.000074         0.000443        0.000010           1   \n",
       "15       0.001687      0.000378         0.000496        0.000037           1   \n",
       "16       0.001376      0.000268         0.000511        0.000063           1   \n",
       "17       0.002091      0.000212         0.000477        0.000038           1   \n",
       "18       0.002106      0.000197         0.000474        0.000023           1   \n",
       "19       0.023746      0.010759         0.000651        0.000078           1   \n",
       "20       0.022246      0.005999         0.000573        0.000073           1   \n",
       "21       0.001149      0.000046         0.000444        0.000020          10   \n",
       "22       0.001391      0.000097         0.000451        0.000050          10   \n",
       "23       0.000865      0.000052         0.000362        0.000067          10   \n",
       "24       0.001283      0.000287         0.000342        0.000076          10   \n",
       "25       0.002060      0.000107         0.000548        0.000085          10   \n",
       "26       0.008981      0.002608         0.001109        0.000854          10   \n",
       "27       0.019891      0.021393         0.000730        0.000106          10   \n",
       "28       0.002037      0.000459         0.000885        0.000215         100   \n",
       "29       0.002418      0.001245         0.001525        0.001512         100   \n",
       "30       0.001573      0.000490         0.000718        0.000351         100   \n",
       "31       0.002057      0.000663         0.000451        0.000029         100   \n",
       "32       0.002000      0.000363         0.000453        0.000032         100   \n",
       "33       0.004421      0.000933         0.000438        0.000098         100   \n",
       "34       0.005365      0.001204         0.000473        0.000091         100   \n",
       "\n",
       "   param_solver                                  params  split0_test_score  \\\n",
       "0          auto       {'alpha': 0.01, 'solver': 'auto'}           0.527018   \n",
       "1           svd        {'alpha': 0.01, 'solver': 'svd'}           0.527018   \n",
       "2      cholesky   {'alpha': 0.01, 'solver': 'cholesky'}           0.527018   \n",
       "3          lsqr       {'alpha': 0.01, 'solver': 'lsqr'}           0.527776   \n",
       "4     sparse_cg  {'alpha': 0.01, 'solver': 'sparse_cg'}           0.527777   \n",
       "5           sag        {'alpha': 0.01, 'solver': 'sag'}           0.526838   \n",
       "6          saga       {'alpha': 0.01, 'solver': 'saga'}           0.526642   \n",
       "7          auto        {'alpha': 0.1, 'solver': 'auto'}           0.524729   \n",
       "8           svd         {'alpha': 0.1, 'solver': 'svd'}           0.524729   \n",
       "9      cholesky    {'alpha': 0.1, 'solver': 'cholesky'}           0.524729   \n",
       "10         lsqr        {'alpha': 0.1, 'solver': 'lsqr'}           0.522592   \n",
       "11    sparse_cg   {'alpha': 0.1, 'solver': 'sparse_cg'}           0.525228   \n",
       "12          sag         {'alpha': 0.1, 'solver': 'sag'}           0.524565   \n",
       "13         saga        {'alpha': 0.1, 'solver': 'saga'}           0.524363   \n",
       "14         auto          {'alpha': 1, 'solver': 'auto'}           0.516067   \n",
       "15          svd           {'alpha': 1, 'solver': 'svd'}           0.516067   \n",
       "16     cholesky      {'alpha': 1, 'solver': 'cholesky'}           0.516067   \n",
       "17         lsqr          {'alpha': 1, 'solver': 'lsqr'}           0.512692   \n",
       "18    sparse_cg     {'alpha': 1, 'solver': 'sparse_cg'}           0.515914   \n",
       "19          sag           {'alpha': 1, 'solver': 'sag'}           0.516036   \n",
       "20         saga          {'alpha': 1, 'solver': 'saga'}           0.515888   \n",
       "21         auto         {'alpha': 10, 'solver': 'auto'}           0.493486   \n",
       "22          svd          {'alpha': 10, 'solver': 'svd'}           0.493486   \n",
       "23     cholesky     {'alpha': 10, 'solver': 'cholesky'}           0.493486   \n",
       "24         lsqr         {'alpha': 10, 'solver': 'lsqr'}           0.493363   \n",
       "25    sparse_cg    {'alpha': 10, 'solver': 'sparse_cg'}           0.493437   \n",
       "26          sag          {'alpha': 10, 'solver': 'sag'}           0.493399   \n",
       "27         saga         {'alpha': 10, 'solver': 'saga'}           0.493489   \n",
       "28         auto        {'alpha': 100, 'solver': 'auto'}           0.397369   \n",
       "29          svd         {'alpha': 100, 'solver': 'svd'}           0.397369   \n",
       "30     cholesky    {'alpha': 100, 'solver': 'cholesky'}           0.397369   \n",
       "31         lsqr        {'alpha': 100, 'solver': 'lsqr'}           0.397370   \n",
       "32    sparse_cg   {'alpha': 100, 'solver': 'sparse_cg'}           0.397370   \n",
       "33          sag         {'alpha': 100, 'solver': 'sag'}           0.397369   \n",
       "34         saga        {'alpha': 100, 'solver': 'saga'}           0.397355   \n",
       "\n",
       "    split1_test_score  split2_test_score  split3_test_score  \\\n",
       "0            0.553728           0.552654           0.506101   \n",
       "1            0.553728           0.552654           0.506101   \n",
       "2            0.553728           0.552654           0.506101   \n",
       "3            0.552416           0.551985           0.495347   \n",
       "4            0.552397           0.551984           0.505553   \n",
       "5            0.553841           0.552619           0.506125   \n",
       "6            0.553956           0.552577           0.506150   \n",
       "7            0.555359           0.551967           0.507982   \n",
       "8            0.555359           0.551967           0.507982   \n",
       "9            0.555359           0.551967           0.507982   \n",
       "10           0.554302           0.551749           0.500781   \n",
       "11           0.554316           0.551519           0.500781   \n",
       "12           0.555381           0.551910           0.507959   \n",
       "13           0.555402           0.551834           0.507947   \n",
       "14           0.555018           0.545022           0.507989   \n",
       "15           0.555018           0.545022           0.507989   \n",
       "16           0.555018           0.545022           0.507989   \n",
       "17           0.555013           0.542786           0.507558   \n",
       "18           0.555013           0.545128           0.507558   \n",
       "19           0.554958           0.545010           0.507984   \n",
       "20           0.554946           0.544910           0.507994   \n",
       "21           0.527115           0.509822           0.476339   \n",
       "22           0.527115           0.509822           0.476339   \n",
       "23           0.527115           0.509822           0.476339   \n",
       "24           0.526371           0.509505           0.476620   \n",
       "25           0.527127           0.509816           0.476351   \n",
       "26           0.527137           0.509812           0.476373   \n",
       "27           0.527125           0.509835           0.476332   \n",
       "28           0.416622           0.397240           0.375514   \n",
       "29           0.416622           0.397240           0.375514   \n",
       "30           0.416622           0.397240           0.375514   \n",
       "31           0.416619           0.397239           0.375392   \n",
       "32           0.416619           0.397239           0.375515   \n",
       "33           0.416635           0.397224           0.375503   \n",
       "34           0.416676           0.397261           0.375501   \n",
       "\n",
       "    split4_test_score  mean_test_score  std_test_score  rank_test_score  \n",
       "0            0.560102         0.539917        0.020347                1  \n",
       "1            0.560102         0.539917        0.020347                3  \n",
       "2            0.560102         0.539917        0.020347                1  \n",
       "3            0.560353         0.537573        0.023771               13  \n",
       "4            0.560354         0.539609        0.020231               11  \n",
       "5            0.560049         0.539891        0.020362                4  \n",
       "6            0.559985         0.539858        0.020377                5  \n",
       "7            0.559062         0.539815        0.020002                6  \n",
       "8            0.559062         0.539815        0.020002                8  \n",
       "9            0.559062         0.539815        0.020002                6  \n",
       "10           0.556256         0.537132        0.021939               14  \n",
       "11           0.559235         0.538212        0.022125               12  \n",
       "12           0.558994         0.539757        0.020018                9  \n",
       "13           0.558896         0.539684        0.020028               10  \n",
       "14           0.551725         0.535158        0.019333               15  \n",
       "15           0.551725         0.535158        0.019333               17  \n",
       "16           0.551725         0.535158        0.019333               15  \n",
       "17           0.549750         0.533554        0.019592               21  \n",
       "18           0.551288         0.534974        0.019420               20  \n",
       "19           0.551703         0.535132        0.019323               18  \n",
       "20           0.551602         0.535062        0.019320               19  \n",
       "21           0.518971         0.505143        0.018227               23  \n",
       "22           0.518971         0.505143        0.018227               25  \n",
       "23           0.518971         0.505143        0.018227               23  \n",
       "24           0.518931         0.504955        0.017954               28  \n",
       "25           0.518964         0.505135        0.018231               27  \n",
       "26           0.518980         0.505136        0.018234               26  \n",
       "27           0.518959         0.505144        0.018230               22  \n",
       "28           0.401856         0.397720        0.013173               31  \n",
       "29           0.401856         0.397720        0.013173               30  \n",
       "30           0.401856         0.397720        0.013173               31  \n",
       "31           0.401856         0.397695        0.013213               35  \n",
       "32           0.401856         0.397720        0.013171               33  \n",
       "33           0.401846         0.397715        0.013179               34  \n",
       "34           0.401846         0.397728        0.013192               29  "
      ]
     },
     "execution_count": 62,
     "metadata": {},
     "output_type": "execute_result"
    }
   ],
   "source": [
    "pd.DataFrame(grid_search.cv_results_)"
   ]
  },
  {
   "cell_type": "markdown",
   "metadata": {},
   "source": [
    "## Evaluate our best model on the test set"
   ]
  },
  {
   "cell_type": "markdown",
   "metadata": {},
   "source": [
    "#### Below are the results of our final model using ridge regression and grid search cv to find the best hyperparameters. This model will basically predict the age of the abalone within 2.1 years of its actual age (see final MAE) without overfitting. "
   ]
  },
  {
   "cell_type": "code",
   "execution_count": 63,
   "metadata": {},
   "outputs": [],
   "source": [
    "final_model = grid_search.best_estimator_"
   ]
  },
  {
   "cell_type": "code",
   "execution_count": 64,
   "metadata": {},
   "outputs": [],
   "source": [
    "y_pred = final_model.predict(X_test)"
   ]
  },
  {
   "cell_type": "code",
   "execution_count": 65,
   "metadata": {},
   "outputs": [
    {
     "data": {
      "text/plain": [
       "Text(0, 0.5, 'Predicted Y')"
      ]
     },
     "execution_count": 65,
     "metadata": {},
     "output_type": "execute_result"
    },
    {
     "data": {
      "image/png": "[encoded data removed]",
      "text/plain": [
       "<Figure size 432x288 with 1 Axes>"
      ]
     },
     "metadata": {
      "needs_background": "light"
     },
     "output_type": "display_data"
    }
   ],
   "source": [
    "plt.scatter(y_test, y_pred)\n",
    "plt.xlabel('Y Test')\n",
    "plt.ylabel('Predicted Y')"
   ]
  },
  {
   "cell_type": "code",
   "execution_count": 66,
   "metadata": {},
   "outputs": [],
   "source": [
    "final_mse = mean_squared_error(y_test, y_pred)\n",
    "final_rmse = np.sqrt(final_mse)\n",
    "final_mae = mean_absolute_error(y_test, y_pred)"
   ]
  },
  {
   "cell_type": "code",
   "execution_count": 67,
   "metadata": {},
   "outputs": [
    {
     "data": {
      "text/plain": [
       "('MSE:', 4.832429123001742)"
      ]
     },
     "execution_count": 67,
     "metadata": {},
     "output_type": "execute_result"
    }
   ],
   "source": [
    "\"MSE:\", final_mse"
   ]
  },
  {
   "cell_type": "code",
   "execution_count": 68,
   "metadata": {},
   "outputs": [
    {
     "data": {
      "text/plain": [
       "('RMSE:', 2.198278672735043)"
      ]
     },
     "execution_count": 68,
     "metadata": {},
     "output_type": "execute_result"
    }
   ],
   "source": [
    "\"RMSE:\", final_rmse"
   ]
  },
  {
   "cell_type": "code",
   "execution_count": 69,
   "metadata": {},
   "outputs": [
    {
     "data": {
      "text/plain": [
       "('RMSE:', 1.5469163072850936)"
      ]
     },
     "execution_count": 69,
     "metadata": {},
     "output_type": "execute_result"
    }
   ],
   "source": [
    "\"RMSE:\", final_mae"
   ]
  },
  {
   "cell_type": "code",
   "execution_count": 70,
   "metadata": {},
   "outputs": [
    {
     "name": "stdout",
     "output_type": "stream",
     "text": [
      "Scores: [2.25355172 1.99070742 2.07545853 2.2255554  1.98744618 2.21091052\n",
      " 2.0847361  2.43249349 2.15632327 2.24720639]\n",
      "Mean: 2.1664389006674605\n",
      "Standard deviation: 0.1297476823814643\n"
     ]
    }
   ],
   "source": [
    "from sklearn.model_selection import cross_val_score\n",
    "\n",
    "final_scores = cross_val_score(final_model,  X_train, y_train,\n",
    "                                scoring=\"neg_mean_squared_error\", cv=10)\n",
    "final_rmse_scores = np.sqrt(-final_scores)\n",
    "display_scores(final_rmse_scores)"
   ]
  },
  {
   "cell_type": "markdown",
   "metadata": {},
   "source": [
    "#### Residual Plot:\n",
    "\n",
    "In regression analysis, the difference between the observed value of the dependent variable (y) and the predicted value (ŷ) is called the residual (e). Each data point has one residual.\n",
    "\n",
    "Residual = Observed value - Predicted value\n",
    "e = y - ŷ\n",
    "\n",
    "Both the sum and the mean of the residuals are equal to zero. That is, Σ e = 0 and e = 0."
   ]
  },
  {
   "cell_type": "code",
   "execution_count": 71,
   "metadata": {},
   "outputs": [
    {
     "data": {
      "image/png": "[encoded data removed]",
      "text/plain": [
       "<Figure size 432x288 with 1 Axes>"
      ]
     },
     "metadata": {
      "needs_background": "light"
     },
     "output_type": "display_data"
    }
   ],
   "source": [
    "plt.hist((y_test-y_pred),bins=50);"
   ]
  }
 ],
 "metadata": {
  "kernelspec": {
   "display_name": "Python 3",
   "language": "python",
   "name": "python3"
  },
  "language_info": {
   "codemirror_mode": {
    "name": "ipython",
    "version": 3
   },
   "file_extension": ".py",
   "mimetype": "text/x-python",
   "name": "python",
   "nbconvert_exporter": "python",
   "pygments_lexer": "ipython3",
   "version": "3.7.3"
  }
 },
 "nbformat": 4,
 "nbformat_minor": 2
}
